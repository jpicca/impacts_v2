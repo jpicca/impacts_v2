{
 "cells": [
  {
   "cell_type": "code",
   "execution_count": 1,
   "id": "ruled-phoenix",
   "metadata": {
    "collapsed": true,
    "jupyter": {
     "outputs_hidden": true
    }
   },
   "outputs": [
    {
     "name": "stderr",
     "output_type": "stream",
     "text": [
      "<ipython-input-1-b79608866b2d>:5: DeprecationWarning: The parser module is deprecated and will be removed in future versions of Python\n",
      "  import parser\n"
     ]
    }
   ],
   "source": [
    "import fiona\n",
    "import numpy as np\n",
    "import pyproj\n",
    "import shapely.geometry as sgeom\n",
    "import pathlib\n",
    "import zipfile"
   ]
  },
  {
   "cell_type": "code",
   "execution_count": 3,
   "id": "special-blast",
   "metadata": {},
   "outputs": [],
   "source": [
    "import json\n",
    "from io import StringIO\n",
    "\n",
    "from pygridder import pygridder as pgrid"
   ]
  },
  {
   "cell_type": "markdown",
   "id": "mineral-resolution",
   "metadata": {},
   "source": [
    "### Ensuring we can load ndfd file"
   ]
  },
  {
   "cell_type": "code",
   "execution_count": 4,
   "id": "amateur-billy",
   "metadata": {},
   "outputs": [],
   "source": [
    "ndfd_file = '../../dev/impacts-app/scripts/impacts-data/orig-gis-data/ndfd.npz'"
   ]
  },
  {
   "cell_type": "code",
   "execution_count": 5,
   "id": "chinese-logic",
   "metadata": {},
   "outputs": [],
   "source": [
    "with np.load(ndfd_file) as NPZ:\n",
    "    X = NPZ['X']\n",
    "    Y = NPZ['Y']\n",
    "    proj = pyproj.Proj(NPZ['srs'].item())"
   ]
  },
  {
   "cell_type": "code",
   "execution_count": 13,
   "id": "closing-netherlands",
   "metadata": {},
   "outputs": [],
   "source": [
    "G = pgrid.Gridder(X,Y,dx=4000)"
   ]
  },
  {
   "cell_type": "code",
   "execution_count": 14,
   "id": "diverse-newton",
   "metadata": {},
   "outputs": [],
   "source": [
    "hosp_file = '../../dev/impacts-app/scripts/impacts-data/orig-gis-data/hospitals.zip'"
   ]
  },
  {
   "cell_type": "code",
   "execution_count": 15,
   "id": "rocky-monster",
   "metadata": {},
   "outputs": [],
   "source": [
    "zipped = zipfile.ZipFile(hosp_file)"
   ]
  },
  {
   "cell_type": "code",
   "execution_count": 18,
   "id": "numerous-barcelona",
   "metadata": {},
   "outputs": [],
   "source": [
    "zipped.extractall('./example_files/')"
   ]
  },
  {
   "cell_type": "code",
   "execution_count": 19,
   "id": "intense-animation",
   "metadata": {},
   "outputs": [],
   "source": [
    "shp_file = './example_files/hospitals/hospitals.shp'"
   ]
  },
  {
   "cell_type": "code",
   "execution_count": 21,
   "id": "surface-league",
   "metadata": {},
   "outputs": [
    {
     "name": "stdout",
     "output_type": "stream",
     "text": [
      "7496\n"
     ]
    }
   ],
   "source": [
    "with fiona.open(shp_file) as c:\n",
    "    print(len(c))"
   ]
  },
  {
   "cell_type": "markdown",
   "id": "retired-draft",
   "metadata": {},
   "source": [
    "### Reading & Gridding US Public schools file"
   ]
  },
  {
   "cell_type": "code",
   "execution_count": 22,
   "id": "remarkable-richmond",
   "metadata": {},
   "outputs": [],
   "source": [
    "schools_file = './example_files/Public_Schools-shp.zip'"
   ]
  },
  {
   "cell_type": "code",
   "execution_count": 23,
   "id": "split-usage",
   "metadata": {},
   "outputs": [],
   "source": [
    "zipped = zipfile.ZipFile(schools_file)"
   ]
  },
  {
   "cell_type": "code",
   "execution_count": 24,
   "id": "framed-wichita",
   "metadata": {},
   "outputs": [],
   "source": [
    "zipped.extractall('./example_files/')"
   ]
  },
  {
   "cell_type": "code",
   "execution_count": 25,
   "id": "informal-attack",
   "metadata": {},
   "outputs": [],
   "source": [
    "shp_file = './example_files/PublicSchools.shp'"
   ]
  },
  {
   "cell_type": "code",
   "execution_count": 61,
   "id": "hispanic-morris",
   "metadata": {},
   "outputs": [],
   "source": [
    "schools = G.make_empty_grid()"
   ]
  },
  {
   "cell_type": "code",
   "execution_count": 62,
   "id": "ancient-commander",
   "metadata": {},
   "outputs": [],
   "source": [
    "slons = []\n",
    "slats = []\n",
    "\n",
    "with fiona.open(shp_file) as SHP:\n",
    "    for shp in SHP:\n",
    "        props = shp['properties']\n",
    "        \n",
    "        if props['LONGITUDE'] > -127.37 and props['LONGITUDE'] < -67.31:\n",
    "            slons.append(props['LONGITUDE'])\n",
    "            slats.append(props['LATITUDE'])\n",
    "        "
   ]
  },
  {
   "cell_type": "code",
   "execution_count": 63,
   "id": "smoking-nashville",
   "metadata": {},
   "outputs": [],
   "source": [
    "slons, slats = proj(slons,slats)"
   ]
  },
  {
   "cell_type": "code",
   "execution_count": 64,
   "id": "incomplete-athletics",
   "metadata": {},
   "outputs": [],
   "source": [
    "points = G.grid_points(slons,slats)"
   ]
  },
  {
   "cell_type": "code",
   "execution_count": 65,
   "id": "proud-moral",
   "metadata": {},
   "outputs": [],
   "source": [
    "for point in points:\n",
    "    schools[point] += 1   "
   ]
  },
  {
   "cell_type": "code",
   "execution_count": 66,
   "id": "derived-window",
   "metadata": {},
   "outputs": [
    {
     "data": {
      "text/plain": [
       "230"
      ]
     },
     "execution_count": 66,
     "metadata": {},
     "output_type": "execute_result"
    }
   ],
   "source": [
    "np.max(schools)"
   ]
  },
  {
   "cell_type": "markdown",
   "id": "toxic-first",
   "metadata": {},
   "source": [
    "### Reading & Gridding US Private School Files"
   ]
  },
  {
   "cell_type": "code",
   "execution_count": 68,
   "id": "widespread-hydrogen",
   "metadata": {},
   "outputs": [],
   "source": [
    "pvschools_file = './example_files/Private_Schools-shp.zip'"
   ]
  },
  {
   "cell_type": "code",
   "execution_count": 69,
   "id": "intellectual-transcription",
   "metadata": {},
   "outputs": [],
   "source": [
    "zipped = zipfile.ZipFile(pvschools_file)\n",
    "zipped.extractall('./example_files/')"
   ]
  },
  {
   "cell_type": "code",
   "execution_count": 73,
   "id": "executed-surfing",
   "metadata": {},
   "outputs": [],
   "source": [
    "shp_file = './example_files/Private_Schools.shp'"
   ]
  },
  {
   "cell_type": "code",
   "execution_count": 71,
   "id": "portable-distributor",
   "metadata": {},
   "outputs": [],
   "source": [
    "pvschools = G.make_empty_grid()"
   ]
  },
  {
   "cell_type": "code",
   "execution_count": 74,
   "id": "choice-italic",
   "metadata": {},
   "outputs": [],
   "source": [
    "slons = []\n",
    "slats = []\n",
    "\n",
    "with fiona.open(shp_file) as SHP:\n",
    "    for shp in SHP:\n",
    "        props = shp['properties']\n",
    "        \n",
    "        if props['LONGITUDE'] > -127.37 and props['LONGITUDE'] < -67.31:\n",
    "            slons.append(props['LONGITUDE'])\n",
    "            slats.append(props['LATITUDE'])"
   ]
  },
  {
   "cell_type": "code",
   "execution_count": 75,
   "id": "magnetic-contents",
   "metadata": {},
   "outputs": [],
   "source": [
    "slons, slats = proj(slons,slats)"
   ]
  },
  {
   "cell_type": "code",
   "execution_count": 76,
   "id": "indie-arbor",
   "metadata": {},
   "outputs": [],
   "source": [
    "points = G.grid_points(slons,slats)"
   ]
  },
  {
   "cell_type": "code",
   "execution_count": 77,
   "id": "false-analysis",
   "metadata": {},
   "outputs": [],
   "source": [
    "for point in points:\n",
    "    pvschools[point] += 1   "
   ]
  },
  {
   "cell_type": "code",
   "execution_count": 80,
   "id": "indoor-lucas",
   "metadata": {},
   "outputs": [],
   "source": [
    "tot_schools = schools + pvschools"
   ]
  },
  {
   "cell_type": "code",
   "execution_count": 82,
   "id": "worse-elimination",
   "metadata": {},
   "outputs": [],
   "source": [
    "np.savez_compressed('./schools.npz',schools=tot_schools)"
   ]
  },
  {
   "cell_type": "markdown",
   "id": "geographic-fusion",
   "metadata": {},
   "source": [
    "### Add to impact-grids.npz"
   ]
  },
  {
   "cell_type": "code",
   "execution_count": 88,
   "id": "civilian-moderator",
   "metadata": {},
   "outputs": [],
   "source": [
    "temp_dict = {}"
   ]
  },
  {
   "cell_type": "code",
   "execution_count": 83,
   "id": "aggregate-observation",
   "metadata": {},
   "outputs": [],
   "source": [
    "impact_grids = np.load('../scripts/pas-input-data/impact-grids.npz')"
   ]
  },
  {
   "cell_type": "code",
   "execution_count": 89,
   "id": "urban-protest",
   "metadata": {},
   "outputs": [],
   "source": [
    "for key in impact_grids.keys():\n",
    "    temp_dict[key] = impact_grids[key]"
   ]
  },
  {
   "cell_type": "code",
   "execution_count": 95,
   "id": "treated-automation",
   "metadata": {},
   "outputs": [],
   "source": [
    "temp_dict['schools'] = tot_schools"
   ]
  },
  {
   "cell_type": "code",
   "execution_count": 96,
   "id": "immediate-miller",
   "metadata": {},
   "outputs": [],
   "source": [
    "np.savez_compressed('./impact-grids-new.npz',**temp_dict)"
   ]
  },
  {
   "cell_type": "code",
   "execution_count": null,
   "id": "mobile-bullet",
   "metadata": {},
   "outputs": [],
   "source": []
  }
 ],
 "metadata": {
  "kernelspec": {
   "display_name": "Python 3",
   "language": "python",
   "name": "python3"
  },
  "language_info": {
   "codemirror_mode": {
    "name": "ipython",
    "version": 3
   },
   "file_extension": ".py",
   "mimetype": "text/x-python",
   "name": "python",
   "nbconvert_exporter": "python",
   "pygments_lexer": "ipython3",
   "version": "3.8.8"
  }
 },
 "nbformat": 4,
 "nbformat_minor": 5
}

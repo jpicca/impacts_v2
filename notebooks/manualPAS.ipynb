{
 "cells": [
  {
   "cell_type": "markdown",
   "id": "professional-kingston",
   "metadata": {},
   "source": [
    "The purpose of this notebook is to manually generate psv sim files for desired cases."
   ]
  },
  {
   "cell_type": "code",
   "execution_count": 1,
   "id": "innovative-tsunami",
   "metadata": {
    "execution": {
     "iopub.execute_input": "2022-04-05T16:14:31.056874Z",
     "iopub.status.busy": "2022-04-05T16:14:31.056598Z",
     "iopub.status.idle": "2022-04-05T16:14:31.178711Z",
     "shell.execute_reply": "2022-04-05T16:14:31.177481Z",
     "shell.execute_reply.started": "2022-04-05T16:14:31.056806Z"
    },
    "tags": []
   },
   "outputs": [
    {
     "name": "stdout",
     "output_type": "stream",
     "text": [
      "/Users/josephpicca/opt/anaconda3/envs/impacts-prod/bin/python\n"
     ]
    }
   ],
   "source": [
    "!which python"
   ]
  },
  {
   "cell_type": "code",
   "execution_count": 2,
   "id": "civic-florist",
   "metadata": {
    "execution": {
     "iopub.execute_input": "2022-04-05T16:14:31.852642Z",
     "iopub.status.busy": "2022-04-05T16:14:31.852402Z",
     "iopub.status.idle": "2022-04-05T16:14:32.840427Z",
     "shell.execute_reply": "2022-04-05T16:14:32.839870Z",
     "shell.execute_reply.started": "2022-04-05T16:14:31.852615Z"
    },
    "tags": []
   },
   "outputs": [],
   "source": [
    "import datetime\n",
    "import gzip\n",
    "import pathlib\n",
    "from os import environ as E\n",
    "\n",
    "#import geojson\n",
    "import numpy as np\n",
    "import pyproj\n",
    "from scipy import stats\n",
    "\n",
    "import dclasses as dc\n",
    "import pygrib as pg"
   ]
  },
  {
   "cell_type": "code",
   "execution_count": 3,
   "id": "hybrid-lunch",
   "metadata": {
    "execution": {
     "iopub.execute_input": "2022-04-05T16:14:32.841809Z",
     "iopub.status.busy": "2022-04-05T16:14:32.841656Z",
     "iopub.status.idle": "2022-04-05T16:14:33.244491Z",
     "shell.execute_reply": "2022-04-05T16:14:33.243844Z",
     "shell.execute_reply.started": "2022-04-05T16:14:32.841792Z"
    },
    "tags": []
   },
   "outputs": [],
   "source": [
    "import io\n",
    "import pandas as pd"
   ]
  },
  {
   "cell_type": "code",
   "execution_count": 4,
   "id": "proof-terror",
   "metadata": {
    "execution": {
     "iopub.execute_input": "2022-04-05T16:14:33.246155Z",
     "iopub.status.busy": "2022-04-05T16:14:33.245981Z",
     "iopub.status.idle": "2022-04-05T16:14:33.744807Z",
     "shell.execute_reply": "2022-04-05T16:14:33.743976Z",
     "shell.execute_reply.started": "2022-04-05T16:14:33.246134Z"
    },
    "tags": []
   },
   "outputs": [],
   "source": [
    "# This is purely for plotting purposes\n",
    "\n",
    "import pyproj\n",
    "import matplotlib.pyplot as plt\n",
    "import cartopy.crs as ccrs\n",
    "import cartopy.feature as cfeature\n",
    "import cartopy\n",
    "import pygridder as pgrid\n",
    "\n",
    "import warnings\n",
    "warnings.filterwarnings('ignore')"
   ]
  },
  {
   "cell_type": "code",
   "execution_count": 5,
   "id": "respective-cradle",
   "metadata": {
    "execution": {
     "iopub.execute_input": "2022-04-05T16:14:41.048349Z",
     "iopub.status.busy": "2022-04-05T16:14:41.048111Z",
     "iopub.status.idle": "2022-04-05T16:14:41.054184Z",
     "shell.execute_reply": "2022-04-05T16:14:41.053502Z",
     "shell.execute_reply.started": "2022-04-05T16:14:41.048323Z"
    },
    "tags": []
   },
   "outputs": [],
   "source": [
    "### Parse CLI Arguments ###\n",
    "ndfd_file = pathlib.Path('../data/output/examples/20110427/ndfd/torn_day1_grib2_1630_20110427162927')\n",
    "\n",
    "pp_file = pathlib.Path('./test.npz')\n",
    "ndfd_area = 25\n",
    "nsims = 10000\n",
    "tornado_direction_distribution = stats.norm(50, 15)\n",
    "coolseason = [1, 2, 3, 4, 11, 12]"
   ]
  },
  {
   "cell_type": "code",
   "execution_count": 6,
   "id": "congressional-spank",
   "metadata": {
    "execution": {
     "iopub.execute_input": "2022-04-05T16:14:43.720542Z",
     "iopub.status.busy": "2022-04-05T16:14:43.720284Z",
     "iopub.status.idle": "2022-04-05T16:14:43.723955Z",
     "shell.execute_reply": "2022-04-05T16:14:43.722960Z",
     "shell.execute_reply.started": "2022-04-05T16:14:43.720517Z"
    },
    "tags": []
   },
   "outputs": [],
   "source": [
    "impacts_data_root = pathlib.Path('../scripts/pas-input-data/')"
   ]
  },
  {
   "cell_type": "code",
   "execution_count": 7,
   "id": "satisfied-perception",
   "metadata": {
    "execution": {
     "iopub.execute_input": "2022-04-05T16:14:46.069364Z",
     "iopub.status.busy": "2022-04-05T16:14:46.069142Z",
     "iopub.status.idle": "2022-04-05T16:14:46.074187Z",
     "shell.execute_reply": "2022-04-05T16:14:46.073517Z",
     "shell.execute_reply.started": "2022-04-05T16:14:46.069340Z"
    },
    "tags": []
   },
   "outputs": [],
   "source": [
    "outdir = pathlib.Path('../data/',\"output\").resolve()\n",
    "outdir.mkdir(exist_ok=True)"
   ]
  },
  {
   "cell_type": "code",
   "execution_count": 8,
   "id": "composite-broadcast",
   "metadata": {
    "execution": {
     "iopub.execute_input": "2022-04-05T16:14:47.120362Z",
     "iopub.status.busy": "2022-04-05T16:14:47.120139Z",
     "iopub.status.idle": "2022-04-05T16:14:47.125625Z",
     "shell.execute_reply": "2022-04-05T16:14:47.125036Z",
     "shell.execute_reply.started": "2022-04-05T16:14:47.120336Z"
    },
    "tags": []
   },
   "outputs": [],
   "source": [
    "# Read grib file\n",
    "def read_ndfd_grib_file(grbfile):\n",
    "    \"\"\" Read an SPC Outlook NDFD Grib2 File \"\"\"\n",
    "    with pg.open(grbfile.as_posix()) as GRB:\n",
    "        try:\n",
    "            vals = GRB[1].values.filled(-1)\n",
    "        except AttributeError:\n",
    "            vals = GRB[1].values\n",
    "    return vals"
   ]
  },
  {
   "cell_type": "code",
   "execution_count": 9,
   "id": "incorporated-savage",
   "metadata": {
    "execution": {
     "iopub.execute_input": "2022-04-05T16:14:48.459973Z",
     "iopub.status.busy": "2022-04-05T16:14:48.459747Z",
     "iopub.status.idle": "2022-04-05T16:14:48.464337Z",
     "shell.execute_reply": "2022-04-05T16:14:48.463544Z",
     "shell.execute_reply.started": "2022-04-05T16:14:48.459948Z"
    },
    "tags": []
   },
   "outputs": [],
   "source": [
    "date_in_name = ndfd_file.name.split(\"_\")[-1]\n",
    "dt = datetime.datetime.strptime(date_in_name, \"%Y%m%d%H%M%S\")\n",
    "outfile = outdir.joinpath(f\"{dt.strftime('%Y%m%d%H%M%S')}_directional.psv.gz\")"
   ]
  },
  {
   "cell_type": "code",
   "execution_count": 10,
   "id": "rough-blend",
   "metadata": {
    "execution": {
     "iopub.execute_input": "2022-04-05T16:14:51.178411Z",
     "iopub.status.busy": "2022-04-05T16:14:51.178154Z",
     "iopub.status.idle": "2022-04-05T16:14:51.258310Z",
     "shell.execute_reply": "2022-04-05T16:14:51.257503Z",
     "shell.execute_reply.started": "2022-04-05T16:14:51.178383Z"
    },
    "tags": []
   },
   "outputs": [],
   "source": [
    "torn = read_ndfd_grib_file(ndfd_file)\n",
    "# fcsts = np.load('test.npz')\n",
    "# Multiply 100 to convert from decimal to percent\n",
    "# torn = fcsts['all_fcst']*100"
   ]
  },
  {
   "cell_type": "code",
   "execution_count": 11,
   "id": "dedicated-lindsay",
   "metadata": {
    "execution": {
     "iopub.execute_input": "2022-04-05T16:14:51.335766Z",
     "iopub.status.busy": "2022-04-05T16:14:51.335546Z",
     "iopub.status.idle": "2022-04-05T16:14:51.364004Z",
     "shell.execute_reply": "2022-04-05T16:14:51.363448Z",
     "shell.execute_reply.started": "2022-04-05T16:14:51.335742Z"
    },
    "tags": []
   },
   "outputs": [
    {
     "data": {
      "text/plain": [
       "array([-1.,  0.,  2.,  5., 10., 15., 30., 45.])"
      ]
     },
     "execution_count": 11,
     "metadata": {},
     "output_type": "execute_result"
    }
   ],
   "source": [
    "np.unique(torn)"
   ]
  },
  {
   "cell_type": "markdown",
   "id": "together-privilege",
   "metadata": {},
   "source": [
    "<hr>"
   ]
  },
  {
   "cell_type": "markdown",
   "id": "dedicated-bangkok",
   "metadata": {},
   "source": [
    "#### Editing probabilities"
   ]
  },
  {
   "cell_type": "code",
   "execution_count": 44,
   "id": "endless-immune",
   "metadata": {
    "execution": {
     "iopub.execute_input": "2021-09-23T16:19:22.473856Z",
     "iopub.status.busy": "2021-09-23T16:19:22.473634Z",
     "iopub.status.idle": "2021-09-23T16:19:22.536369Z",
     "shell.execute_reply": "2021-09-23T16:19:22.535744Z",
     "shell.execute_reply.started": "2021-09-23T16:19:22.473833Z"
    },
    "tags": []
   },
   "outputs": [],
   "source": [
    "torn = np.where(np.isin(igrids.wfo, ['JAN', 'MOB', 'BMX', 'TLH','FFC','HUN','MEG']), 30.0, torn)"
   ]
  },
  {
   "cell_type": "code",
   "execution_count": 46,
   "id": "sound-saying",
   "metadata": {
    "execution": {
     "iopub.execute_input": "2021-09-23T16:19:37.362801Z",
     "iopub.status.busy": "2021-09-23T16:19:37.362576Z",
     "iopub.status.idle": "2021-09-23T16:19:37.425055Z",
     "shell.execute_reply": "2021-09-23T16:19:37.424390Z",
     "shell.execute_reply.started": "2021-09-23T16:19:37.362777Z"
    },
    "tags": []
   },
   "outputs": [],
   "source": [
    "sigtorn = np.where(np.isin(igrids.wfo, ['JAN', 'MOB', 'BMX', 'TLH','FFC','HUN','MEG']), 10, sigtorn)"
   ]
  },
  {
   "cell_type": "code",
   "execution_count": null,
   "id": "graphic-thesis",
   "metadata": {},
   "outputs": [],
   "source": []
  },
  {
   "cell_type": "markdown",
   "id": "intended-atlas",
   "metadata": {},
   "source": [
    "<hr>"
   ]
  },
  {
   "cell_type": "markdown",
   "id": "colored-treatment",
   "metadata": {},
   "source": [
    "#### Finer continuous probs"
   ]
  },
  {
   "cell_type": "code",
   "execution_count": 19,
   "id": "attempted-leonard",
   "metadata": {
    "execution": {
     "iopub.execute_input": "2022-04-05T16:33:50.792228Z",
     "iopub.status.busy": "2022-04-05T16:33:50.791974Z",
     "iopub.status.idle": "2022-04-05T16:33:50.795320Z",
     "shell.execute_reply": "2022-04-05T16:33:50.794575Z",
     "shell.execute_reply.started": "2022-04-05T16:33:50.792199Z"
    },
    "tags": []
   },
   "outputs": [],
   "source": [
    "from skimage import measure\n",
    "from scipy import interpolate as I"
   ]
  },
  {
   "cell_type": "code",
   "execution_count": 121,
   "id": "velvet-completion",
   "metadata": {
    "execution": {
     "iopub.execute_input": "2022-04-05T17:38:12.129747Z",
     "iopub.status.busy": "2022-04-05T17:38:12.129524Z",
     "iopub.status.idle": "2022-04-05T17:38:12.133920Z",
     "shell.execute_reply": "2022-04-05T17:38:12.133033Z",
     "shell.execute_reply.started": "2022-04-05T17:38:12.129721Z"
    },
    "tags": []
   },
   "outputs": [],
   "source": [
    "def interpol(image):\n",
    "    valid_mask = image > 0\n",
    "    coords = np.array(np.nonzero(valid_mask)).T\n",
    "    values = image[valid_mask]\n",
    "    INTERP = I.LinearNDInterpolator(coords, values, fill_value=0)\n",
    "    new_image = INTERP(list(np.ndindex(image.shape))).reshape(image.shape)\n",
    "    return new_image"
   ]
  },
  {
   "cell_type": "code",
   "execution_count": 160,
   "id": "capable-teacher",
   "metadata": {
    "execution": {
     "iopub.execute_input": "2022-04-05T17:57:54.377398Z",
     "iopub.status.busy": "2022-04-05T17:57:54.377169Z",
     "iopub.status.idle": "2022-04-05T17:57:55.313027Z",
     "shell.execute_reply": "2022-04-05T17:57:55.312252Z",
     "shell.execute_reply.started": "2022-04-05T17:57:54.377373Z"
    },
    "tags": []
   },
   "outputs": [],
   "source": [
    "vals = [1, 2, 5, 10, 15, 30, 45, 60]\n",
    "continuous = np.zeros_like(torn)\n",
    "contours = [measure.find_contours(torn, v-1e-10) for v in vals]\n",
    "for tcontours, val in zip(contours, vals):\n",
    "    for contour in tcontours:\n",
    "        x, y = zip(*contour.astype(int))\n",
    "        continuous[x, y] = val\n",
    "continuous = interpol(continuous) #.astype(int, copy=False)\n",
    "rounded = (continuous*2).round()/2\n",
    "rounded[torn < vals[0]] = 0"
   ]
  },
  {
   "cell_type": "code",
   "execution_count": 161,
   "id": "experimental-secret",
   "metadata": {
    "execution": {
     "iopub.execute_input": "2022-04-05T17:57:59.754929Z",
     "iopub.status.busy": "2022-04-05T17:57:59.754701Z",
     "iopub.status.idle": "2022-04-05T17:57:59.785164Z",
     "shell.execute_reply": "2022-04-05T17:57:59.784448Z",
     "shell.execute_reply.started": "2022-04-05T17:57:59.754904Z"
    },
    "tags": []
   },
   "outputs": [
    {
     "data": {
      "text/plain": [
       "array([ 0. ,  2. ,  2.5,  3. ,  3.5,  4. ,  4.5,  5. ,  5.5,  6. ,  6.5,\n",
       "        7. ,  7.5,  8. ,  8.5,  9. ,  9.5, 10. , 10.5, 11. , 11.5, 12. ,\n",
       "       12.5, 13. , 13.5, 14. , 14.5, 15. , 15.5, 16. , 16.5, 17. , 17.5,\n",
       "       18. , 18.5, 19. , 19.5, 20. , 20.5, 21. , 21.5, 22. , 22.5, 23. ,\n",
       "       23.5, 24. , 24.5, 25. , 25.5, 26. , 26.5, 27. , 27.5, 28. , 28.5,\n",
       "       29. , 29.5, 30. , 30.5, 31. , 31.5, 32. , 32.5, 33. , 33.5, 34. ,\n",
       "       34.5, 35. , 35.5, 36. , 36.5, 37. , 37.5, 38. , 38.5, 39. , 39.5,\n",
       "       40. , 40.5, 41. , 41.5, 42. , 42.5, 43. , 43.5, 44. , 44.5, 45. ])"
      ]
     },
     "execution_count": 161,
     "metadata": {},
     "output_type": "execute_result"
    }
   ],
   "source": [
    "np.unique(rounded)"
   ]
  },
  {
   "cell_type": "code",
   "execution_count": 169,
   "id": "agricultural-peoples",
   "metadata": {
    "execution": {
     "iopub.execute_input": "2022-04-05T17:59:25.145701Z",
     "iopub.status.busy": "2022-04-05T17:59:25.145474Z",
     "iopub.status.idle": "2022-04-05T17:59:26.024341Z",
     "shell.execute_reply": "2022-04-05T17:59:26.023795Z",
     "shell.execute_reply.started": "2022-04-05T17:59:25.145675Z"
    },
    "tags": []
   },
   "outputs": [
    {
     "data": {
      "text/plain": [
       "<cartopy.mpl.feature_artist.FeatureArtist at 0x7f9909974490>"
      ]
     },
     "execution_count": 169,
     "metadata": {},
     "output_type": "execute_result"
    },
    {
     "data": {
      "image/png": "[encoded data removed]",
      "text/plain": [
       "<Figure size 1152x648 with 2 Axes>"
      ]
     },
     "metadata": {
      "needs_background": "light"
     },
     "output_type": "display_data"
    }
   ],
   "source": [
    "fig = plt.figure(figsize=(16, 9))\n",
    "ax = plt.axes(projection=ccrs.PlateCarree())\n",
    "ax.set_extent([-100,-70,25,50])\n",
    "ax.add_feature(cfeature.STATES, linewidth=0.5)\n",
    "plt.pcolormesh(igrids.lons,igrids.lats,rounded,transform=ccrs.PlateCarree(),cmap=continuous_cmap,vmin=0,vmax=60)\n",
    "plt.colorbar()\n",
    "\n",
    "ax.coastlines()"
   ]
  },
  {
   "cell_type": "code",
   "execution_count": null,
   "id": "decent-blogger",
   "metadata": {},
   "outputs": [],
   "source": []
  },
  {
   "cell_type": "code",
   "execution_count": null,
   "id": "vertical-windows",
   "metadata": {},
   "outputs": [],
   "source": []
  },
  {
   "cell_type": "code",
   "execution_count": null,
   "id": "clinical-polls",
   "metadata": {},
   "outputs": [],
   "source": []
  },
  {
   "cell_type": "code",
   "execution_count": null,
   "id": "accessible-converter",
   "metadata": {},
   "outputs": [],
   "source": []
  },
  {
   "cell_type": "code",
   "execution_count": null,
   "id": "stainless-agriculture",
   "metadata": {},
   "outputs": [],
   "source": []
  },
  {
   "cell_type": "markdown",
   "id": "loved-greene",
   "metadata": {},
   "source": [
    "<hr>"
   ]
  },
  {
   "cell_type": "code",
   "execution_count": 17,
   "id": "executed-format",
   "metadata": {
    "execution": {
     "iopub.execute_input": "2022-04-01T14:49:50.574048Z",
     "iopub.status.busy": "2022-04-01T14:49:50.573809Z",
     "iopub.status.idle": "2022-04-01T14:49:51.674480Z",
     "shell.execute_reply": "2022-04-01T14:49:51.673848Z",
     "shell.execute_reply.started": "2022-04-01T14:49:50.574023Z"
    },
    "tags": []
   },
   "outputs": [],
   "source": [
    "continuous_torn = dc.make_continuous(torn)"
   ]
  },
  {
   "cell_type": "code",
   "execution_count": 45,
   "id": "finished-sheffield",
   "metadata": {
    "execution": {
     "iopub.execute_input": "2021-09-23T16:19:34.330912Z",
     "iopub.status.busy": "2021-09-23T16:19:34.330682Z",
     "iopub.status.idle": "2021-09-23T16:19:34.353734Z",
     "shell.execute_reply": "2021-09-23T16:19:34.352802Z",
     "shell.execute_reply.started": "2021-09-23T16:19:34.330888Z"
    },
    "tags": []
   },
   "outputs": [],
   "source": [
    "sigtorn = read_ndfd_grib_file(ndfd_file.with_name(ndfd_file.name.replace(\"torn\", \"sigtorn\"))).astype(int)\n",
    "\n",
    "# sigtorn = fcsts['sig_fcst']*100"
   ]
  },
  {
   "cell_type": "code",
   "execution_count": 48,
   "id": "occupational-hurricane",
   "metadata": {
    "execution": {
     "iopub.execute_input": "2021-09-23T16:19:42.795174Z",
     "iopub.status.busy": "2021-09-23T16:19:42.794947Z",
     "iopub.status.idle": "2021-09-23T16:19:42.801694Z",
     "shell.execute_reply": "2021-09-23T16:19:42.801017Z",
     "shell.execute_reply.started": "2021-09-23T16:19:42.795151Z"
    },
    "tags": []
   },
   "outputs": [],
   "source": [
    "sigtorn[sigtorn > 0] = 1\n",
    "if (torn.max() >= 30) and (sigtorn.max() > 0):\n",
    "    sigtorn[torn >= 15] += 1\n",
    "sigtorn_1d = sigtorn.ravel()\n",
    "usesig = True if (dt.month in coolseason) or (sigtorn.max() > 0) else False"
   ]
  },
  {
   "cell_type": "code",
   "execution_count": 49,
   "id": "crucial-worth",
   "metadata": {
    "execution": {
     "iopub.execute_input": "2021-09-23T16:19:46.843329Z",
     "iopub.status.busy": "2021-09-23T16:19:46.843109Z",
     "iopub.status.idle": "2021-09-23T16:19:46.873970Z",
     "shell.execute_reply": "2021-09-23T16:19:46.873299Z",
     "shell.execute_reply.started": "2021-09-23T16:19:46.843305Z"
    },
    "tags": []
   },
   "outputs": [
    {
     "name": "stdout",
     "output_type": "stream",
     "text": [
      "Running 10,000 Tornado Count Simulations\n"
     ]
    }
   ],
   "source": [
    "### Run Tornado Count Simulation ###\n",
    "print(f\"Running {nsims:,d} Tornado Count Simulations\")\n",
    "tornado_dists = dc.TornadoDistributions()\n",
    "counts = np.zeros((5, nsims), dtype=int)\n",
    "counts[0, :] = (tornado_dists.f02.rvs(nsims) * ndfd_area * (torn == 2).sum()).astype(int)\n",
    "counts[1, :] = (tornado_dists.f05.rvs(nsims) * ndfd_area * (torn == 5).sum()).astype(int)\n",
    "counts[2, :] = (tornado_dists.f10.rvs(nsims) * ndfd_area * (torn == 10).sum()).astype(int)\n",
    "counts[3, :] = (tornado_dists.f15.rvs(nsims) * ndfd_area * (torn == 15).sum()).astype(int)\n",
    "counts[4, :] = (tornado_dists.f30.rvs(nsims) * ndfd_area * (torn >= 30).sum()).astype(int)"
   ]
  },
  {
   "cell_type": "code",
   "execution_count": 145,
   "id": "satisfactory-tumor",
   "metadata": {
    "execution": {
     "iopub.execute_input": "2022-04-05T17:52:09.262053Z",
     "iopub.status.busy": "2022-04-05T17:52:09.261824Z",
     "iopub.status.idle": "2022-04-05T17:52:10.651255Z",
     "shell.execute_reply": "2022-04-05T17:52:10.650767Z",
     "shell.execute_reply.started": "2022-04-05T17:52:09.262028Z"
    },
    "tags": []
   },
   "outputs": [],
   "source": [
    "### Setup Impact Simulation ###\n",
    "igrids = dc.ImpactGrids(impacts_data_root)"
   ]
  },
  {
   "cell_type": "code",
   "execution_count": 50,
   "id": "atmospheric-amsterdam",
   "metadata": {
    "execution": {
     "iopub.execute_input": "2021-09-23T16:19:52.510110Z",
     "iopub.status.busy": "2021-09-23T16:19:52.509886Z",
     "iopub.status.idle": "2021-09-23T16:19:53.058459Z",
     "shell.execute_reply": "2021-09-23T16:19:53.058029Z",
     "shell.execute_reply.started": "2021-09-23T16:19:52.510087Z"
    },
    "tags": []
   },
   "outputs": [],
   "source": [
    "scounts = counts.sum(axis=1)\n",
    "inds02 = dc.weighted_choice(prob=2, probs=torn, cprobs=continuous_torn, size=scounts[0])\n",
    "inds05 = dc.weighted_choice(prob=5, probs=torn, cprobs=continuous_torn, size=scounts[1])\n",
    "inds10 = dc.weighted_choice(prob=10, probs=torn, cprobs=continuous_torn, size=scounts[2])\n",
    "inds15 = dc.weighted_choice(prob=15, probs=torn, cprobs=continuous_torn, size=scounts[3])\n",
    "inds30 = dc.weighted_choice(prob=30, probs=torn, cprobs=continuous_torn, size=scounts[4])\n",
    "inds = dc.flatten_list([inds02, inds05, inds10, inds15, inds30])"
   ]
  },
  {
   "cell_type": "code",
   "execution_count": 51,
   "id": "single-oregon",
   "metadata": {
    "execution": {
     "iopub.execute_input": "2021-09-23T16:19:55.900557Z",
     "iopub.status.busy": "2021-09-23T16:19:55.900301Z",
     "iopub.status.idle": "2021-09-23T16:19:55.927516Z",
     "shell.execute_reply": "2021-09-23T16:19:55.926857Z",
     "shell.execute_reply.started": "2021-09-23T16:19:55.900529Z"
    },
    "tags": []
   },
   "outputs": [],
   "source": [
    "non_sig_inds = sigtorn_1d[inds] == 0\n",
    "single_sig_inds = sigtorn_1d[inds] == 1\n",
    "double_sig_inds = sigtorn_1d[inds] == 2"
   ]
  },
  {
   "cell_type": "code",
   "execution_count": 52,
   "id": "casual-blond",
   "metadata": {
    "execution": {
     "iopub.execute_input": "2021-09-23T16:20:00.555085Z",
     "iopub.status.busy": "2021-09-23T16:20:00.554838Z",
     "iopub.status.idle": "2021-09-23T16:20:00.558501Z",
     "shell.execute_reply": "2021-09-23T16:20:00.557812Z",
     "shell.execute_reply.started": "2021-09-23T16:20:00.555059Z"
    },
    "tags": []
   },
   "outputs": [],
   "source": [
    "if usesig:\n",
    "    single_sig_inds += non_sig_inds\n",
    "    non_sig_inds[:] = False"
   ]
  },
  {
   "cell_type": "code",
   "execution_count": 53,
   "id": "concrete-vienna",
   "metadata": {
    "execution": {
     "iopub.execute_input": "2021-09-23T16:20:01.787967Z",
     "iopub.status.busy": "2021-09-23T16:20:01.787703Z",
     "iopub.status.idle": "2021-09-23T16:20:01.796674Z",
     "shell.execute_reply": "2021-09-23T16:20:01.796025Z",
     "shell.execute_reply.started": "2021-09-23T16:20:01.787926Z"
    },
    "tags": []
   },
   "outputs": [],
   "source": [
    "# Handle Locations\n",
    "non_sig_loc_inds = inds[non_sig_inds]\n",
    "single_sig_loc_inds = inds[single_sig_inds]\n",
    "double_sig_loc_inds = inds[double_sig_inds]"
   ]
  },
  {
   "cell_type": "code",
   "execution_count": 54,
   "id": "cathedral-pound",
   "metadata": {
    "execution": {
     "iopub.execute_input": "2021-09-23T16:20:03.725354Z",
     "iopub.status.busy": "2021-09-23T16:20:03.725099Z",
     "iopub.status.idle": "2021-09-23T16:20:03.792235Z",
     "shell.execute_reply": "2021-09-23T16:20:03.791594Z",
     "shell.execute_reply.started": "2021-09-23T16:20:03.725328Z"
    },
    "tags": []
   },
   "outputs": [],
   "source": [
    "# Handle Ratings\n",
    "_mags=[0, 1, 2, 3, 4, 5]\n",
    "non_sig_ratings = np.random.choice(_mags, size=non_sig_inds.sum(),\n",
    "                                    replace=True, p=tornado_dists.r_nonsig)\n",
    "single_sig_ratings = np.random.choice(_mags, size=single_sig_inds.sum(),\n",
    "                                        replace=True, p=tornado_dists.r_singlesig)\n",
    "double_sig_ratings = np.random.choice(_mags, size=double_sig_inds.sum(),\n",
    "                                            replace=True, p=tornado_dists.r_doublesig)"
   ]
  },
  {
   "cell_type": "code",
   "execution_count": 55,
   "id": "approved-humanitarian",
   "metadata": {
    "execution": {
     "iopub.execute_input": "2021-09-23T16:20:05.196068Z",
     "iopub.status.busy": "2021-09-23T16:20:05.195850Z",
     "iopub.status.idle": "2021-09-23T16:20:05.294331Z",
     "shell.execute_reply": "2021-09-23T16:20:05.293716Z",
     "shell.execute_reply.started": "2021-09-23T16:20:05.196045Z"
    },
    "tags": []
   },
   "outputs": [],
   "source": [
    "# Handle Distances\n",
    "non_sig_distances = dc.get_distances(non_sig_ratings, tornado_dists)\n",
    "single_sig_distances = dc.get_distances(single_sig_ratings, tornado_dists)\n",
    "double_sig_distances = dc.get_distances(double_sig_ratings, tornado_dists)"
   ]
  },
  {
   "cell_type": "code",
   "execution_count": 56,
   "id": "sustained-spain",
   "metadata": {
    "execution": {
     "iopub.execute_input": "2021-09-23T16:20:21.170754Z",
     "iopub.status.busy": "2021-09-23T16:20:21.170516Z",
     "iopub.status.idle": "2021-09-23T16:22:30.751774Z",
     "shell.execute_reply": "2021-09-23T16:22:30.751167Z",
     "shell.execute_reply.started": "2021-09-23T16:20:21.170728Z"
    },
    "tags": []
   },
   "outputs": [
    {
     "name": "stdout",
     "output_type": "stream",
     "text": [
      "CPU times: user 2min 5s, sys: 3.97 s, total: 2min 9s\n",
      "Wall time: 2min 9s\n"
     ]
    }
   ],
   "source": [
    "%%time\n",
    "\n",
    "#print(\"Running simulations...\")\n",
    "#print(\"    Non Sig...\")\n",
    "non_sig = dc.simulate(non_sig_loc_inds, non_sig_distances,\n",
    "                        non_sig_ratings, tornado_direction_distribution, igrids)\n",
    "#print(\"    Single Sig...\")\n",
    "single_sig = dc.simulate(single_sig_loc_inds, single_sig_distances,\n",
    "                            single_sig_ratings, tornado_direction_distribution, igrids)\n",
    "#print(\"    Double Sig...\")\n",
    "double_sig = dc.simulate(double_sig_loc_inds, double_sig_distances,\n",
    "                            double_sig_ratings, tornado_direction_distribution, igrids)"
   ]
  },
  {
   "cell_type": "code",
   "execution_count": 57,
   "id": "laden-appreciation",
   "metadata": {
    "execution": {
     "iopub.execute_input": "2021-09-23T16:23:48.737978Z",
     "iopub.status.busy": "2021-09-23T16:23:48.737760Z",
     "iopub.status.idle": "2021-09-23T16:23:52.136988Z",
     "shell.execute_reply": "2021-09-23T16:23:52.136112Z",
     "shell.execute_reply.started": "2021-09-23T16:23:48.737955Z"
    },
    "tags": []
   },
   "outputs": [],
   "source": [
    "#print(\"Splitting simulations back out...\")\n",
    "simulated_tornadoes = dc.flatten_list([non_sig, single_sig, double_sig])\n",
    "np.random.shuffle(simulated_tornadoes)\n",
    "_sims = np.split(simulated_tornadoes, counts.sum(axis=0).cumsum())[:-1]\n",
    "realizations = dc.Realizations([dc.SyntheticTornadoRealization(_sim, i+1) for i, _sim in enumerate(_sims)])\n"
   ]
  },
  {
   "cell_type": "markdown",
   "id": "foster-anniversary",
   "metadata": {},
   "source": [
    "### Ensuring we can read in the psv and that the data check out"
   ]
  },
  {
   "cell_type": "code",
   "execution_count": null,
   "id": "parallel-porter",
   "metadata": {
    "tags": []
   },
   "outputs": [],
   "source": [
    "df = pd.read_csv(io.StringIO(realizations.as_psv),sep='|')"
   ]
  },
  {
   "cell_type": "code",
   "execution_count": null,
   "id": "prompt-individual",
   "metadata": {
    "tags": []
   },
   "outputs": [],
   "source": [
    "df.groupby('sim').sum()['population'].describe(percentiles=[0.1,0.5,0.9])"
   ]
  },
  {
   "cell_type": "code",
   "execution_count": 58,
   "id": "exterior-craft",
   "metadata": {
    "execution": {
     "iopub.execute_input": "2021-09-23T16:24:01.515011Z",
     "iopub.status.busy": "2021-09-23T16:24:01.514787Z",
     "iopub.status.idle": "2021-09-23T16:24:21.136185Z",
     "shell.execute_reply": "2021-09-23T16:24:21.135619Z",
     "shell.execute_reply.started": "2021-09-23T16:24:01.514987Z"
    },
    "tags": []
   },
   "outputs": [],
   "source": [
    "with gzip.GzipFile(outfile, \"w\") as OUT:\n",
    "    OUT.write(realizations.as_psv.encode())"
   ]
  },
  {
   "cell_type": "code",
   "execution_count": null,
   "id": "moving-analyst",
   "metadata": {},
   "outputs": [],
   "source": []
  },
  {
   "cell_type": "code",
   "execution_count": null,
   "id": "piano-median",
   "metadata": {},
   "outputs": [],
   "source": []
  },
  {
   "cell_type": "markdown",
   "id": "restricted-stone",
   "metadata": {},
   "source": [
    "### Making a continuous color curve"
   ]
  },
  {
   "cell_type": "code",
   "execution_count": 142,
   "id": "modified-intervention",
   "metadata": {
    "execution": {
     "iopub.execute_input": "2022-04-05T17:51:27.996316Z",
     "iopub.status.busy": "2022-04-05T17:51:27.996090Z",
     "iopub.status.idle": "2022-04-05T17:51:27.999494Z",
     "shell.execute_reply": "2022-04-05T17:51:27.998738Z",
     "shell.execute_reply.started": "2022-04-05T17:51:27.996290Z"
    },
    "tags": []
   },
   "outputs": [],
   "source": [
    "from matplotlib.colors import LinearSegmentedColormap, ListedColormap\n",
    "import cartopy.io.shapereader as shpreader\n",
    "import cartopy.feature as cfeature"
   ]
  },
  {
   "cell_type": "code",
   "execution_count": 150,
   "id": "suffering-jason",
   "metadata": {
    "execution": {
     "iopub.execute_input": "2022-04-05T17:52:54.768083Z",
     "iopub.status.busy": "2022-04-05T17:52:54.767855Z",
     "iopub.status.idle": "2022-04-05T17:52:54.771056Z",
     "shell.execute_reply": "2022-04-05T17:52:54.770279Z",
     "shell.execute_reply.started": "2022-04-05T17:52:54.768057Z"
    },
    "tags": []
   },
   "outputs": [],
   "source": [
    "import pickle"
   ]
  },
  {
   "cell_type": "code",
   "execution_count": 166,
   "id": "proud-three",
   "metadata": {
    "execution": {
     "iopub.execute_input": "2022-04-05T17:59:04.622218Z",
     "iopub.status.busy": "2022-04-05T17:59:04.622003Z",
     "iopub.status.idle": "2022-04-05T17:59:04.697110Z",
     "shell.execute_reply": "2022-04-05T17:59:04.696519Z",
     "shell.execute_reply.started": "2022-04-05T17:59:04.622195Z"
    },
    "tags": []
   },
   "outputs": [],
   "source": [
    "import seaborn as sns"
   ]
  },
  {
   "cell_type": "code",
   "execution_count": 71,
   "id": "valuable-passing",
   "metadata": {
    "execution": {
     "iopub.execute_input": "2022-04-01T15:27:00.340903Z",
     "iopub.status.busy": "2022-04-01T15:27:00.340673Z",
     "iopub.status.idle": "2022-04-01T15:27:00.344488Z",
     "shell.execute_reply": "2022-04-01T15:27:00.343739Z",
     "shell.execute_reply.started": "2022-04-01T15:27:00.340878Z"
    },
    "tags": []
   },
   "outputs": [],
   "source": [
    "raw_colors = [(0,139,0),(138,72,37)] #,(255,200,1)]\n",
    "\n",
    "fmat_colors = [(color[0]/255,color[1]/255,color[2]/255) for color in colors]\n",
    "#     print(carr/255)"
   ]
  },
  {
   "cell_type": "code",
   "execution_count": 64,
   "id": "referenced-glory",
   "metadata": {
    "execution": {
     "iopub.execute_input": "2022-04-01T15:21:42.128451Z",
     "iopub.status.busy": "2022-04-01T15:21:42.128230Z",
     "iopub.status.idle": "2022-04-01T15:21:42.131890Z",
     "shell.execute_reply": "2022-04-01T15:21:42.131106Z",
     "shell.execute_reply.started": "2022-04-01T15:21:42.128428Z"
    },
    "tags": []
   },
   "outputs": [],
   "source": [
    "cmap = LinearSegmentedColormap.from_list('test',fmat_colors,N=4)"
   ]
  },
  {
   "cell_type": "code",
   "execution_count": 65,
   "id": "loving-opportunity",
   "metadata": {
    "execution": {
     "iopub.execute_input": "2022-04-01T15:21:42.480796Z",
     "iopub.status.busy": "2022-04-01T15:21:42.480582Z",
     "iopub.status.idle": "2022-04-01T15:21:42.484651Z",
     "shell.execute_reply": "2022-04-01T15:21:42.484027Z",
     "shell.execute_reply.started": "2022-04-01T15:21:42.480773Z"
    },
    "tags": []
   },
   "outputs": [],
   "source": [
    "x = np.arange(0, np.pi, 0.1)\n",
    "y = np.arange(0, 2 * np.pi, 0.1)\n",
    "X, Y = np.meshgrid(x,y)\n",
    "Z = np.cos(X) * np.sin(Y) * 10"
   ]
  },
  {
   "cell_type": "code",
   "execution_count": 68,
   "id": "affecting-uganda",
   "metadata": {
    "execution": {
     "iopub.execute_input": "2022-04-01T15:25:21.732877Z",
     "iopub.status.busy": "2022-04-01T15:25:21.732656Z",
     "iopub.status.idle": "2022-04-01T15:25:21.900128Z",
     "shell.execute_reply": "2022-04-01T15:25:21.899650Z",
     "shell.execute_reply.started": "2022-04-01T15:25:21.732853Z"
    },
    "tags": []
   },
   "outputs": [
    {
     "data": {
      "text/plain": [
       "<matplotlib.colorbar.Colorbar at 0x7fa39ed4ee50>"
      ]
     },
     "execution_count": 68,
     "metadata": {},
     "output_type": "execute_result"
    },
    {
     "data": {
      "image/png": "[encoded data removed]",
      "text/plain": [
       "<Figure size 432x288 with 2 Axes>"
      ]
     },
     "metadata": {
      "needs_background": "light"
     },
     "output_type": "display_data"
    }
   ],
   "source": [
    "fig, axs = plt.subplots(1,1)\n",
    "\n",
    "im = axs.imshow(Z, origin='lower',cmap=cmap)\n",
    "fig.colorbar(im)"
   ]
  },
  {
   "cell_type": "code",
   "execution_count": 163,
   "id": "amazing-newman",
   "metadata": {
    "execution": {
     "iopub.execute_input": "2022-04-05T17:58:29.025594Z",
     "iopub.status.busy": "2022-04-05T17:58:29.025368Z",
     "iopub.status.idle": "2022-04-05T17:58:29.030095Z",
     "shell.execute_reply": "2022-04-05T17:58:29.029267Z",
     "shell.execute_reply.started": "2022-04-05T17:58:29.025569Z"
    },
    "tags": []
   },
   "outputs": [],
   "source": [
    "raw_colors = [(255,255,255),(0,139,0),(138,72,37),(255,200,1),(255,1,0),(255,1,255),(145,44,237),(14,79,139)]\n",
    "levels = [0,2,5,10,15,30,45,60]\n",
    "\n",
    "fmat_colors = [(color[0]/255,color[1]/255,color[2]/255) for color in raw_colors]\n",
    "#     print(carr/255)"
   ]
  },
  {
   "cell_type": "code",
   "execution_count": 83,
   "id": "legislative-angel",
   "metadata": {
    "execution": {
     "iopub.execute_input": "2022-04-01T16:21:17.895339Z",
     "iopub.status.busy": "2022-04-01T16:21:17.895149Z",
     "iopub.status.idle": "2022-04-01T16:21:17.898123Z",
     "shell.execute_reply": "2022-04-01T16:21:17.897404Z",
     "shell.execute_reply.started": "2022-04-01T16:21:17.895322Z"
    },
    "tags": []
   },
   "outputs": [],
   "source": [
    "fmat_colors\n",
    "target_color = fmat_colors[1]\n",
    "initial_color = fmat_colors[0]"
   ]
  },
  {
   "cell_type": "code",
   "execution_count": 133,
   "id": "dried-exclusion",
   "metadata": {
    "execution": {
     "iopub.execute_input": "2022-04-01T16:57:35.848486Z",
     "iopub.status.busy": "2022-04-01T16:57:35.848263Z",
     "iopub.status.idle": "2022-04-01T16:57:35.853345Z",
     "shell.execute_reply": "2022-04-01T16:57:35.852567Z",
     "shell.execute_reply.started": "2022-04-01T16:57:35.848462Z"
    },
    "tags": []
   },
   "outputs": [
    {
     "data": {
      "text/plain": [
       "[(1.0, 1.0, 1.0),\n",
       " (0.0, 0.5450980392156862, 0.0),\n",
       " (0.5411764705882353, 0.2823529411764706, 0.1450980392156863),\n",
       " (1.0, 0.7843137254901961, 0.00392156862745098),\n",
       " (1.0, 0.00392156862745098, 0.0),\n",
       " (1.0, 0.00392156862745098, 1.0),\n",
       " (0.5686274509803921, 0.17254901960784313, 0.9294117647058824),\n",
       " (0.054901960784313725, 0.30980392156862746, 0.5450980392156862)]"
      ]
     },
     "execution_count": 133,
     "metadata": {},
     "output_type": "execute_result"
    }
   ],
   "source": [
    "fmat_colors"
   ]
  },
  {
   "cell_type": "code",
   "execution_count": 164,
   "id": "affiliated-mattress",
   "metadata": {
    "execution": {
     "iopub.execute_input": "2022-04-05T17:58:53.354845Z",
     "iopub.status.busy": "2022-04-05T17:58:53.354612Z",
     "iopub.status.idle": "2022-04-05T17:58:53.360073Z",
     "shell.execute_reply": "2022-04-05T17:58:53.359352Z",
     "shell.execute_reply.started": "2022-04-05T17:58:53.354819Z"
    },
    "tags": []
   },
   "outputs": [],
   "source": [
    "interpolated_colors = []\n",
    "\n",
    "for i, (color, level) in enumerate(zip(fmat_colors,levels)):\n",
    "    \n",
    "    if i < len(levels)-1:\n",
    "        \n",
    "        num_steps = (levels[i+1] - level)*2\n",
    "        target_color = fmat_colors[i+1]\n",
    "        initial_color = color\n",
    "        \n",
    "#         print(i,color,level,num_steps)\n",
    "        \n",
    "        deltas=[(target_color[i] - initial_color[i])/num_steps for i in range(3)]\n",
    "        \n",
    "        for j in range(0, num_steps):\n",
    "            \n",
    "            interpolated_color=tuple([initial_color[i] + (deltas[i] * j) for i in range(3)])\n",
    "            interpolated_colors.append(interpolated_color)"
   ]
  },
  {
   "cell_type": "code",
   "execution_count": 172,
   "id": "reflected-committee",
   "metadata": {
    "execution": {
     "iopub.execute_input": "2022-04-01T18:49:23.230799Z",
     "iopub.status.busy": "2022-04-01T18:49:23.230572Z",
     "iopub.status.idle": "2022-04-01T18:49:23.236487Z",
     "shell.execute_reply": "2022-04-01T18:49:23.235847Z",
     "shell.execute_reply.started": "2022-04-01T18:49:23.230774Z"
    },
    "tags": []
   },
   "outputs": [],
   "source": [
    "pickle.dump(continuous_cmap, open('continuous_tor.cmap', 'wb'))"
   ]
  },
  {
   "cell_type": "code",
   "execution_count": 151,
   "id": "absolute-migration",
   "metadata": {
    "execution": {
     "iopub.execute_input": "2022-04-05T17:52:57.007993Z",
     "iopub.status.busy": "2022-04-05T17:52:57.007769Z",
     "iopub.status.idle": "2022-04-05T17:52:57.013894Z",
     "shell.execute_reply": "2022-04-05T17:52:57.012919Z",
     "shell.execute_reply.started": "2022-04-05T17:52:57.007969Z"
    },
    "tags": []
   },
   "outputs": [],
   "source": [
    "pickled_cmap = pickle.load(open('../../../gen-assets/continuous_tor.cmap','rb'))"
   ]
  },
  {
   "cell_type": "code",
   "execution_count": 166,
   "id": "completed-annex",
   "metadata": {
    "execution": {
     "iopub.execute_input": "2022-04-01T17:42:59.222123Z",
     "iopub.status.busy": "2022-04-01T17:42:59.221889Z",
     "iopub.status.idle": "2022-04-01T17:42:59.226173Z",
     "shell.execute_reply": "2022-04-01T17:42:59.225536Z",
     "shell.execute_reply.started": "2022-04-01T17:42:59.222097Z"
    }
   },
   "outputs": [],
   "source": [
    "with open('../../../test.txt','r') as f:\n",
    "    lines = [line.rstrip('\\n') for line in f]"
   ]
  },
  {
   "cell_type": "code",
   "execution_count": 167,
   "id": "offensive-bidding",
   "metadata": {
    "execution": {
     "iopub.execute_input": "2022-04-05T17:59:07.320316Z",
     "iopub.status.busy": "2022-04-05T17:59:07.320090Z",
     "iopub.status.idle": "2022-04-05T17:59:07.647788Z",
     "shell.execute_reply": "2022-04-05T17:59:07.647135Z",
     "shell.execute_reply.started": "2022-04-05T17:59:07.320292Z"
    },
    "tags": []
   },
   "outputs": [
    {
     "data": {
      "image/png": "[encoded data removed]",
      "text/plain": [
       "<Figure size 8640x72 with 1 Axes>"
      ]
     },
     "metadata": {
      "needs_background": "light"
     },
     "output_type": "display_data"
    }
   ],
   "source": [
    "sns.palplot(interpolated_colors)"
   ]
  },
  {
   "cell_type": "code",
   "execution_count": 168,
   "id": "light-margin",
   "metadata": {
    "execution": {
     "iopub.execute_input": "2022-04-05T17:59:15.249840Z",
     "iopub.status.busy": "2022-04-05T17:59:15.249544Z",
     "iopub.status.idle": "2022-04-05T17:59:15.253091Z",
     "shell.execute_reply": "2022-04-05T17:59:15.252359Z",
     "shell.execute_reply.started": "2022-04-05T17:59:15.249804Z"
    },
    "tags": []
   },
   "outputs": [],
   "source": [
    "continuous_cmap = ListedColormap(interpolated_colors)"
   ]
  },
  {
   "cell_type": "code",
   "execution_count": 143,
   "id": "parliamentary-algebra",
   "metadata": {
    "execution": {
     "iopub.execute_input": "2022-04-05T17:51:35.982467Z",
     "iopub.status.busy": "2022-04-05T17:51:35.982238Z",
     "iopub.status.idle": "2022-04-05T17:51:35.989398Z",
     "shell.execute_reply": "2022-04-05T17:51:35.988810Z",
     "shell.execute_reply.started": "2022-04-05T17:51:35.982442Z"
    },
    "tags": []
   },
   "outputs": [],
   "source": [
    "shapename = 'admin_1_states_provinces_lakes'\n",
    "states_shp = shpreader.natural_earth(resolution='110m',\n",
    "                                     category='cultural', name=shapename)"
   ]
  },
  {
   "cell_type": "code",
   "execution_count": 179,
   "id": "advance-assembly",
   "metadata": {
    "execution": {
     "iopub.execute_input": "2022-04-01T19:15:37.607960Z",
     "iopub.status.busy": "2022-04-01T19:15:37.607719Z",
     "iopub.status.idle": "2022-04-01T19:15:38.494931Z",
     "shell.execute_reply": "2022-04-01T19:15:38.494406Z",
     "shell.execute_reply.started": "2022-04-01T19:15:37.607937Z"
    },
    "tags": []
   },
   "outputs": [
    {
     "data": {
      "text/plain": [
       "<cartopy.mpl.feature_artist.FeatureArtist at 0x7fa37f1a4070>"
      ]
     },
     "execution_count": 179,
     "metadata": {},
     "output_type": "execute_result"
    },
    {
     "data": {
      "image/png": "[encoded data removed]",
      "text/plain": [
       "<Figure size 1152x648 with 2 Axes>"
      ]
     },
     "metadata": {
      "needs_background": "light"
     },
     "output_type": "display_data"
    }
   ],
   "source": [
    "fig = plt.figure(figsize=(16, 9))\n",
    "ax = plt.axes(projection=ccrs.PlateCarree())\n",
    "ax.set_extent([-100,-70,25,50])\n",
    "ax.add_feature(cfeature.STATES, linewidth=0.5)\n",
    "plt.pcolormesh(igrids.lons,igrids.lats,continuous_torn,transform=ccrs.PlateCarree(),cmap=pickled_cmap,vmin=0,vmax=60)\n",
    "plt.colorbar()\n",
    "\n",
    "ax.coastlines()"
   ]
  },
  {
   "cell_type": "code",
   "execution_count": 1,
   "id": "duplicate-playback",
   "metadata": {
    "execution": {
     "iopub.execute_input": "2022-04-05T15:57:16.960226Z",
     "iopub.status.busy": "2022-04-05T15:57:16.959963Z",
     "iopub.status.idle": "2022-04-05T15:57:17.064346Z",
     "shell.execute_reply": "2022-04-05T15:57:17.063299Z",
     "shell.execute_reply.started": "2022-04-05T15:57:16.960162Z"
    }
   },
   "outputs": [
    {
     "ename": "NameError",
     "evalue": "name 'continuous_torn' is not defined",
     "output_type": "error",
     "traceback": [
      "\u001b[0;31m---------------------------------------------------------------------------\u001b[0m",
      "\u001b[0;31mNameError\u001b[0m                                 Traceback (most recent call last)",
      "\u001b[0;32m<ipython-input-1-9643326c9ef5>\u001b[0m in \u001b[0;36m<module>\u001b[0;34m\u001b[0m\n\u001b[0;32m----> 1\u001b[0;31m \u001b[0mcontinuous_torn\u001b[0m\u001b[0;34m\u001b[0m\u001b[0;34m\u001b[0m\u001b[0m\n\u001b[0m",
      "\u001b[0;31mNameError\u001b[0m: name 'continuous_torn' is not defined"
     ]
    }
   ],
   "source": [
    "continuous_torn"
   ]
  },
  {
   "cell_type": "code",
   "execution_count": null,
   "id": "theoretical-abortion",
   "metadata": {},
   "outputs": [],
   "source": []
  }
 ],
 "metadata": {
  "kernelspec": {
   "display_name": "Python 3",
   "language": "python",
   "name": "python3"
  },
  "language_info": {
   "codemirror_mode": {
    "name": "ipython",
    "version": 3
   },
   "file_extension": ".py",
   "mimetype": "text/x-python",
   "name": "python",
   "nbconvert_exporter": "python",
   "pygments_lexer": "ipython3",
   "version": "3.8.8"
  }
 },
 "nbformat": 4,
 "nbformat_minor": 5
}

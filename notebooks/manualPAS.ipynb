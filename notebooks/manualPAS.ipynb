{
 "cells": [
  {
   "cell_type": "markdown",
   "id": "august-portuguese",
   "metadata": {},
   "source": [
    "The purpose of this notebook is to manually generate psv sim files for desired cases."
   ]
  },
  {
   "cell_type": "code",
   "execution_count": 1,
   "id": "second-occasion",
   "metadata": {
    "execution": {
     "iopub.execute_input": "2021-08-04T20:18:44.495053Z",
     "iopub.status.busy": "2021-08-04T20:18:44.494794Z",
     "iopub.status.idle": "2021-08-04T20:18:44.626108Z",
     "shell.execute_reply": "2021-08-04T20:18:44.624838Z",
     "shell.execute_reply.started": "2021-08-04T20:18:44.494990Z"
    }
   },
   "outputs": [
    {
     "name": "stdout",
     "output_type": "stream",
     "text": [
      "/Users/josephpicca/opt/anaconda3/envs/impacts-parallel-run/bin/python\n"
     ]
    }
   ],
   "source": [
    "!which python"
   ]
  },
  {
   "cell_type": "code",
   "execution_count": null,
   "id": "equivalent-explosion",
   "metadata": {
    "execution": {
     "iopub.execute_input": "2021-08-04T20:19:09.562634Z",
     "iopub.status.busy": "2021-08-04T20:19:09.562390Z"
    },
    "tags": []
   },
   "outputs": [],
   "source": [
    "import datetime\n",
    "import gzip\n",
    "import pathlib\n",
    "from os import environ as E\n",
    "\n",
    "#import geojson\n",
    "import numpy as np\n",
    "import pyproj\n",
    "from scipy import stats\n",
    "\n",
    "import dclasses as dc\n",
    "import pygrib as pg"
   ]
  },
  {
   "cell_type": "code",
   "execution_count": 3,
   "id": "occupied-indian",
   "metadata": {
    "execution": {
     "iopub.execute_input": "2021-08-04T20:18:51.565847Z",
     "iopub.status.busy": "2021-08-04T20:18:51.565627Z",
     "iopub.status.idle": "2021-08-04T20:18:52.324458Z",
     "shell.execute_reply": "2021-08-04T20:18:52.323954Z",
     "shell.execute_reply.started": "2021-08-04T20:18:51.565824Z"
    },
    "tags": []
   },
   "outputs": [],
   "source": [
    "import io\n",
    "import pandas as pd"
   ]
  },
  {
   "cell_type": "code",
   "execution_count": 3,
   "id": "incident-robin",
   "metadata": {
    "execution": {
     "iopub.execute_input": "2021-07-22T22:19:49.153304Z",
     "iopub.status.busy": "2021-07-22T22:19:49.153049Z",
     "iopub.status.idle": "2021-07-22T22:19:49.158155Z",
     "shell.execute_reply": "2021-07-22T22:19:49.157497Z",
     "shell.execute_reply.started": "2021-07-22T22:19:49.153276Z"
    }
   },
   "outputs": [],
   "source": [
    "### Parse CLI Arguments ###\n",
    "ndfd_file = pathlib.Path('../data/output/examples/20110427/ndfd/torn_day1_grib2_1630_20110427162927')\n",
    "\n",
    "pp_file = pathlib.Path('./test.npz')\n",
    "ndfd_area = 25\n",
    "nsims = 10000\n",
    "tornado_direction_distribution = stats.norm(50, 15)\n",
    "coolseason = [1, 2, 3, 4, 11, 12]"
   ]
  },
  {
   "cell_type": "code",
   "execution_count": 4,
   "id": "written-championship",
   "metadata": {
    "execution": {
     "iopub.execute_input": "2021-07-22T22:19:51.548348Z",
     "iopub.status.busy": "2021-07-22T22:19:51.548089Z",
     "iopub.status.idle": "2021-07-22T22:19:51.551447Z",
     "shell.execute_reply": "2021-07-22T22:19:51.550815Z",
     "shell.execute_reply.started": "2021-07-22T22:19:51.548321Z"
    }
   },
   "outputs": [],
   "source": [
    "impacts_data_root = pathlib.Path('../scripts/impacts-data/pas-input-data/')"
   ]
  },
  {
   "cell_type": "code",
   "execution_count": 5,
   "id": "reflected-minutes",
   "metadata": {
    "execution": {
     "iopub.execute_input": "2021-07-22T22:20:06.482885Z",
     "iopub.status.busy": "2021-07-22T22:20:06.482660Z",
     "iopub.status.idle": "2021-07-22T22:20:06.486462Z",
     "shell.execute_reply": "2021-07-22T22:20:06.485767Z",
     "shell.execute_reply.started": "2021-07-22T22:20:06.482863Z"
    }
   },
   "outputs": [],
   "source": [
    "outdir = pathlib.Path('../scripts/impacts-data/',\"output\").resolve()\n",
    "outdir.mkdir(exist_ok=True)"
   ]
  },
  {
   "cell_type": "code",
   "execution_count": 6,
   "id": "existing-speech",
   "metadata": {
    "execution": {
     "iopub.execute_input": "2021-07-22T22:20:07.407808Z",
     "iopub.status.busy": "2021-07-22T22:20:07.407545Z",
     "iopub.status.idle": "2021-07-22T22:20:07.412076Z",
     "shell.execute_reply": "2021-07-22T22:20:07.411357Z",
     "shell.execute_reply.started": "2021-07-22T22:20:07.407780Z"
    }
   },
   "outputs": [],
   "source": [
    "# Read grib file\n",
    "def read_ndfd_grib_file(grbfile):\n",
    "    \"\"\" Read an SPC Outlook NDFD Grib2 File \"\"\"\n",
    "    with pg.open(grbfile.as_posix()) as GRB:\n",
    "        try:\n",
    "            vals = GRB[1].values.filled(-1)\n",
    "        except AttributeError:\n",
    "            vals = GRB[1].values\n",
    "    return vals"
   ]
  },
  {
   "cell_type": "code",
   "execution_count": 7,
   "id": "opened-academy",
   "metadata": {
    "execution": {
     "iopub.execute_input": "2021-07-22T22:20:09.299954Z",
     "iopub.status.busy": "2021-07-22T22:20:09.299699Z",
     "iopub.status.idle": "2021-07-22T22:20:09.304586Z",
     "shell.execute_reply": "2021-07-22T22:20:09.303743Z",
     "shell.execute_reply.started": "2021-07-22T22:20:09.299927Z"
    }
   },
   "outputs": [],
   "source": [
    "date_in_name = ndfd_file.name.split(\"_\")[-1]\n",
    "dt = datetime.datetime.strptime(date_in_name, \"%Y%m%d%H%M%S\")\n",
    "outfile = outdir.joinpath(f\"{dt.strftime('%Y%m%d%H%M%S')}_ts.psv.gz\")"
   ]
  },
  {
   "cell_type": "code",
   "execution_count": 8,
   "id": "dress-adjustment",
   "metadata": {
    "execution": {
     "iopub.execute_input": "2021-07-22T22:20:32.321068Z",
     "iopub.status.busy": "2021-07-22T22:20:32.320817Z",
     "iopub.status.idle": "2021-07-22T22:20:32.347493Z",
     "shell.execute_reply": "2021-07-22T22:20:32.346861Z",
     "shell.execute_reply.started": "2021-07-22T22:20:32.321041Z"
    }
   },
   "outputs": [],
   "source": [
    "#torn = read_ndfd_grib_file(ndfd_file)\n",
    "fcsts = np.load('test.npz')\n",
    "# Multiply 100 to convert from decimal to percent\n",
    "torn = fcsts['all_fcst']*100"
   ]
  },
  {
   "cell_type": "code",
   "execution_count": 9,
   "id": "listed-precipitation",
   "metadata": {
    "execution": {
     "iopub.execute_input": "2021-07-22T22:20:39.442683Z",
     "iopub.status.busy": "2021-07-22T22:20:39.442418Z",
     "iopub.status.idle": "2021-07-22T22:20:40.434968Z",
     "shell.execute_reply": "2021-07-22T22:20:40.434354Z",
     "shell.execute_reply.started": "2021-07-22T22:20:39.442656Z"
    }
   },
   "outputs": [],
   "source": [
    "continuous_torn = dc.make_continuous(torn)"
   ]
  },
  {
   "cell_type": "code",
   "execution_count": 10,
   "id": "familiar-investor",
   "metadata": {
    "execution": {
     "iopub.execute_input": "2021-07-22T22:20:40.754210Z",
     "iopub.status.busy": "2021-07-22T22:20:40.753951Z",
     "iopub.status.idle": "2021-07-22T22:20:40.774018Z",
     "shell.execute_reply": "2021-07-22T22:20:40.773399Z",
     "shell.execute_reply.started": "2021-07-22T22:20:40.754183Z"
    }
   },
   "outputs": [],
   "source": [
    "#sigtorn = read_ndfd_grib_file(ndfd_file.with_name(ndfd_file.name.replace(\"torn\", \"sigtorn\"))).astype(int)\n",
    "\n",
    "sigtorn = fcsts['sig_fcst']*100"
   ]
  },
  {
   "cell_type": "code",
   "execution_count": 11,
   "id": "remarkable-dairy",
   "metadata": {
    "execution": {
     "iopub.execute_input": "2021-07-22T22:20:44.771750Z",
     "iopub.status.busy": "2021-07-22T22:20:44.771499Z",
     "iopub.status.idle": "2021-07-22T22:20:44.778297Z",
     "shell.execute_reply": "2021-07-22T22:20:44.777676Z",
     "shell.execute_reply.started": "2021-07-22T22:20:44.771724Z"
    }
   },
   "outputs": [],
   "source": [
    "sigtorn[sigtorn > 0] = 1\n",
    "if (torn.max() >= 30) and (sigtorn.max() > 0):\n",
    "    sigtorn[torn >= 15] += 1\n",
    "sigtorn_1d = sigtorn.ravel()\n",
    "usesig = True if (dt.month in coolseason) or (sigtorn.max() > 0) else False"
   ]
  },
  {
   "cell_type": "code",
   "execution_count": 12,
   "id": "collaborative-merchandise",
   "metadata": {
    "execution": {
     "iopub.execute_input": "2021-07-22T22:20:46.962987Z",
     "iopub.status.busy": "2021-07-22T22:20:46.962765Z",
     "iopub.status.idle": "2021-07-22T22:20:46.989154Z",
     "shell.execute_reply": "2021-07-22T22:20:46.988566Z",
     "shell.execute_reply.started": "2021-07-22T22:20:46.962963Z"
    }
   },
   "outputs": [
    {
     "name": "stdout",
     "output_type": "stream",
     "text": [
      "Running 10,000 Tornado Count Simulations\n"
     ]
    }
   ],
   "source": [
    "### Run Tornado Count Simulation ###\n",
    "print(f\"Running {nsims:,d} Tornado Count Simulations\")\n",
    "tornado_dists = dc.TornadoDistributions()\n",
    "counts = np.zeros((5, nsims), dtype=int)\n",
    "counts[0, :] = (tornado_dists.f02.rvs(nsims) * ndfd_area * (torn == 2).sum()).astype(int)\n",
    "counts[1, :] = (tornado_dists.f05.rvs(nsims) * ndfd_area * (torn == 5).sum()).astype(int)\n",
    "counts[2, :] = (tornado_dists.f10.rvs(nsims) * ndfd_area * (torn == 10).sum()).astype(int)\n",
    "counts[3, :] = (tornado_dists.f15.rvs(nsims) * ndfd_area * (torn == 15).sum()).astype(int)\n",
    "counts[4, :] = (tornado_dists.f30.rvs(nsims) * ndfd_area * (torn >= 30).sum()).astype(int)"
   ]
  },
  {
   "cell_type": "code",
   "execution_count": 13,
   "id": "statutory-jewelry",
   "metadata": {
    "execution": {
     "iopub.execute_input": "2021-07-22T22:20:50.152153Z",
     "iopub.status.busy": "2021-07-22T22:20:50.151937Z",
     "iopub.status.idle": "2021-07-22T22:20:51.534679Z",
     "shell.execute_reply": "2021-07-22T22:20:51.534122Z",
     "shell.execute_reply.started": "2021-07-22T22:20:50.152131Z"
    }
   },
   "outputs": [],
   "source": [
    "### Setup Impact Simulation ###\n",
    "igrids = dc.ImpactGrids(impacts_data_root)"
   ]
  },
  {
   "cell_type": "code",
   "execution_count": 14,
   "id": "continent-cooking",
   "metadata": {
    "execution": {
     "iopub.execute_input": "2021-07-22T22:20:52.181088Z",
     "iopub.status.busy": "2021-07-22T22:20:52.180834Z",
     "iopub.status.idle": "2021-07-22T22:20:52.786378Z",
     "shell.execute_reply": "2021-07-22T22:20:52.785721Z",
     "shell.execute_reply.started": "2021-07-22T22:20:52.181060Z"
    }
   },
   "outputs": [],
   "source": [
    "scounts = counts.sum(axis=1)\n",
    "inds02 = dc.weighted_choice(prob=2, probs=torn, cprobs=continuous_torn, size=scounts[0])\n",
    "inds05 = dc.weighted_choice(prob=5, probs=torn, cprobs=continuous_torn, size=scounts[1])\n",
    "inds10 = dc.weighted_choice(prob=10, probs=torn, cprobs=continuous_torn, size=scounts[2])\n",
    "inds15 = dc.weighted_choice(prob=15, probs=torn, cprobs=continuous_torn, size=scounts[3])\n",
    "inds30 = dc.weighted_choice(prob=30, probs=torn, cprobs=continuous_torn, size=scounts[4])\n",
    "inds = dc.flatten_list([inds02, inds05, inds10, inds15, inds30])"
   ]
  },
  {
   "cell_type": "code",
   "execution_count": 15,
   "id": "forward-china",
   "metadata": {
    "execution": {
     "iopub.execute_input": "2021-07-22T22:20:53.875956Z",
     "iopub.status.busy": "2021-07-22T22:20:53.875698Z",
     "iopub.status.idle": "2021-07-22T22:20:53.902880Z",
     "shell.execute_reply": "2021-07-22T22:20:53.902244Z",
     "shell.execute_reply.started": "2021-07-22T22:20:53.875929Z"
    }
   },
   "outputs": [],
   "source": [
    "non_sig_inds = sigtorn_1d[inds] == 0\n",
    "single_sig_inds = sigtorn_1d[inds] == 1\n",
    "double_sig_inds = sigtorn_1d[inds] == 2"
   ]
  },
  {
   "cell_type": "code",
   "execution_count": 16,
   "id": "amino-vault",
   "metadata": {
    "execution": {
     "iopub.execute_input": "2021-07-22T22:20:58.857549Z",
     "iopub.status.busy": "2021-07-22T22:20:58.857295Z",
     "iopub.status.idle": "2021-07-22T22:20:58.860984Z",
     "shell.execute_reply": "2021-07-22T22:20:58.860378Z",
     "shell.execute_reply.started": "2021-07-22T22:20:58.857522Z"
    }
   },
   "outputs": [],
   "source": [
    "if usesig:\n",
    "    single_sig_inds += non_sig_inds\n",
    "    non_sig_inds[:] = False"
   ]
  },
  {
   "cell_type": "code",
   "execution_count": 17,
   "id": "single-scope",
   "metadata": {
    "execution": {
     "iopub.execute_input": "2021-07-22T22:21:01.145442Z",
     "iopub.status.busy": "2021-07-22T22:21:01.145190Z",
     "iopub.status.idle": "2021-07-22T22:21:01.158184Z",
     "shell.execute_reply": "2021-07-22T22:21:01.157479Z",
     "shell.execute_reply.started": "2021-07-22T22:21:01.145415Z"
    }
   },
   "outputs": [],
   "source": [
    "# Handle Locations\n",
    "non_sig_loc_inds = inds[non_sig_inds]\n",
    "single_sig_loc_inds = inds[single_sig_inds]\n",
    "double_sig_loc_inds = inds[double_sig_inds]"
   ]
  },
  {
   "cell_type": "code",
   "execution_count": 18,
   "id": "orange-handbook",
   "metadata": {
    "execution": {
     "iopub.execute_input": "2021-07-22T22:21:19.204167Z",
     "iopub.status.busy": "2021-07-22T22:21:19.203914Z",
     "iopub.status.idle": "2021-07-22T22:21:19.282606Z",
     "shell.execute_reply": "2021-07-22T22:21:19.281944Z",
     "shell.execute_reply.started": "2021-07-22T22:21:19.204140Z"
    }
   },
   "outputs": [],
   "source": [
    "# Handle Ratings\n",
    "_mags=[0, 1, 2, 3, 4, 5]\n",
    "non_sig_ratings = np.random.choice(_mags, size=non_sig_inds.sum(),\n",
    "                                    replace=True, p=tornado_dists.r_nonsig)\n",
    "single_sig_ratings = np.random.choice(_mags, size=single_sig_inds.sum(),\n",
    "                                        replace=True, p=tornado_dists.r_singlesig)\n",
    "double_sig_ratings = np.random.choice(_mags, size=double_sig_inds.sum(),\n",
    "                                            replace=True, p=tornado_dists.r_doublesig)"
   ]
  },
  {
   "cell_type": "code",
   "execution_count": 19,
   "id": "driven-patio",
   "metadata": {
    "execution": {
     "iopub.execute_input": "2021-07-22T22:21:44.016174Z",
     "iopub.status.busy": "2021-07-22T22:21:44.015949Z",
     "iopub.status.idle": "2021-07-22T22:21:44.120557Z",
     "shell.execute_reply": "2021-07-22T22:21:44.119982Z",
     "shell.execute_reply.started": "2021-07-22T22:21:44.016150Z"
    }
   },
   "outputs": [],
   "source": [
    "# Handle Distances\n",
    "non_sig_distances = dc.get_distances(non_sig_ratings, tornado_dists)\n",
    "single_sig_distances = dc.get_distances(single_sig_ratings, tornado_dists)\n",
    "double_sig_distances = dc.get_distances(double_sig_ratings, tornado_dists)"
   ]
  },
  {
   "cell_type": "code",
   "execution_count": 20,
   "id": "secondary-object",
   "metadata": {
    "execution": {
     "iopub.execute_input": "2021-07-22T22:21:49.283791Z",
     "iopub.status.busy": "2021-07-22T22:21:49.283568Z",
     "iopub.status.idle": "2021-07-22T22:24:10.078587Z",
     "shell.execute_reply": "2021-07-22T22:24:10.077957Z",
     "shell.execute_reply.started": "2021-07-22T22:21:49.283768Z"
    },
    "tags": []
   },
   "outputs": [
    {
     "name": "stdout",
     "output_type": "stream",
     "text": [
      "CPU times: user 2min 16s, sys: 4.35 s, total: 2min 20s\n",
      "Wall time: 2min 20s\n"
     ]
    }
   ],
   "source": [
    "%%time\n",
    "\n",
    "#print(\"Running simulations...\")\n",
    "#print(\"    Non Sig...\")\n",
    "non_sig = dc.simulate(non_sig_loc_inds, non_sig_distances,\n",
    "                        non_sig_ratings, tornado_direction_distribution, igrids)\n",
    "#print(\"    Single Sig...\")\n",
    "single_sig = dc.simulate(single_sig_loc_inds, single_sig_distances,\n",
    "                            single_sig_ratings, tornado_direction_distribution, igrids)\n",
    "#print(\"    Double Sig...\")\n",
    "double_sig = dc.simulate(double_sig_loc_inds, double_sig_distances,\n",
    "                            double_sig_ratings, tornado_direction_distribution, igrids)"
   ]
  },
  {
   "cell_type": "code",
   "execution_count": 21,
   "id": "promotional-simpson",
   "metadata": {
    "execution": {
     "iopub.execute_input": "2021-07-22T22:25:34.801711Z",
     "iopub.status.busy": "2021-07-22T22:25:34.801504Z",
     "iopub.status.idle": "2021-07-22T22:25:38.384974Z",
     "shell.execute_reply": "2021-07-22T22:25:38.384364Z",
     "shell.execute_reply.started": "2021-07-22T22:25:34.801689Z"
    },
    "tags": []
   },
   "outputs": [],
   "source": [
    "#print(\"Splitting simulations back out...\")\n",
    "simulated_tornadoes = dc.flatten_list([non_sig, single_sig, double_sig])\n",
    "np.random.shuffle(simulated_tornadoes)\n",
    "_sims = np.split(simulated_tornadoes, counts.sum(axis=0).cumsum())[:-1]\n",
    "realizations = dc.Realizations([dc.SyntheticTornadoRealization(_sim, i+1) for i, _sim in enumerate(_sims)])"
   ]
  },
  {
   "cell_type": "markdown",
   "id": "wrong-expansion",
   "metadata": {},
   "source": [
    "### Ensuring we can read in the psv and that the data check out"
   ]
  },
  {
   "cell_type": "code",
   "execution_count": 22,
   "id": "characteristic-basket",
   "metadata": {
    "execution": {
     "iopub.execute_input": "2021-07-22T22:25:39.868820Z",
     "iopub.status.busy": "2021-07-22T22:25:39.868585Z",
     "iopub.status.idle": "2021-07-22T22:25:51.692320Z",
     "shell.execute_reply": "2021-07-22T22:25:51.691537Z",
     "shell.execute_reply.started": "2021-07-22T22:25:39.868796Z"
    },
    "tags": []
   },
   "outputs": [],
   "source": [
    "df = pd.read_csv(io.StringIO(realizations.as_psv),sep='|')"
   ]
  },
  {
   "cell_type": "code",
   "execution_count": 23,
   "id": "gentle-laugh",
   "metadata": {
    "execution": {
     "iopub.execute_input": "2021-07-22T22:25:54.573456Z",
     "iopub.status.busy": "2021-07-22T22:25:54.573213Z",
     "iopub.status.idle": "2021-07-22T22:25:54.867426Z",
     "shell.execute_reply": "2021-07-22T22:25:54.866800Z",
     "shell.execute_reply.started": "2021-07-22T22:25:54.573431Z"
    },
    "tags": []
   },
   "outputs": [
    {
     "data": {
      "text/plain": [
       "count    1.000000e+04\n",
       "mean     4.410158e+05\n",
       "std      2.708835e+05\n",
       "min      1.542400e+04\n",
       "10%      1.725712e+05\n",
       "50%      3.800800e+05\n",
       "90%      7.769200e+05\n",
       "max      3.092832e+06\n",
       "Name: population, dtype: float64"
      ]
     },
     "execution_count": 23,
     "metadata": {},
     "output_type": "execute_result"
    }
   ],
   "source": [
    "df.groupby('sim').sum()['population'].describe(percentiles=[0.1,0.5,0.9])"
   ]
  },
  {
   "cell_type": "code",
   "execution_count": 24,
   "id": "available-worker",
   "metadata": {
    "execution": {
     "iopub.execute_input": "2021-07-22T22:28:22.567514Z",
     "iopub.status.busy": "2021-07-22T22:28:22.567307Z",
     "iopub.status.idle": "2021-07-22T22:28:42.728454Z",
     "shell.execute_reply": "2021-07-22T22:28:42.727894Z",
     "shell.execute_reply.started": "2021-07-22T22:28:22.567493Z"
    }
   },
   "outputs": [],
   "source": [
    "with gzip.GzipFile(outfile, \"w\") as OUT:\n",
    "    OUT.write(realizations.as_psv.encode())"
   ]
  },
  {
   "cell_type": "code",
   "execution_count": null,
   "id": "joint-shannon",
   "metadata": {},
   "outputs": [],
   "source": []
  }
 ],
 "metadata": {
  "kernelspec": {
   "display_name": "Python 3",
   "language": "python",
   "name": "python3"
  },
  "language_info": {
   "codemirror_mode": {
    "name": "ipython",
    "version": 3
   },
   "file_extension": ".py",
   "mimetype": "text/x-python",
   "name": "python",
   "nbconvert_exporter": "python",
   "pygments_lexer": "ipython3",
   "version": "3.8.11"
  }
 },
 "nbformat": 4,
 "nbformat_minor": 5
}

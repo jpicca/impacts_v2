{
 "cells": [
  {
   "cell_type": "markdown",
   "id": "identified-range",
   "metadata": {},
   "source": [
    "The purpose of this notebook is to create example json files (similar to however a backend API would be serving data) to create a prototype dashboard of the next version of the IMPACTS dashboard."
   ]
  },
  {
   "cell_type": "code",
   "execution_count": 4,
   "id": "labeled-arbor",
   "metadata": {},
   "outputs": [],
   "source": [
    "import pathlib\n",
    "import glob\n",
    "import os\n",
    "\n",
    "import argparse\n",
    "import geojson\n",
    "import pandas as pd\n",
    "import json\n",
    "import random\n",
    "\n",
    "from datetime import datetime, timedelta"
   ]
  },
  {
   "cell_type": "code",
   "execution_count": 13,
   "id": "civilian-eagle",
   "metadata": {
    "tags": []
   },
   "outputs": [],
   "source": [
    "# Helper array for day indexing\n",
    "aggregateMonths = [0, 31, 60, 91, 121, 152, 182, 213, 244, 274, 305, 335]\n",
    "nsims = 10000"
   ]
  },
  {
   "cell_type": "markdown",
   "id": "dried-disability",
   "metadata": {
    "tags": []
   },
   "source": [
    "## Generate data for the quantile table"
   ]
  },
  {
   "cell_type": "markdown",
   "id": "above-medicare",
   "metadata": {},
   "source": [
    "#json_form...\n",
    "\n",
    "[{\n",
    "    Location: 'National',\n",
    "    Type: 'National',\n",
    "    Current: {\n",
    "        tornadoes: {\n",
    "            10: 5,\n",
    "            50: 9,\n",
    "            90: 14\n",
    "        },\n",
    "        population: {\n",
    "            10: 100,\n",
    "            50: 435,\n",
    "            90: 1340\n",
    "        },\n",
    "        ...\n",
    "    },\n",
    "    Climo: {\n",
    "        tornadoes: {\n",
    "            10: 3,\n",
    "            50: 5,\n",
    "            90: 10\n",
    "        },\n",
    "        population: {\n",
    "            10: 50,\n",
    "            50: 325,\n",
    "            90: 900\n",
    "        },\n",
    "        ...\n",
    "    }\n",
    "},\n",
    "{\n",
    "    Location: state1,\n",
    "    Type: 'State',\n",
    "    Current: {},\n",
    "    Climo: {}\n",
    "}\n",
    ",\n",
    "{\n",
    "    Location: state2,\n",
    "    Type: 'State',\n",
    "    Current: {},\n",
    "    Climo: {}\n",
    "},\n",
    "{\n",
    "    Location: cwa1,\n",
    "    Type: 'CWA',\n",
    "    Current: {},\n",
    "    Climo: {}\n",
    "}\n",
    ",\n",
    "{\n",
    "    Location: cwa2,\n",
    "    Type: 'CWA',\n",
    "    Current: {},\n",
    "    Climo: {}\n",
    "},\n",
    "{\n",
    "    Location: fema1,\n",
    "    Type: 'FEMA',\n",
    "    Current: {},\n",
    "    Climo: {}\n",
    "}\n",
    ",\n",
    "{\n",
    "    Location: fema2,\n",
    "    Type: 'FEMA',\n",
    "    Current: {},\n",
    "    Climo: {}\n",
    "}]"
   ]
  },
  {
   "cell_type": "code",
   "execution_count": 10,
   "id": "nearby-lying",
   "metadata": {
    "tags": []
   },
   "outputs": [],
   "source": [
    "jsonResponse = []"
   ]
  },
  {
   "cell_type": "code",
   "execution_count": 11,
   "id": "consistent-nevada",
   "metadata": {},
   "outputs": [],
   "source": [
    "# Function to count tornadoes in each simulation\n",
    "def torCounter(df,filled_df):\n",
    "    # Use arbitrary column to get count of entries for each sim (i.e., count of tornadoes)\n",
    "    torsBySim = df.groupby(\"sim\").count().loc[:,'wfos']\n",
    "    \n",
    "    # Merge this count with the original \n",
    "    merged = filled_df.merge(torsBySim,how='left',on='sim')\n",
    "    merged.fillna(value=0,inplace=True)\n",
    "    merged.rename(columns={'wfos':'tornadoes'},inplace=True)\n",
    "    return merged"
   ]
  },
  {
   "cell_type": "code",
   "execution_count": 6,
   "id": "weekly-target",
   "metadata": {},
   "outputs": [],
   "source": [
    "# Read in example psv\n",
    "file = '../data/output/examples/20210428124600_schools_fema.psv.gz'\n",
    "df = pd.read_csv(file, sep=\"|\")"
   ]
  },
  {
   "cell_type": "code",
   "execution_count": 9,
   "id": "invalid-works",
   "metadata": {},
   "outputs": [
    {
     "data": {
      "text/plain": [
       "<AxesSubplot:>"
      ]
     },
     "execution_count": 9,
     "metadata": {},
     "output_type": "execute_result"
    },
    {
     "data": {
      "image/png": "[encoded data removed]",
      "text/plain": [
       "<Figure size 432x288 with 1 Axes>"
      ]
     },
     "metadata": {
      "needs_background": "light"
     },
     "output_type": "display_data"
    }
   ],
   "source": [
    "df['time'].hist(bins=8)"
   ]
  },
  {
   "cell_type": "code",
   "execution_count": 14,
   "id": "crude-parent",
   "metadata": {},
   "outputs": [],
   "source": [
    "sims = df.groupby(\"sim\")\n",
    "fields = sims.sum().loc[:,('population','hospitals','schools','mobilehomes','psubstations')]\n",
    "\n",
    "# Fill missing sims with 0s (artifact of how pas writes out files)\n",
    "fill_fields = fields.reindex(list(range(1,nsims+1)),fill_value=0)"
   ]
  },
  {
   "cell_type": "code",
   "execution_count": 15,
   "id": "unlike-concentrate",
   "metadata": {},
   "outputs": [],
   "source": [
    "# Get tornado counts\n",
    "merged = torCounter(df,fill_fields)"
   ]
  },
  {
   "cell_type": "code",
   "execution_count": 16,
   "id": "controlling-borough",
   "metadata": {},
   "outputs": [
    {
     "data": {
      "text/html": [
       "<div>\n",
       "<style scoped>\n",
       "    .dataframe tbody tr th:only-of-type {\n",
       "        vertical-align: middle;\n",
       "    }\n",
       "\n",
       "    .dataframe tbody tr th {\n",
       "        vertical-align: top;\n",
       "    }\n",
       "\n",
       "    .dataframe thead th {\n",
       "        text-align: right;\n",
       "    }\n",
       "</style>\n",
       "<table border=\"1\" class=\"dataframe\">\n",
       "  <thead>\n",
       "    <tr style=\"text-align: right;\">\n",
       "      <th></th>\n",
       "      <th>population</th>\n",
       "      <th>hospitals</th>\n",
       "      <th>schools</th>\n",
       "      <th>mobilehomes</th>\n",
       "      <th>psubstations</th>\n",
       "      <th>tornadoes</th>\n",
       "    </tr>\n",
       "  </thead>\n",
       "  <tbody>\n",
       "    <tr>\n",
       "      <th>0.1</th>\n",
       "      <td>240</td>\n",
       "      <td>0</td>\n",
       "      <td>0</td>\n",
       "      <td>0</td>\n",
       "      <td>0</td>\n",
       "      <td>2.0</td>\n",
       "    </tr>\n",
       "    <tr>\n",
       "      <th>0.5</th>\n",
       "      <td>4640</td>\n",
       "      <td>0</td>\n",
       "      <td>3</td>\n",
       "      <td>0</td>\n",
       "      <td>1</td>\n",
       "      <td>6.0</td>\n",
       "    </tr>\n",
       "    <tr>\n",
       "      <th>0.9</th>\n",
       "      <td>46432</td>\n",
       "      <td>2</td>\n",
       "      <td>20</td>\n",
       "      <td>250</td>\n",
       "      <td>8</td>\n",
       "      <td>18.0</td>\n",
       "    </tr>\n",
       "  </tbody>\n",
       "</table>\n",
       "</div>"
      ],
      "text/plain": [
       "     population  hospitals  schools  mobilehomes  psubstations  tornadoes\n",
       "0.1         240          0        0            0             0        2.0\n",
       "0.5        4640          0        3            0             1        6.0\n",
       "0.9       46432          2       20          250             8       18.0"
      ]
     },
     "execution_count": 16,
     "metadata": {},
     "output_type": "execute_result"
    }
   ],
   "source": [
    "quants = merged.quantile(q=[0.1,0.5,0.9],interpolation='nearest')\n",
    "quants"
   ]
  },
  {
   "cell_type": "code",
   "execution_count": 17,
   "id": "together-check",
   "metadata": {},
   "outputs": [],
   "source": [
    "nationalResponse = {\n",
    "    'Location': 'National',\n",
    "    'Type': 'National',\n",
    "    'Current': {},\n",
    "    'Climo': {}\n",
    "}\n",
    "\n",
    "for name in quants.columns:\n",
    "    \n",
    "    nationalResponse['Current'][name] = {}\n",
    "    nationalResponse['Climo'][name] = {}\n",
    "    \n",
    "    for quant in quants.index:\n",
    "        \n",
    "        nationalResponse['Current'][name][quant] = int(quants.loc[quant,name])\n",
    "        # Just generate random numbers for climo until we have the necessary numbers\n",
    "        nationalResponse['Climo'][name][quant] = random.random()*10"
   ]
  },
  {
   "cell_type": "code",
   "execution_count": 18,
   "id": "sonic-parks",
   "metadata": {},
   "outputs": [],
   "source": [
    "jsonResponse.append(nationalResponse)"
   ]
  },
  {
   "cell_type": "markdown",
   "id": "therapeutic-tanzania",
   "metadata": {},
   "source": [
    "### FEMA"
   ]
  },
  {
   "cell_type": "code",
   "execution_count": 7,
   "id": "preliminary-elevation",
   "metadata": {},
   "outputs": [],
   "source": [
    "femaBrokenOut = df.assign(category=df['fema'].str.split(',')).explode('category').reset_index(drop=True)\n",
    "\n",
    "# Remove row if state is NaN\n",
    "femaBrokenOut = femaBrokenOut[femaBrokenOut['category'].notna()]\n",
    "\n",
    "# Grab a list of the unique states in the simulation\n",
    "femaImpacted = femaBrokenOut['category'].unique().tolist()"
   ]
  },
  {
   "cell_type": "code",
   "execution_count": 20,
   "id": "effective-deficit",
   "metadata": {},
   "outputs": [],
   "source": [
    "for fema in femaImpacted:\n",
    "    \n",
    "    femaResponse = {\n",
    "        'Location': fema,\n",
    "        'Type': 'FEMA',\n",
    "        'Current': {},\n",
    "        'Climo': {}\n",
    "    }\n",
    "    \n",
    "    ind_fema = femaBrokenOut[femaBrokenOut['category'] == fema]\n",
    "    #print(f'State: {state}')\n",
    "    ind_fema_group = ind_fema.groupby(\"sim\").sum().loc[:,['population','hospitals','schools','mobilehomes','psubstations']]\n",
    "    ind_fema_tot = ind_fema_group.reindex(list(range(1,10001)),fill_value=0)\n",
    "    \n",
    "    # Get tor counts for each state\n",
    "    ind_fema_tot = torCounter(ind_fema,ind_fema_tot)\n",
    "    \n",
    "    fema_quants = ind_fema_tot.quantile(q=[0.1,0.5,0.9],interpolation='nearest')\n",
    "    \n",
    "    for name in fema_quants.columns:\n",
    "    \n",
    "        femaResponse['Current'][name] = {}\n",
    "        femaResponse['Climo'][name] = {}\n",
    "\n",
    "        for quant in fema_quants.index:\n",
    "\n",
    "            femaResponse['Current'][name][quant] = int(fema_quants.loc[quant,name])\n",
    "            # Just generate random numbers for climo until we have the necessary numbers\n",
    "            femaResponse['Climo'][name][quant] = random.random()*10\n",
    "            \n",
    "    jsonResponse.append(femaResponse)"
   ]
  },
  {
   "cell_type": "markdown",
   "id": "comic-vampire",
   "metadata": {},
   "source": [
    "### States"
   ]
  },
  {
   "cell_type": "code",
   "execution_count": 22,
   "id": "romance-trauma",
   "metadata": {},
   "outputs": [],
   "source": [
    "stBrokenOut = df.assign(category=df['states'].str.split(',')).explode('category').reset_index(drop=True)\n",
    "\n",
    "# Remove row if state is NaN\n",
    "stBrokenOut = stBrokenOut[stBrokenOut['category'].notna()]\n",
    "\n",
    "# Grab a list of the unique states in the simulation\n",
    "statesImpacted = stBrokenOut['category'].unique().tolist()"
   ]
  },
  {
   "cell_type": "code",
   "execution_count": 23,
   "id": "approved-joshua",
   "metadata": {},
   "outputs": [],
   "source": [
    "for state in statesImpacted:\n",
    "    \n",
    "    stateResponse = {\n",
    "        'Location': state,\n",
    "        'Type': 'State',\n",
    "        'Current': {},\n",
    "        'Climo': {}\n",
    "    }\n",
    "    \n",
    "    ind_state = stBrokenOut[stBrokenOut['category'] == state]\n",
    "    #print(f'State: {state}')\n",
    "    ind_state_group = ind_state.groupby(\"sim\").sum().loc[:,['population','hospitals','schools','mobilehomes','psubstations']]\n",
    "    ind_state_tot = ind_state_group.reindex(list(range(1,10001)),fill_value=0)\n",
    "    \n",
    "    # Get tor counts for each state\n",
    "    ind_state_tot = torCounter(ind_state,ind_state_tot)\n",
    "    \n",
    "    st_quants = ind_state_tot.quantile(q=[0.1,0.5,0.9],interpolation='nearest')\n",
    "    \n",
    "    for name in st_quants.columns:\n",
    "    \n",
    "        stateResponse['Current'][name] = {}\n",
    "        stateResponse['Climo'][name] = {}\n",
    "\n",
    "        for quant in st_quants.index:\n",
    "\n",
    "            stateResponse['Current'][name][quant] = int(st_quants.loc[quant,name])\n",
    "            # Just generate random numbers for climo until we have the necessary numbers\n",
    "            stateResponse['Climo'][name][quant] = random.random()*10\n",
    "            \n",
    "    jsonResponse.append(stateResponse)"
   ]
  },
  {
   "cell_type": "markdown",
   "id": "innovative-ordinance",
   "metadata": {},
   "source": [
    "### CWAs"
   ]
  },
  {
   "cell_type": "code",
   "execution_count": 24,
   "id": "handled-billy",
   "metadata": {},
   "outputs": [],
   "source": [
    "cwaBrokenOut = df.assign(category=df['wfos'].str.split(',')).explode('category').reset_index(drop=True)\n",
    "\n",
    "# Remove row if state is NaN\n",
    "cwaBrokenOut = cwaBrokenOut[cwaBrokenOut['category'].notna()]\n",
    "\n",
    "# Grab a list of the unique states in the simulation\n",
    "cwasImpacted = cwaBrokenOut['category'].unique().tolist()"
   ]
  },
  {
   "cell_type": "code",
   "execution_count": 25,
   "id": "registered-style",
   "metadata": {},
   "outputs": [],
   "source": [
    "for cwa in cwasImpacted:\n",
    "    \n",
    "    cwaResponse = {\n",
    "        'Location': cwa,\n",
    "        'Type': 'CWA',\n",
    "        'Current': {},\n",
    "        'Climo': {}\n",
    "    }\n",
    "    \n",
    "    ind_cwa = cwaBrokenOut[cwaBrokenOut['category'] == cwa]\n",
    "    ind_cwa_group = ind_cwa.groupby(\"sim\").sum().loc[:,['population','hospitals','schools','mobilehomes','psubstations']]\n",
    "    ind_cwa_tot = ind_cwa_group.reindex(list(range(1,10001)),fill_value=0)\n",
    "    \n",
    "    # Get tor counts for each state\n",
    "    ind_cwa_tot = torCounter(ind_cwa,ind_cwa_tot)\n",
    "    \n",
    "    cwa_quants = ind_cwa_tot.quantile(q=[0.1,0.5,0.9],interpolation='nearest')\n",
    "    \n",
    "    for name in cwa_quants.columns:\n",
    "    \n",
    "        cwaResponse['Current'][name] = {}\n",
    "        cwaResponse['Climo'][name] = {}\n",
    "\n",
    "        for quant in cwa_quants.index:\n",
    "\n",
    "            cwaResponse['Current'][name][quant] = int(cwa_quants.loc[quant,name])\n",
    "            # Just generate random numbers for climo until we have the necessary numbers\n",
    "            cwaResponse['Climo'][name][quant] = random.random()*10\n",
    "            \n",
    "    jsonResponse.append(cwaResponse)"
   ]
  },
  {
   "cell_type": "code",
   "execution_count": 26,
   "id": "solar-specification",
   "metadata": {},
   "outputs": [],
   "source": [
    "with open('../data/output/examples/jsonResponse_schoolsfema.json','w') as fp:\n",
    "    json.dump(jsonResponse, fp)"
   ]
  },
  {
   "cell_type": "code",
   "execution_count": 28,
   "id": "revised-vertex",
   "metadata": {},
   "outputs": [
    {
     "data": {
      "text/plain": [
       "{'Location': 'National',\n",
       " 'Type': 'National',\n",
       " 'Current': {'population': {0.1: 240, 0.5: 4640, 0.9: 46432},\n",
       "  'hospitals': {0.1: 0, 0.5: 0, 0.9: 2},\n",
       "  'schools': {0.1: 0, 0.5: 3, 0.9: 20},\n",
       "  'mobilehomes': {0.1: 0, 0.5: 0, 0.9: 250},\n",
       "  'psubstations': {0.1: 0, 0.5: 1, 0.9: 8},\n",
       "  'tornadoes': {0.1: 2, 0.5: 6, 0.9: 18}},\n",
       " 'Climo': {'population': {0.1: 3.47032136393441,\n",
       "   0.5: 5.988942965623777,\n",
       "   0.9: 6.60761784689729},\n",
       "  'hospitals': {0.1: 4.517491968683695,\n",
       "   0.5: 3.8528047527110667,\n",
       "   0.9: 8.15961085171249},\n",
       "  'schools': {0.1: 2.825898861088705,\n",
       "   0.5: 2.6808972927475248,\n",
       "   0.9: 7.245739844816664},\n",
       "  'mobilehomes': {0.1: 4.036356937986704,\n",
       "   0.5: 1.1997344187423342,\n",
       "   0.9: 7.154713682688509},\n",
       "  'psubstations': {0.1: 9.42134997575721,\n",
       "   0.5: 3.4262464312732166,\n",
       "   0.9: 5.849591234256546},\n",
       "  'tornadoes': {0.1: 5.665011693715366,\n",
       "   0.5: 6.193443808730269,\n",
       "   0.9: 3.5326665590584785}}}"
      ]
     },
     "execution_count": 28,
     "metadata": {},
     "output_type": "execute_result"
    }
   ],
   "source": [
    "jsonResponse[0]"
   ]
  },
  {
   "cell_type": "code",
   "execution_count": null,
   "id": "dutch-intelligence",
   "metadata": {},
   "outputs": [],
   "source": []
  }
 ],
 "metadata": {
  "kernelspec": {
   "display_name": "Python 3",
   "language": "python",
   "name": "python3"
  },
  "language_info": {
   "codemirror_mode": {
    "name": "ipython",
    "version": 3
   },
   "file_extension": ".py",
   "mimetype": "text/x-python",
   "name": "python",
   "nbconvert_exporter": "python",
   "pygments_lexer": "ipython3",
   "version": "3.8.8"
  }
 },
 "nbformat": 4,
 "nbformat_minor": 5
}

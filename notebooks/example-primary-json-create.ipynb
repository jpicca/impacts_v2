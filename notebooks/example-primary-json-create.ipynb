{
 "cells": [
  {
   "cell_type": "markdown",
   "id": "mental-swiss",
   "metadata": {},
   "source": [
    "The purpose of this notebook is to create example json files (similar to however a backend API would be serving data) to create a prototype dashboard of the next version of the IMPACTS dashboard."
   ]
  },
  {
   "cell_type": "code",
   "execution_count": 7,
   "id": "protecting-boston",
   "metadata": {
    "execution": {
     "iopub.execute_input": "2021-07-20T15:01:22.106562Z",
     "iopub.status.busy": "2021-07-20T15:01:22.100783Z",
     "iopub.status.idle": "2021-07-20T15:01:22.128105Z",
     "shell.execute_reply": "2021-07-20T15:01:22.127271Z",
     "shell.execute_reply.started": "2021-07-20T15:01:22.106486Z"
    }
   },
   "outputs": [],
   "source": [
    "import pathlib\n",
    "import glob\n",
    "import os\n",
    "\n",
    "import argparse\n",
    "import geojson\n",
    "import pandas as pd\n",
    "import json\n",
    "import random\n",
    "\n",
    "from datetime import datetime, timedelta"
   ]
  },
  {
   "cell_type": "code",
   "execution_count": 8,
   "id": "continuing-beverage",
   "metadata": {
    "execution": {
     "iopub.execute_input": "2021-07-20T15:01:27.221204Z",
     "iopub.status.busy": "2021-07-20T15:01:27.219959Z",
     "iopub.status.idle": "2021-07-20T15:01:27.226796Z",
     "shell.execute_reply": "2021-07-20T15:01:27.226091Z",
     "shell.execute_reply.started": "2021-07-20T15:01:27.221171Z"
    },
    "tags": []
   },
   "outputs": [],
   "source": [
    "# Helper array for day indexing\n",
    "aggregateMonths = [0, 31, 60, 91, 121, 152, 182, 213, 244, 274, 305, 335]\n",
    "nsims = 10000"
   ]
  },
  {
   "cell_type": "markdown",
   "id": "fifth-ratio",
   "metadata": {
    "tags": []
   },
   "source": [
    "## Generate data for the quantile table"
   ]
  },
  {
   "cell_type": "markdown",
   "id": "confused-giving",
   "metadata": {},
   "source": [
    "#json_form...\n",
    "\n",
    "[{\n",
    "    Location: 'National',\n",
    "    Type: 'National',\n",
    "    Current: {\n",
    "        tornadoes: {\n",
    "            10: 5,\n",
    "            50: 9,\n",
    "            90: 14\n",
    "        },\n",
    "        population: {\n",
    "            10: 100,\n",
    "            50: 435,\n",
    "            90: 1340\n",
    "        },\n",
    "        ...\n",
    "    },\n",
    "    Climo: {\n",
    "        tornadoes: {\n",
    "            10: 3,\n",
    "            50: 5,\n",
    "            90: 10\n",
    "        },\n",
    "        population: {\n",
    "            10: 50,\n",
    "            50: 325,\n",
    "            90: 900\n",
    "        },\n",
    "        ...\n",
    "    }\n",
    "},\n",
    "{\n",
    "    Location: state1,\n",
    "    Type: 'State',\n",
    "    Current: {},\n",
    "    Climo: {}\n",
    "}\n",
    ",\n",
    "{\n",
    "    Location: state2,\n",
    "    Type: 'State',\n",
    "    Current: {},\n",
    "    Climo: {}\n",
    "},\n",
    "{\n",
    "    Location: cwa1,\n",
    "    Type: 'CWA',\n",
    "    Current: {},\n",
    "    Climo: {}\n",
    "}\n",
    ",\n",
    "{\n",
    "    Location: cwa2,\n",
    "    Type: 'CWA',\n",
    "    Current: {},\n",
    "    Climo: {}\n",
    "},\n",
    "{\n",
    "    Location: fema1,\n",
    "    Type: 'FEMA',\n",
    "    Current: {},\n",
    "    Climo: {}\n",
    "}\n",
    ",\n",
    "{\n",
    "    Location: fema2,\n",
    "    Type: 'FEMA',\n",
    "    Current: {},\n",
    "    Climo: {}\n",
    "}]"
   ]
  },
  {
   "cell_type": "code",
   "execution_count": 9,
   "id": "waiting-building",
   "metadata": {
    "execution": {
     "iopub.execute_input": "2021-07-20T15:01:30.064347Z",
     "iopub.status.busy": "2021-07-20T15:01:30.064122Z",
     "iopub.status.idle": "2021-07-20T15:01:30.067935Z",
     "shell.execute_reply": "2021-07-20T15:01:30.067198Z",
     "shell.execute_reply.started": "2021-07-20T15:01:30.064323Z"
    },
    "tags": []
   },
   "outputs": [],
   "source": [
    "jsonResponse = []"
   ]
  },
  {
   "cell_type": "code",
   "execution_count": 10,
   "id": "frank-carpet",
   "metadata": {
    "execution": {
     "iopub.execute_input": "2021-07-20T15:01:31.546747Z",
     "iopub.status.busy": "2021-07-20T15:01:31.546489Z",
     "iopub.status.idle": "2021-07-20T15:01:31.552562Z",
     "shell.execute_reply": "2021-07-20T15:01:31.551956Z",
     "shell.execute_reply.started": "2021-07-20T15:01:31.546719Z"
    }
   },
   "outputs": [],
   "source": [
    "# Function to count tornadoes in each simulation\n",
    "def torCounter(df,filled_df):\n",
    "    # Use arbitrary column to get count of entries for each sim (i.e., count of tornadoes)\n",
    "    torsBySim = df.groupby(\"sim\").count().loc[:,'wfos']\n",
    "    \n",
    "    # Merge this count with the original \n",
    "    merged = filled_df.merge(torsBySim,how='left',on='sim')\n",
    "    merged.fillna(value=0,inplace=True)\n",
    "    merged.rename(columns={'wfos':'tornadoes'},inplace=True)\n",
    "    return merged"
   ]
  },
  {
   "cell_type": "code",
   "execution_count": 19,
   "id": "lesbian-fitting",
   "metadata": {
    "execution": {
     "iopub.execute_input": "2021-07-20T15:32:45.379235Z",
     "iopub.status.busy": "2021-07-20T15:32:45.379002Z",
     "iopub.status.idle": "2021-07-20T15:32:47.027734Z",
     "shell.execute_reply": "2021-07-20T15:32:47.026939Z",
     "shell.execute_reply.started": "2021-07-20T15:32:45.379211Z"
    },
    "tags": []
   },
   "outputs": [],
   "source": [
    "# Read in example psv\n",
    "file = '../data/output/examples/20110427/psvs/20110427162927_schools_fema_time.psv.gz'\n",
    "df = pd.read_csv(file, sep=\"|\")"
   ]
  },
  {
   "cell_type": "code",
   "execution_count": 20,
   "id": "gorgeous-israeli",
   "metadata": {
    "execution": {
     "iopub.execute_input": "2021-07-20T15:32:48.476960Z",
     "iopub.status.busy": "2021-07-20T15:32:48.476734Z",
     "iopub.status.idle": "2021-07-20T15:32:48.493630Z",
     "shell.execute_reply": "2021-07-20T15:32:48.492989Z",
     "shell.execute_reply.started": "2021-07-20T15:32:48.476936Z"
    },
    "tags": []
   },
   "outputs": [
    {
     "data": {
      "text/html": [
       "<div>\n",
       "<style scoped>\n",
       "    .dataframe tbody tr th:only-of-type {\n",
       "        vertical-align: middle;\n",
       "    }\n",
       "\n",
       "    .dataframe tbody tr th {\n",
       "        vertical-align: top;\n",
       "    }\n",
       "\n",
       "    .dataframe thead th {\n",
       "        text-align: right;\n",
       "    }\n",
       "</style>\n",
       "<table border=\"1\" class=\"dataframe\">\n",
       "  <thead>\n",
       "    <tr style=\"text-align: right;\">\n",
       "      <th></th>\n",
       "      <th>sim</th>\n",
       "      <th>population</th>\n",
       "      <th>distance</th>\n",
       "      <th>rating</th>\n",
       "      <th>states</th>\n",
       "      <th>counties</th>\n",
       "      <th>wfos</th>\n",
       "      <th>hospitals</th>\n",
       "      <th>hospitalbeds</th>\n",
       "      <th>mobileparks</th>\n",
       "      <th>mobilehomes</th>\n",
       "      <th>psubstations</th>\n",
       "      <th>plines</th>\n",
       "      <th>slon</th>\n",
       "      <th>slat</th>\n",
       "      <th>elon</th>\n",
       "      <th>elat</th>\n",
       "      <th>schools</th>\n",
       "      <th>fema</th>\n",
       "      <th>time</th>\n",
       "    </tr>\n",
       "  </thead>\n",
       "  <tbody>\n",
       "    <tr>\n",
       "      <th>0</th>\n",
       "      <td>1</td>\n",
       "      <td>2544</td>\n",
       "      <td>4.4415</td>\n",
       "      <td>3</td>\n",
       "      <td>MS</td>\n",
       "      <td>28081</td>\n",
       "      <td>MEG</td>\n",
       "      <td>0</td>\n",
       "      <td>0</td>\n",
       "      <td>0</td>\n",
       "      <td>0</td>\n",
       "      <td>0</td>\n",
       "      <td>0</td>\n",
       "      <td>-88.6066</td>\n",
       "      <td>34.3619</td>\n",
       "      <td>-88.5379</td>\n",
       "      <td>34.3921</td>\n",
       "      <td>0</td>\n",
       "      <td>4</td>\n",
       "      <td>13</td>\n",
       "    </tr>\n",
       "    <tr>\n",
       "      <th>1</th>\n",
       "      <td>1</td>\n",
       "      <td>624</td>\n",
       "      <td>3.9692</td>\n",
       "      <td>2</td>\n",
       "      <td>KY</td>\n",
       "      <td>21051,21121</td>\n",
       "      <td>JKL</td>\n",
       "      <td>0</td>\n",
       "      <td>0</td>\n",
       "      <td>0</td>\n",
       "      <td>0</td>\n",
       "      <td>0</td>\n",
       "      <td>0</td>\n",
       "      <td>-83.8111</td>\n",
       "      <td>37.0729</td>\n",
       "      <td>-83.7601</td>\n",
       "      <td>37.1134</td>\n",
       "      <td>2</td>\n",
       "      <td>4</td>\n",
       "      <td>20</td>\n",
       "    </tr>\n",
       "    <tr>\n",
       "      <th>2</th>\n",
       "      <td>1</td>\n",
       "      <td>3280</td>\n",
       "      <td>27.0073</td>\n",
       "      <td>4</td>\n",
       "      <td>AL,GA</td>\n",
       "      <td>1019,13055,13115</td>\n",
       "      <td>BMX,FFC</td>\n",
       "      <td>0</td>\n",
       "      <td>0</td>\n",
       "      <td>0</td>\n",
       "      <td>0</td>\n",
       "      <td>3</td>\n",
       "      <td>3</td>\n",
       "      <td>-85.5258</td>\n",
       "      <td>34.2540</td>\n",
       "      <td>-85.1459</td>\n",
       "      <td>34.4873</td>\n",
       "      <td>1</td>\n",
       "      <td>4,4</td>\n",
       "      <td>16</td>\n",
       "    </tr>\n",
       "    <tr>\n",
       "      <th>3</th>\n",
       "      <td>1</td>\n",
       "      <td>928</td>\n",
       "      <td>1.1927</td>\n",
       "      <td>0</td>\n",
       "      <td>AL</td>\n",
       "      <td>1089</td>\n",
       "      <td>HUN</td>\n",
       "      <td>0</td>\n",
       "      <td>0</td>\n",
       "      <td>0</td>\n",
       "      <td>0</td>\n",
       "      <td>0</td>\n",
       "      <td>0</td>\n",
       "      <td>-86.4543</td>\n",
       "      <td>35.0071</td>\n",
       "      <td>-86.4403</td>\n",
       "      <td>35.0201</td>\n",
       "      <td>0</td>\n",
       "      <td>4</td>\n",
       "      <td>9</td>\n",
       "    </tr>\n",
       "    <tr>\n",
       "      <th>4</th>\n",
       "      <td>1</td>\n",
       "      <td>6464</td>\n",
       "      <td>0.1907</td>\n",
       "      <td>0</td>\n",
       "      <td>PA</td>\n",
       "      <td>42049</td>\n",
       "      <td>CLE</td>\n",
       "      <td>0</td>\n",
       "      <td>0</td>\n",
       "      <td>0</td>\n",
       "      <td>0</td>\n",
       "      <td>0</td>\n",
       "      <td>0</td>\n",
       "      <td>-79.9165</td>\n",
       "      <td>42.1845</td>\n",
       "      <td>-79.9137</td>\n",
       "      <td>42.1863</td>\n",
       "      <td>0</td>\n",
       "      <td>3</td>\n",
       "      <td>11</td>\n",
       "    </tr>\n",
       "  </tbody>\n",
       "</table>\n",
       "</div>"
      ],
      "text/plain": [
       "   sim  population  distance  rating states           counties     wfos  \\\n",
       "0    1        2544    4.4415       3     MS              28081      MEG   \n",
       "1    1         624    3.9692       2     KY        21051,21121      JKL   \n",
       "2    1        3280   27.0073       4  AL,GA   1019,13055,13115  BMX,FFC   \n",
       "3    1         928    1.1927       0     AL               1089      HUN   \n",
       "4    1        6464    0.1907       0     PA              42049      CLE   \n",
       "\n",
       "   hospitals  hospitalbeds  mobileparks  mobilehomes  psubstations  plines  \\\n",
       "0          0             0            0            0             0       0   \n",
       "1          0             0            0            0             0       0   \n",
       "2          0             0            0            0             3       3   \n",
       "3          0             0            0            0             0       0   \n",
       "4          0             0            0            0             0       0   \n",
       "\n",
       "      slon     slat     elon     elat  schools fema  time  \n",
       "0 -88.6066  34.3619 -88.5379  34.3921        0    4    13  \n",
       "1 -83.8111  37.0729 -83.7601  37.1134        2    4    20  \n",
       "2 -85.5258  34.2540 -85.1459  34.4873        1  4,4    16  \n",
       "3 -86.4543  35.0071 -86.4403  35.0201        0    4     9  \n",
       "4 -79.9165  42.1845 -79.9137  42.1863        0    3    11  "
      ]
     },
     "execution_count": 20,
     "metadata": {},
     "output_type": "execute_result"
    }
   ],
   "source": [
    "df.head()"
   ]
  },
  {
   "cell_type": "code",
   "execution_count": 21,
   "id": "gentle-hopkins",
   "metadata": {
    "execution": {
     "iopub.execute_input": "2021-07-20T15:32:57.206177Z",
     "iopub.status.busy": "2021-07-20T15:32:57.205962Z",
     "iopub.status.idle": "2021-07-20T15:32:57.455716Z",
     "shell.execute_reply": "2021-07-20T15:32:57.454965Z",
     "shell.execute_reply.started": "2021-07-20T15:32:57.206155Z"
    }
   },
   "outputs": [],
   "source": [
    "sims = df.groupby(\"sim\")\n",
    "fields = sims.sum().loc[:,('population','hospitals','schools','mobilehomes','psubstations')]\n",
    "\n",
    "# Fill missing sims with 0s (artifact of how pas writes out files)\n",
    "fill_fields = fields.reindex(list(range(1,nsims+1)),fill_value=0)"
   ]
  },
  {
   "cell_type": "code",
   "execution_count": 22,
   "id": "suspected-institution",
   "metadata": {
    "execution": {
     "iopub.execute_input": "2021-07-20T15:32:58.263520Z",
     "iopub.status.busy": "2021-07-20T15:32:58.263263Z",
     "iopub.status.idle": "2021-07-20T15:32:58.543382Z",
     "shell.execute_reply": "2021-07-20T15:32:58.542710Z",
     "shell.execute_reply.started": "2021-07-20T15:32:58.263492Z"
    }
   },
   "outputs": [],
   "source": [
    "# Get tornado counts\n",
    "merged = torCounter(df,fill_fields)"
   ]
  },
  {
   "cell_type": "code",
   "execution_count": 23,
   "id": "blond-pipeline",
   "metadata": {
    "execution": {
     "iopub.execute_input": "2021-07-20T15:33:00.372469Z",
     "iopub.status.busy": "2021-07-20T15:33:00.372160Z",
     "iopub.status.idle": "2021-07-20T15:33:00.382757Z",
     "shell.execute_reply": "2021-07-20T15:33:00.382108Z",
     "shell.execute_reply.started": "2021-07-20T15:33:00.372439Z"
    }
   },
   "outputs": [
    {
     "data": {
      "text/html": [
       "<div>\n",
       "<style scoped>\n",
       "    .dataframe tbody tr th:only-of-type {\n",
       "        vertical-align: middle;\n",
       "    }\n",
       "\n",
       "    .dataframe tbody tr th {\n",
       "        vertical-align: top;\n",
       "    }\n",
       "\n",
       "    .dataframe thead th {\n",
       "        text-align: right;\n",
       "    }\n",
       "</style>\n",
       "<table border=\"1\" class=\"dataframe\">\n",
       "  <thead>\n",
       "    <tr style=\"text-align: right;\">\n",
       "      <th></th>\n",
       "      <th>population</th>\n",
       "      <th>hospitals</th>\n",
       "      <th>schools</th>\n",
       "      <th>mobilehomes</th>\n",
       "      <th>psubstations</th>\n",
       "      <th>tornadoes</th>\n",
       "    </tr>\n",
       "  </thead>\n",
       "  <tbody>\n",
       "    <tr>\n",
       "      <th>0.1</th>\n",
       "      <td>83728</td>\n",
       "      <td>1</td>\n",
       "      <td>30</td>\n",
       "      <td>425</td>\n",
       "      <td>24</td>\n",
       "      <td>45</td>\n",
       "    </tr>\n",
       "    <tr>\n",
       "      <th>0.5</th>\n",
       "      <td>190000</td>\n",
       "      <td>4</td>\n",
       "      <td>70</td>\n",
       "      <td>1150</td>\n",
       "      <td>53</td>\n",
       "      <td>82</td>\n",
       "    </tr>\n",
       "    <tr>\n",
       "      <th>0.9</th>\n",
       "      <td>391664</td>\n",
       "      <td>11</td>\n",
       "      <td>145</td>\n",
       "      <td>2500</td>\n",
       "      <td>105</td>\n",
       "      <td>154</td>\n",
       "    </tr>\n",
       "  </tbody>\n",
       "</table>\n",
       "</div>"
      ],
      "text/plain": [
       "     population  hospitals  schools  mobilehomes  psubstations  tornadoes\n",
       "0.1       83728          1       30          425            24         45\n",
       "0.5      190000          4       70         1150            53         82\n",
       "0.9      391664         11      145         2500           105        154"
      ]
     },
     "execution_count": 23,
     "metadata": {},
     "output_type": "execute_result"
    }
   ],
   "source": [
    "quants = merged.quantile(q=[0.1,0.5,0.9],interpolation='nearest')\n",
    "quants"
   ]
  },
  {
   "cell_type": "code",
   "execution_count": 24,
   "id": "ordinary-document",
   "metadata": {
    "execution": {
     "iopub.execute_input": "2021-07-20T15:34:16.326040Z",
     "iopub.status.busy": "2021-07-20T15:34:16.325809Z",
     "iopub.status.idle": "2021-07-20T15:34:16.331504Z",
     "shell.execute_reply": "2021-07-20T15:34:16.330816Z",
     "shell.execute_reply.started": "2021-07-20T15:34:16.326016Z"
    }
   },
   "outputs": [],
   "source": [
    "nationalResponse = {\n",
    "    'Location': 'National',\n",
    "    'Type': 'National',\n",
    "    'Current': {},\n",
    "    'Climo': {}\n",
    "}\n",
    "\n",
    "for name in quants.columns:\n",
    "    \n",
    "    nationalResponse['Current'][name] = {}\n",
    "    nationalResponse['Climo'][name] = {}\n",
    "    \n",
    "    for quant in quants.index:\n",
    "        \n",
    "        nationalResponse['Current'][name][quant] = int(quants.loc[quant,name])\n",
    "        # Just generate random numbers for climo until we have the necessary numbers\n",
    "        nationalResponse['Climo'][name][quant] = random.random()*10"
   ]
  },
  {
   "cell_type": "code",
   "execution_count": 25,
   "id": "constant-phoenix",
   "metadata": {
    "execution": {
     "iopub.execute_input": "2021-07-20T15:34:17.434686Z",
     "iopub.status.busy": "2021-07-20T15:34:17.434437Z",
     "iopub.status.idle": "2021-07-20T15:34:17.437692Z",
     "shell.execute_reply": "2021-07-20T15:34:17.437048Z",
     "shell.execute_reply.started": "2021-07-20T15:34:17.434659Z"
    }
   },
   "outputs": [],
   "source": [
    "jsonResponse.append(nationalResponse)"
   ]
  },
  {
   "cell_type": "markdown",
   "id": "detailed-mechanics",
   "metadata": {},
   "source": [
    "### FEMA"
   ]
  },
  {
   "cell_type": "code",
   "execution_count": 27,
   "id": "outdoor-component",
   "metadata": {
    "execution": {
     "iopub.execute_input": "2021-07-20T15:34:50.839703Z",
     "iopub.status.busy": "2021-07-20T15:34:50.839438Z",
     "iopub.status.idle": "2021-07-20T15:34:54.103878Z",
     "shell.execute_reply": "2021-07-20T15:34:54.103048Z",
     "shell.execute_reply.started": "2021-07-20T15:34:50.839674Z"
    }
   },
   "outputs": [],
   "source": [
    "femaBrokenOut = df.assign(category=df['fema'].str.split(',')).explode('category').reset_index(drop=True)\n",
    "\n",
    "# Remove row if state is NaN\n",
    "femaBrokenOut = femaBrokenOut[femaBrokenOut['category'].notna()]\n",
    "\n",
    "# Grab a list of the unique states in the simulation\n",
    "femaImpacted = femaBrokenOut['category'].unique().tolist()"
   ]
  },
  {
   "cell_type": "code",
   "execution_count": 28,
   "id": "korean-crowd",
   "metadata": {
    "execution": {
     "iopub.execute_input": "2021-07-20T15:34:57.346948Z",
     "iopub.status.busy": "2021-07-20T15:34:57.346688Z",
     "iopub.status.idle": "2021-07-20T15:34:58.384048Z",
     "shell.execute_reply": "2021-07-20T15:34:58.383502Z",
     "shell.execute_reply.started": "2021-07-20T15:34:57.346920Z"
    }
   },
   "outputs": [],
   "source": [
    "for fema in femaImpacted:\n",
    "    \n",
    "    femaResponse = {\n",
    "        'Location': fema,\n",
    "        'Type': 'FEMA',\n",
    "        'Current': {},\n",
    "        'Climo': {}\n",
    "    }\n",
    "    \n",
    "    ind_fema = femaBrokenOut[femaBrokenOut['category'] == fema]\n",
    "    #print(f'State: {state}')\n",
    "    ind_fema_group = ind_fema.groupby(\"sim\").sum().loc[:,['population','hospitals','schools','mobilehomes','psubstations']]\n",
    "    ind_fema_tot = ind_fema_group.reindex(list(range(1,10001)),fill_value=0)\n",
    "    \n",
    "    # Get tor counts for each state\n",
    "    ind_fema_tot = torCounter(ind_fema,ind_fema_tot)\n",
    "    \n",
    "    fema_quants = ind_fema_tot.quantile(q=[0.1,0.5,0.9],interpolation='nearest')\n",
    "    \n",
    "    for name in fema_quants.columns:\n",
    "    \n",
    "        femaResponse['Current'][name] = {}\n",
    "        femaResponse['Climo'][name] = {}\n",
    "\n",
    "        for quant in fema_quants.index:\n",
    "\n",
    "            femaResponse['Current'][name][quant] = int(fema_quants.loc[quant,name])\n",
    "            # Just generate random numbers for climo until we have the necessary numbers\n",
    "            femaResponse['Climo'][name][quant] = random.random()*10\n",
    "            \n",
    "    jsonResponse.append(femaResponse)"
   ]
  },
  {
   "cell_type": "markdown",
   "id": "injured-motivation",
   "metadata": {},
   "source": [
    "### States"
   ]
  },
  {
   "cell_type": "code",
   "execution_count": 37,
   "id": "ranking-christianity",
   "metadata": {
    "execution": {
     "iopub.execute_input": "2021-07-20T15:36:25.109440Z",
     "iopub.status.busy": "2021-07-20T15:36:25.109068Z",
     "iopub.status.idle": "2021-07-20T15:36:27.786902Z",
     "shell.execute_reply": "2021-07-20T15:36:27.786184Z",
     "shell.execute_reply.started": "2021-07-20T15:36:25.109401Z"
    }
   },
   "outputs": [],
   "source": [
    "stBrokenOut = df.assign(category=df['states'].str.split(',')).explode('category').reset_index(drop=True)\n",
    "\n",
    "# Remove row if state is NaN\n",
    "stBrokenOut = stBrokenOut[stBrokenOut['category'].notna()]\n",
    "\n",
    "# Grab a list of the unique states in the simulation\n",
    "statesImpacted = stBrokenOut['category'].unique().tolist()"
   ]
  },
  {
   "cell_type": "code",
   "execution_count": 38,
   "id": "facial-treaty",
   "metadata": {
    "execution": {
     "iopub.execute_input": "2021-07-20T15:36:34.913372Z",
     "iopub.status.busy": "2021-07-20T15:36:34.913117Z",
     "iopub.status.idle": "2021-07-20T15:36:37.417333Z",
     "shell.execute_reply": "2021-07-20T15:36:37.416784Z",
     "shell.execute_reply.started": "2021-07-20T15:36:34.913344Z"
    }
   },
   "outputs": [],
   "source": [
    "for state in statesImpacted:\n",
    "    \n",
    "    stateResponse = {\n",
    "        'Location': state,\n",
    "        'Type': 'State',\n",
    "        'Current': {},\n",
    "        'Climo': {}\n",
    "    }\n",
    "    \n",
    "    ind_state = stBrokenOut[stBrokenOut['category'] == state]\n",
    "    #print(f'State: {state}')\n",
    "    ind_state_group = ind_state.groupby(\"sim\").sum().loc[:,['population','hospitals','schools','mobilehomes','psubstations']]\n",
    "    ind_state_tot = ind_state_group.reindex(list(range(1,10001)),fill_value=0)\n",
    "    \n",
    "    # Get tor counts for each state\n",
    "    ind_state_tot = torCounter(ind_state,ind_state_tot)\n",
    "    \n",
    "    st_quants = ind_state_tot.quantile(q=[0.1,0.5,0.9],interpolation='nearest')\n",
    "    \n",
    "    for name in st_quants.columns:\n",
    "    \n",
    "        stateResponse['Current'][name] = {}\n",
    "        stateResponse['Climo'][name] = {}\n",
    "\n",
    "        for quant in st_quants.index:\n",
    "\n",
    "            stateResponse['Current'][name][quant] = int(st_quants.loc[quant,name])\n",
    "            # Just generate random numbers for climo until we have the necessary numbers\n",
    "            stateResponse['Climo'][name][quant] = random.random()*10\n",
    "            \n",
    "    jsonResponse.append(stateResponse)"
   ]
  },
  {
   "cell_type": "markdown",
   "id": "sealed-arlington",
   "metadata": {},
   "source": [
    "### CWAs"
   ]
  },
  {
   "cell_type": "code",
   "execution_count": 48,
   "id": "exempt-remedy",
   "metadata": {
    "execution": {
     "iopub.execute_input": "2021-07-20T15:38:07.696181Z",
     "iopub.status.busy": "2021-07-20T15:38:07.695914Z",
     "iopub.status.idle": "2021-07-20T15:38:10.305197Z",
     "shell.execute_reply": "2021-07-20T15:38:10.304459Z",
     "shell.execute_reply.started": "2021-07-20T15:38:07.696152Z"
    }
   },
   "outputs": [],
   "source": [
    "cwaBrokenOut = df.assign(category=df['wfos'].str.split(',')).explode('category').reset_index(drop=True)\n",
    "\n",
    "# Remove row if state is NaN\n",
    "cwaBrokenOut = cwaBrokenOut[cwaBrokenOut['category'].notna()]\n",
    "\n",
    "# Grab a list of the unique states in the simulation\n",
    "cwasImpacted = cwaBrokenOut['category'].unique().tolist()"
   ]
  },
  {
   "cell_type": "code",
   "execution_count": 49,
   "id": "equal-intersection",
   "metadata": {
    "execution": {
     "iopub.execute_input": "2021-07-20T15:38:11.485594Z",
     "iopub.status.busy": "2021-07-20T15:38:11.485346Z",
     "iopub.status.idle": "2021-07-20T15:38:15.471297Z",
     "shell.execute_reply": "2021-07-20T15:38:15.470652Z",
     "shell.execute_reply.started": "2021-07-20T15:38:11.485567Z"
    }
   },
   "outputs": [],
   "source": [
    "for cwa in cwasImpacted:\n",
    "    \n",
    "    cwaResponse = {\n",
    "        'Location': cwa,\n",
    "        'Type': 'CWA',\n",
    "        'Current': {},\n",
    "        'Climo': {}\n",
    "    }\n",
    "    \n",
    "    ind_cwa = cwaBrokenOut[cwaBrokenOut['category'] == cwa]\n",
    "    ind_cwa_group = ind_cwa.groupby(\"sim\").sum().loc[:,['population','hospitals','schools','mobilehomes','psubstations']]\n",
    "    ind_cwa_tot = ind_cwa_group.reindex(list(range(1,10001)),fill_value=0)\n",
    "    \n",
    "    # Get tor counts for each state\n",
    "    ind_cwa_tot = torCounter(ind_cwa,ind_cwa_tot)\n",
    "    \n",
    "    cwa_quants = ind_cwa_tot.quantile(q=[0.1,0.5,0.9],interpolation='nearest')\n",
    "    \n",
    "    for name in cwa_quants.columns:\n",
    "    \n",
    "        cwaResponse['Current'][name] = {}\n",
    "        cwaResponse['Climo'][name] = {}\n",
    "\n",
    "        for quant in cwa_quants.index:\n",
    "\n",
    "            cwaResponse['Current'][name][quant] = int(cwa_quants.loc[quant,name])\n",
    "            # Just generate random numbers for climo until we have the necessary numbers\n",
    "            cwaResponse['Climo'][name][quant] = random.random()*10\n",
    "            \n",
    "    jsonResponse.append(cwaResponse)"
   ]
  },
  {
   "cell_type": "code",
   "execution_count": 56,
   "id": "extra-paradise",
   "metadata": {
    "execution": {
     "iopub.execute_input": "2021-07-20T15:39:18.584150Z",
     "iopub.status.busy": "2021-07-20T15:39:18.583928Z",
     "iopub.status.idle": "2021-07-20T15:39:18.598959Z",
     "shell.execute_reply": "2021-07-20T15:39:18.597991Z",
     "shell.execute_reply.started": "2021-07-20T15:39:18.584127Z"
    }
   },
   "outputs": [],
   "source": [
    "with open('../data/output/examples/20110427/processed/jsonResponse_schoolsfema.json','w') as fp:\n",
    "    json.dump(jsonResponse, fp)"
   ]
  },
  {
   "cell_type": "code",
   "execution_count": null,
   "id": "portable-circle",
   "metadata": {},
   "outputs": [],
   "source": []
  }
 ],
 "metadata": {
  "kernelspec": {
   "display_name": "Python 3",
   "language": "python",
   "name": "python3"
  },
  "language_info": {
   "codemirror_mode": {
    "name": "ipython",
    "version": 3
   },
   "file_extension": ".py",
   "mimetype": "text/x-python",
   "name": "python",
   "nbconvert_exporter": "python",
   "pygments_lexer": "ipython3",
   "version": "3.8.8"
  }
 },
 "nbformat": 4,
 "nbformat_minor": 5
}

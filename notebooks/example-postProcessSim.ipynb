{
 "cells": [
  {
   "cell_type": "markdown",
   "id": "existing-murray",
   "metadata": {},
   "source": [
    "The purpose of this notebook is to post-process a .psv.gz simulation file to add schools and FEMA regions. This does not represent how an operational version would run... it's simply to add these new features to show off on the example page of the v2 dashboard. "
   ]
  },
  {
   "cell_type": "code",
   "execution_count": 1,
   "id": "administrative-investing",
   "metadata": {},
   "outputs": [],
   "source": [
    "import json\n",
    "from io import StringIO\n",
    "import gzip\n",
    "\n",
    "from pygridder import pygridder as pgrid"
   ]
  },
  {
   "cell_type": "code",
   "execution_count": 2,
   "id": "advance-vitamin",
   "metadata": {},
   "outputs": [],
   "source": [
    "import pathlib\n",
    "import glob\n",
    "import os\n",
    "\n",
    "import argparse\n",
    "import geojson\n",
    "import pandas as pd\n",
    "import json\n",
    "import random\n",
    "import numpy as np\n",
    "import pyproj\n",
    "\n",
    "from datetime import datetime, timedelta"
   ]
  },
  {
   "cell_type": "code",
   "execution_count": 3,
   "id": "graphic-vinyl",
   "metadata": {},
   "outputs": [],
   "source": [
    "# Read in example psv\n",
    "file = '../scripts/impacts-data/output/20110427162927.psv.gz'\n",
    "df = pd.read_csv(file, sep=\"|\")"
   ]
  },
  {
   "cell_type": "code",
   "execution_count": 4,
   "id": "intelligent-crystal",
   "metadata": {},
   "outputs": [
    {
     "data": {
      "text/html": [
       "<div>\n",
       "<style scoped>\n",
       "    .dataframe tbody tr th:only-of-type {\n",
       "        vertical-align: middle;\n",
       "    }\n",
       "\n",
       "    .dataframe tbody tr th {\n",
       "        vertical-align: top;\n",
       "    }\n",
       "\n",
       "    .dataframe thead th {\n",
       "        text-align: right;\n",
       "    }\n",
       "</style>\n",
       "<table border=\"1\" class=\"dataframe\">\n",
       "  <thead>\n",
       "    <tr style=\"text-align: right;\">\n",
       "      <th></th>\n",
       "      <th>sim</th>\n",
       "      <th>population</th>\n",
       "      <th>distance</th>\n",
       "      <th>rating</th>\n",
       "      <th>states</th>\n",
       "      <th>counties</th>\n",
       "      <th>wfos</th>\n",
       "      <th>hospitals</th>\n",
       "      <th>hospitalbeds</th>\n",
       "      <th>mobileparks</th>\n",
       "      <th>mobilehomes</th>\n",
       "      <th>psubstations</th>\n",
       "      <th>plines</th>\n",
       "      <th>slon</th>\n",
       "      <th>slat</th>\n",
       "      <th>elon</th>\n",
       "      <th>elat</th>\n",
       "    </tr>\n",
       "  </thead>\n",
       "  <tbody>\n",
       "    <tr>\n",
       "      <th>0</th>\n",
       "      <td>1</td>\n",
       "      <td>2544</td>\n",
       "      <td>4.4415</td>\n",
       "      <td>3</td>\n",
       "      <td>MS</td>\n",
       "      <td>28081</td>\n",
       "      <td>MEG</td>\n",
       "      <td>0</td>\n",
       "      <td>0</td>\n",
       "      <td>0</td>\n",
       "      <td>0</td>\n",
       "      <td>0</td>\n",
       "      <td>0</td>\n",
       "      <td>-88.6066</td>\n",
       "      <td>34.3619</td>\n",
       "      <td>-88.5379</td>\n",
       "      <td>34.3921</td>\n",
       "    </tr>\n",
       "    <tr>\n",
       "      <th>1</th>\n",
       "      <td>1</td>\n",
       "      <td>624</td>\n",
       "      <td>3.9692</td>\n",
       "      <td>2</td>\n",
       "      <td>KY</td>\n",
       "      <td>21051,21121</td>\n",
       "      <td>JKL</td>\n",
       "      <td>0</td>\n",
       "      <td>0</td>\n",
       "      <td>0</td>\n",
       "      <td>0</td>\n",
       "      <td>0</td>\n",
       "      <td>0</td>\n",
       "      <td>-83.8111</td>\n",
       "      <td>37.0729</td>\n",
       "      <td>-83.7601</td>\n",
       "      <td>37.1134</td>\n",
       "    </tr>\n",
       "    <tr>\n",
       "      <th>2</th>\n",
       "      <td>1</td>\n",
       "      <td>3280</td>\n",
       "      <td>27.0073</td>\n",
       "      <td>4</td>\n",
       "      <td>AL,GA</td>\n",
       "      <td>1019,13055,13115</td>\n",
       "      <td>BMX,FFC</td>\n",
       "      <td>0</td>\n",
       "      <td>0</td>\n",
       "      <td>0</td>\n",
       "      <td>0</td>\n",
       "      <td>3</td>\n",
       "      <td>3</td>\n",
       "      <td>-85.5258</td>\n",
       "      <td>34.2540</td>\n",
       "      <td>-85.1459</td>\n",
       "      <td>34.4873</td>\n",
       "    </tr>\n",
       "    <tr>\n",
       "      <th>3</th>\n",
       "      <td>1</td>\n",
       "      <td>928</td>\n",
       "      <td>1.1927</td>\n",
       "      <td>0</td>\n",
       "      <td>AL</td>\n",
       "      <td>1089</td>\n",
       "      <td>HUN</td>\n",
       "      <td>0</td>\n",
       "      <td>0</td>\n",
       "      <td>0</td>\n",
       "      <td>0</td>\n",
       "      <td>0</td>\n",
       "      <td>0</td>\n",
       "      <td>-86.4543</td>\n",
       "      <td>35.0071</td>\n",
       "      <td>-86.4403</td>\n",
       "      <td>35.0201</td>\n",
       "    </tr>\n",
       "    <tr>\n",
       "      <th>4</th>\n",
       "      <td>1</td>\n",
       "      <td>6464</td>\n",
       "      <td>0.1907</td>\n",
       "      <td>0</td>\n",
       "      <td>PA</td>\n",
       "      <td>42049</td>\n",
       "      <td>CLE</td>\n",
       "      <td>0</td>\n",
       "      <td>0</td>\n",
       "      <td>0</td>\n",
       "      <td>0</td>\n",
       "      <td>0</td>\n",
       "      <td>0</td>\n",
       "      <td>-79.9165</td>\n",
       "      <td>42.1845</td>\n",
       "      <td>-79.9137</td>\n",
       "      <td>42.1863</td>\n",
       "    </tr>\n",
       "  </tbody>\n",
       "</table>\n",
       "</div>"
      ],
      "text/plain": [
       "   sim  population  distance  rating states           counties     wfos  \\\n",
       "0    1        2544    4.4415       3     MS              28081      MEG   \n",
       "1    1         624    3.9692       2     KY        21051,21121      JKL   \n",
       "2    1        3280   27.0073       4  AL,GA   1019,13055,13115  BMX,FFC   \n",
       "3    1         928    1.1927       0     AL               1089      HUN   \n",
       "4    1        6464    0.1907       0     PA              42049      CLE   \n",
       "\n",
       "   hospitals  hospitalbeds  mobileparks  mobilehomes  psubstations  plines  \\\n",
       "0          0             0            0            0             0       0   \n",
       "1          0             0            0            0             0       0   \n",
       "2          0             0            0            0             3       3   \n",
       "3          0             0            0            0             0       0   \n",
       "4          0             0            0            0             0       0   \n",
       "\n",
       "      slon     slat     elon     elat  \n",
       "0 -88.6066  34.3619 -88.5379  34.3921  \n",
       "1 -83.8111  37.0729 -83.7601  37.1134  \n",
       "2 -85.5258  34.2540 -85.1459  34.4873  \n",
       "3 -86.4543  35.0071 -86.4403  35.0201  \n",
       "4 -79.9165  42.1845 -79.9137  42.1863  "
      ]
     },
     "execution_count": 4,
     "metadata": {},
     "output_type": "execute_result"
    }
   ],
   "source": [
    "df.head()"
   ]
  },
  {
   "cell_type": "markdown",
   "id": "medical-schema",
   "metadata": {},
   "source": [
    "### Get projection information to properly grid lat/lon lines and get school #'s"
   ]
  },
  {
   "cell_type": "code",
   "execution_count": 5,
   "id": "numeric-reggae",
   "metadata": {},
   "outputs": [],
   "source": [
    "ndfd_file = '../../dev/impacts-app/scripts/impacts-data/orig-gis-data/ndfd.npz'"
   ]
  },
  {
   "cell_type": "code",
   "execution_count": 10,
   "id": "owned-meeting",
   "metadata": {},
   "outputs": [],
   "source": [
    "impacts_file = './assets/impact-grids-new.npz'"
   ]
  },
  {
   "cell_type": "code",
   "execution_count": 11,
   "id": "identical-essay",
   "metadata": {},
   "outputs": [],
   "source": [
    "with np.load(ndfd_file) as NPZ:\n",
    "    X = NPZ['X']\n",
    "    Y = NPZ['Y']\n",
    "    proj = pyproj.Proj(NPZ['srs'].item())"
   ]
  },
  {
   "cell_type": "code",
   "execution_count": 12,
   "id": "deluxe-replacement",
   "metadata": {},
   "outputs": [],
   "source": [
    "G = pgrid.Gridder(X,Y)"
   ]
  },
  {
   "cell_type": "code",
   "execution_count": 13,
   "id": "greater-speaking",
   "metadata": {},
   "outputs": [],
   "source": [
    "with np.load(impacts_file) as NPZ:\n",
    "    schools = NPZ['schools']"
   ]
  },
  {
   "cell_type": "markdown",
   "id": "mediterranean-saudi",
   "metadata": {},
   "source": [
    "- iterate through df rows\n",
    "- for each row...\n",
    "    - project lons/lats into ndfd points\n",
    "    - grid lines using these ndfd start/end points\n",
    "    - use returned indices to grab and sum school counts for the tornado\n",
    "    - set that value to a new column 'schools'"
   ]
  },
  {
   "cell_type": "markdown",
   "id": "developed-framing",
   "metadata": {},
   "source": [
    "Example run through"
   ]
  },
  {
   "cell_type": "code",
   "execution_count": 15,
   "id": "accepting-microphone",
   "metadata": {},
   "outputs": [],
   "source": [
    "tor = df.iloc[0,:]"
   ]
  },
  {
   "cell_type": "code",
   "execution_count": 17,
   "id": "received-toolbox",
   "metadata": {},
   "outputs": [],
   "source": [
    "x1s, y1s = proj(tor['slon'],tor['slat'])\n",
    "x2s, y2s = proj(tor['elon'],tor['elat'])"
   ]
  },
  {
   "cell_type": "code",
   "execution_count": 18,
   "id": "proud-receptor",
   "metadata": {},
   "outputs": [],
   "source": [
    "idxs = G.grid_lines(x1s,y1s,x2s,y2s)"
   ]
  },
  {
   "cell_type": "code",
   "execution_count": 43,
   "id": "unsigned-tension",
   "metadata": {},
   "outputs": [
    {
     "data": {
      "text/plain": [
       "'Schools \"Exposed\": 4'"
      ]
     },
     "execution_count": 43,
     "metadata": {},
     "output_type": "execute_result"
    }
   ],
   "source": [
    "f'Schools \"Exposed\": {schools[idxs[0]].sum()}'"
   ]
  },
  {
   "cell_type": "markdown",
   "id": "equivalent-couple",
   "metadata": {},
   "source": [
    "### Processing all tors and getting school counts"
   ]
  },
  {
   "cell_type": "code",
   "execution_count": 14,
   "id": "light-gauge",
   "metadata": {},
   "outputs": [],
   "source": [
    "school_total = []\n",
    "\n",
    "for row in np.arange(df.shape[0]):\n",
    "    \n",
    "    tor = df.iloc[row,:]\n",
    "    \n",
    "    x1s, y1s = proj(tor['slon'],tor['slat'])\n",
    "    x2s, y2s = proj(tor['elon'],tor['elat'])\n",
    "    \n",
    "    idxs = G.grid_lines(x1s,y1s,x2s,y2s)\n",
    "    \n",
    "    school_count = schools[idxs[0]].sum()\n",
    "    school_total.append(school_count)"
   ]
  },
  {
   "cell_type": "code",
   "execution_count": 15,
   "id": "exciting-harassment",
   "metadata": {},
   "outputs": [],
   "source": [
    "df['schools'] = school_total"
   ]
  },
  {
   "cell_type": "code",
   "execution_count": 69,
   "id": "minus-steam",
   "metadata": {},
   "outputs": [],
   "source": [
    "psv_str = df.to_csv(sep='|',index=False)\n",
    "\n",
    "with gzip.GzipFile('../data/output/examples/20210428124600_schools.psv.gz','w') as OUT:\n",
    "    OUT.write(psv_str.encode())"
   ]
  },
  {
   "cell_type": "markdown",
   "id": "coordinate-engagement",
   "metadata": {},
   "source": [
    "Making sure the file is OK"
   ]
  },
  {
   "cell_type": "code",
   "execution_count": 70,
   "id": "shared-charleston",
   "metadata": {},
   "outputs": [],
   "source": [
    "# Read in example psv\n",
    "file = '../data/output/examples/20210428124600_schools.psv.gz'\n",
    "df_new = pd.read_csv(file, sep=\"|\")"
   ]
  },
  {
   "cell_type": "markdown",
   "id": "lightweight-lightweight",
   "metadata": {},
   "source": [
    "### Add FEMA Column"
   ]
  },
  {
   "cell_type": "code",
   "execution_count": 16,
   "id": "historical-somalia",
   "metadata": {},
   "outputs": [],
   "source": [
    "fema_dict = {\n",
    "    'WA': '10',\n",
    "    'OR': '10',\n",
    "    'ID': '10',\n",
    "    'CA': '9', \n",
    "    'NV': '9',\n",
    "    'AZ': '9',\n",
    "    'MT': '8',\n",
    "    'WY': '8',\n",
    "    'UT': '8',\n",
    "    'CO': '8',\n",
    "    'ND': '8',\n",
    "    'SD': '8',\n",
    "    'NE': '7',\n",
    "    'KS': '7',\n",
    "    'IA': '7',\n",
    "    'MO': '7',\n",
    "    'NM': '6',\n",
    "    'TX': '6',\n",
    "    'OK': '6',\n",
    "    'AR': '6',\n",
    "    'LA': '6',\n",
    "    'MN': '5',\n",
    "    'WI': '5',\n",
    "    'MI': '5',\n",
    "    'IL': '5',\n",
    "    'IN': '5',\n",
    "    'OH': '5',\n",
    "    'KY': '4',\n",
    "    'TN': '4',\n",
    "    'MS': '4',\n",
    "    'AL': '4',\n",
    "    'GA': '4',\n",
    "    'FL': '4',\n",
    "    'SC': '4',\n",
    "    'NC': '4',\n",
    "    'VA': '3',\n",
    "    'WV': '3',\n",
    "    'PA': '3',\n",
    "    'DC': '3',\n",
    "    'MD': '3',\n",
    "    'DE': '3',\n",
    "    'NY': '2',\n",
    "    'NJ': '2',\n",
    "    'CT': '1',\n",
    "    'RI': '1',\n",
    "    'MA': '1',\n",
    "    'VT': '1',\n",
    "    'NH': '1',\n",
    "    'ME': '1'\n",
    "}"
   ]
  },
  {
   "cell_type": "code",
   "execution_count": 17,
   "id": "exempt-transfer",
   "metadata": {},
   "outputs": [],
   "source": [
    "fema = []\n",
    "\n",
    "for row in np.arange(df.shape[0]):\n",
    "    \n",
    "    tor = df.iloc[row,:]\n",
    "    \n",
    "    # Offshore tornadoes have 'nan' for the state\n",
    "    try:\n",
    "        states = tor['states'].split(',')\n",
    "    except AttributeError:\n",
    "        fema.append(np.nan)\n",
    "        continue\n",
    "    \n",
    "    if len(states) > 1:\n",
    "        \n",
    "        fema_list = list(map(lambda state: fema_dict[state], states))\n",
    "        fema_str = ','.join(fema_list)\n",
    "        fema.append(fema_str)\n",
    "        \n",
    "    else:\n",
    "        fema.append(fema_dict[tor['states']])"
   ]
  },
  {
   "cell_type": "code",
   "execution_count": 18,
   "id": "thousand-split",
   "metadata": {},
   "outputs": [],
   "source": [
    "df['fema'] = fema"
   ]
  },
  {
   "cell_type": "code",
   "execution_count": 19,
   "id": "dutch-bible",
   "metadata": {},
   "outputs": [],
   "source": [
    "psv_str = df.to_csv(sep='|',index=False)\n",
    "\n",
    "with gzip.GzipFile('../data/output/examples/20110427162927_schools_fema.psv.gz','w') as OUT:\n",
    "    OUT.write(psv_str.encode())"
   ]
  },
  {
   "cell_type": "markdown",
   "id": "affected-commerce",
   "metadata": {},
   "source": [
    "### Add hours to tornadoes"
   ]
  },
  {
   "cell_type": "code",
   "execution_count": 3,
   "id": "mobile-authorization",
   "metadata": {},
   "outputs": [],
   "source": [
    "file = '../data/output/examples/20110427/psvs/20110427162927_schools_fema.psv.gz'\n",
    "df = pd.read_csv(file, sep=\"|\")"
   ]
  },
  {
   "cell_type": "markdown",
   "id": "residential-tutorial",
   "metadata": {},
   "source": [
    "Get time distribution from actual event"
   ]
  },
  {
   "cell_type": "code",
   "execution_count": 5,
   "id": "tracked-picking",
   "metadata": {},
   "outputs": [],
   "source": [
    "tors = pd.read_csv('../../../gen-assets/1950-2019_tors_CONUS.csv')"
   ]
  },
  {
   "cell_type": "code",
   "execution_count": 13,
   "id": "academic-machinery",
   "metadata": {},
   "outputs": [],
   "source": [
    "filtered_tors = tors[(tors['date'] == '2011-04-27') | (tors['date'] == '2011-04-28')]"
   ]
  },
  {
   "cell_type": "code",
   "execution_count": 26,
   "id": "treated-revision",
   "metadata": {},
   "outputs": [],
   "source": [
    "def timeFormat(x):\n",
    "    \n",
    "    x = int(x) + 6\n",
    "    \n",
    "    if x > 23:\n",
    "        x = x - 24\n",
    "        \n",
    "    return x"
   ]
  },
  {
   "cell_type": "code",
   "execution_count": 30,
   "id": "neutral-comparative",
   "metadata": {},
   "outputs": [
    {
     "name": "stderr",
     "output_type": "stream",
     "text": [
      "<ipython-input-30-44c705883842>:1: SettingWithCopyWarning: \n",
      "A value is trying to be set on a copy of a slice from a DataFrame.\n",
      "Try using .loc[row_indexer,col_indexer] = value instead\n",
      "\n",
      "See the caveats in the documentation: https://pandas.pydata.org/pandas-docs/stable/user_guide/indexing.html#returning-a-view-versus-a-copy\n",
      "  filtered_tors['hour'] = filtered_tors['time'].apply(lambda x: timeFormat(x[:2]))\n"
     ]
    }
   ],
   "source": [
    "filtered_tors['hour'] = filtered_tors['time'].apply(lambda x: timeFormat(x[:2]))"
   ]
  },
  {
   "cell_type": "code",
   "execution_count": 61,
   "id": "annoying-impossible",
   "metadata": {
    "execution": {
     "iopub.execute_input": "2021-07-20T15:15:33.726739Z",
     "iopub.status.busy": "2021-07-20T15:15:33.726513Z",
     "iopub.status.idle": "2021-07-20T15:15:33.731032Z",
     "shell.execute_reply": "2021-07-20T15:15:33.730400Z",
     "shell.execute_reply.started": "2021-07-20T15:15:33.726715Z"
    },
    "tags": []
   },
   "outputs": [],
   "source": [
    "fema4_times = filtered_tors[filtered_tors['st'].isin(['MS','AL','GA','FL','SC','NC','TN','KY'])]['hour']\n",
    "nat_times = filtered_tors['hour']"
   ]
  },
  {
   "cell_type": "code",
   "execution_count": 83,
   "id": "magnetic-impact",
   "metadata": {
    "execution": {
     "iopub.execute_input": "2021-07-20T16:59:48.358243Z",
     "iopub.status.busy": "2021-07-20T16:59:48.358015Z",
     "iopub.status.idle": "2021-07-20T16:59:48.512525Z",
     "shell.execute_reply": "2021-07-20T16:59:48.511962Z",
     "shell.execute_reply.started": "2021-07-20T16:59:48.358219Z"
    },
    "tags": []
   },
   "outputs": [
    {
     "data": {
      "text/plain": [
       "<AxesSubplot:>"
      ]
     },
     "execution_count": 83,
     "metadata": {},
     "output_type": "execute_result"
    },
    {
     "data": {
      "image/png": "[encoded data removed]",
      "text/plain": [
       "<Figure size 432x288 with 1 Axes>"
      ]
     },
     "metadata": {
      "needs_background": "light"
     },
     "output_type": "display_data"
    }
   ],
   "source": [
    "nat_times.hist(bins=24)"
   ]
  },
  {
   "cell_type": "code",
   "execution_count": 88,
   "id": "sublime-afternoon",
   "metadata": {
    "execution": {
     "iopub.execute_input": "2021-07-20T17:03:55.351980Z",
     "iopub.status.busy": "2021-07-20T17:03:55.351738Z",
     "iopub.status.idle": "2021-07-20T17:03:55.355471Z",
     "shell.execute_reply": "2021-07-20T17:03:55.354606Z",
     "shell.execute_reply.started": "2021-07-20T17:03:55.351953Z"
    }
   },
   "outputs": [],
   "source": [
    "import random"
   ]
  },
  {
   "cell_type": "code",
   "execution_count": 94,
   "id": "institutional-flower",
   "metadata": {
    "execution": {
     "iopub.execute_input": "2021-07-20T17:05:35.346519Z",
     "iopub.status.busy": "2021-07-20T17:05:35.346291Z",
     "iopub.status.idle": "2021-07-20T17:08:55.517518Z",
     "shell.execute_reply": "2021-07-20T17:08:55.517031Z",
     "shell.execute_reply.started": "2021-07-20T17:05:35.346494Z"
    },
    "tags": []
   },
   "outputs": [],
   "source": [
    "random_hours = []\n",
    "\n",
    "for row in np.arange(df.shape[0]):\n",
    "    \n",
    "    tor = df.iloc[row,:]\n",
    "    \n",
    "    if tor['fema'] == '4':\n",
    "        hour = fema4_man_times.sample(n=1).values[0] + random.randint(-1,1)\n",
    "        if hour < 0:\n",
    "            hour = 24 + hour\n",
    "        elif hour > 23:\n",
    "            hour = hour - 24\n",
    "        \n",
    "        random_hours.append(hour)\n",
    "    else:\n",
    "        hour = fema4_man_times.sample(n=1).values[0] + random.randint(-1,1)\n",
    "        if hour < 0:\n",
    "            hour = 24 + hour\n",
    "        elif hour > 23:\n",
    "            hour = hour - 24\n",
    "            \n",
    "        random_hours.append(hour)"
   ]
  },
  {
   "cell_type": "code",
   "execution_count": 95,
   "id": "intense-liquid",
   "metadata": {
    "execution": {
     "iopub.execute_input": "2021-07-20T17:10:41.224852Z",
     "iopub.status.busy": "2021-07-20T17:10:41.224630Z",
     "iopub.status.idle": "2021-07-20T17:10:41.455316Z",
     "shell.execute_reply": "2021-07-20T17:10:41.454622Z",
     "shell.execute_reply.started": "2021-07-20T17:10:41.224828Z"
    },
    "tags": []
   },
   "outputs": [],
   "source": [
    "df['time'] = random_hours"
   ]
  },
  {
   "cell_type": "code",
   "execution_count": 96,
   "id": "personal-delay",
   "metadata": {
    "execution": {
     "iopub.execute_input": "2021-07-20T17:10:41.972161Z",
     "iopub.status.busy": "2021-07-20T17:10:41.971926Z",
     "iopub.status.idle": "2021-07-20T17:10:41.990863Z",
     "shell.execute_reply": "2021-07-20T17:10:41.990129Z",
     "shell.execute_reply.started": "2021-07-20T17:10:41.972136Z"
    },
    "tags": []
   },
   "outputs": [
    {
     "data": {
      "text/html": [
       "<div>\n",
       "<style scoped>\n",
       "    .dataframe tbody tr th:only-of-type {\n",
       "        vertical-align: middle;\n",
       "    }\n",
       "\n",
       "    .dataframe tbody tr th {\n",
       "        vertical-align: top;\n",
       "    }\n",
       "\n",
       "    .dataframe thead th {\n",
       "        text-align: right;\n",
       "    }\n",
       "</style>\n",
       "<table border=\"1\" class=\"dataframe\">\n",
       "  <thead>\n",
       "    <tr style=\"text-align: right;\">\n",
       "      <th></th>\n",
       "      <th>sim</th>\n",
       "      <th>population</th>\n",
       "      <th>distance</th>\n",
       "      <th>rating</th>\n",
       "      <th>states</th>\n",
       "      <th>counties</th>\n",
       "      <th>wfos</th>\n",
       "      <th>hospitals</th>\n",
       "      <th>hospitalbeds</th>\n",
       "      <th>mobileparks</th>\n",
       "      <th>mobilehomes</th>\n",
       "      <th>psubstations</th>\n",
       "      <th>plines</th>\n",
       "      <th>slon</th>\n",
       "      <th>slat</th>\n",
       "      <th>elon</th>\n",
       "      <th>elat</th>\n",
       "      <th>schools</th>\n",
       "      <th>fema</th>\n",
       "      <th>time</th>\n",
       "    </tr>\n",
       "  </thead>\n",
       "  <tbody>\n",
       "    <tr>\n",
       "      <th>0</th>\n",
       "      <td>1</td>\n",
       "      <td>2544</td>\n",
       "      <td>4.4415</td>\n",
       "      <td>3</td>\n",
       "      <td>MS</td>\n",
       "      <td>28081</td>\n",
       "      <td>MEG</td>\n",
       "      <td>0</td>\n",
       "      <td>0</td>\n",
       "      <td>0</td>\n",
       "      <td>0</td>\n",
       "      <td>0</td>\n",
       "      <td>0</td>\n",
       "      <td>-88.6066</td>\n",
       "      <td>34.3619</td>\n",
       "      <td>-88.5379</td>\n",
       "      <td>34.3921</td>\n",
       "      <td>0</td>\n",
       "      <td>4</td>\n",
       "      <td>20</td>\n",
       "    </tr>\n",
       "    <tr>\n",
       "      <th>1</th>\n",
       "      <td>1</td>\n",
       "      <td>624</td>\n",
       "      <td>3.9692</td>\n",
       "      <td>2</td>\n",
       "      <td>KY</td>\n",
       "      <td>21051,21121</td>\n",
       "      <td>JKL</td>\n",
       "      <td>0</td>\n",
       "      <td>0</td>\n",
       "      <td>0</td>\n",
       "      <td>0</td>\n",
       "      <td>0</td>\n",
       "      <td>0</td>\n",
       "      <td>-83.8111</td>\n",
       "      <td>37.0729</td>\n",
       "      <td>-83.7601</td>\n",
       "      <td>37.1134</td>\n",
       "      <td>2</td>\n",
       "      <td>4</td>\n",
       "      <td>13</td>\n",
       "    </tr>\n",
       "    <tr>\n",
       "      <th>2</th>\n",
       "      <td>1</td>\n",
       "      <td>3280</td>\n",
       "      <td>27.0073</td>\n",
       "      <td>4</td>\n",
       "      <td>AL,GA</td>\n",
       "      <td>1019,13055,13115</td>\n",
       "      <td>BMX,FFC</td>\n",
       "      <td>0</td>\n",
       "      <td>0</td>\n",
       "      <td>0</td>\n",
       "      <td>0</td>\n",
       "      <td>3</td>\n",
       "      <td>3</td>\n",
       "      <td>-85.5258</td>\n",
       "      <td>34.2540</td>\n",
       "      <td>-85.1459</td>\n",
       "      <td>34.4873</td>\n",
       "      <td>1</td>\n",
       "      <td>4,4</td>\n",
       "      <td>2</td>\n",
       "    </tr>\n",
       "    <tr>\n",
       "      <th>3</th>\n",
       "      <td>1</td>\n",
       "      <td>928</td>\n",
       "      <td>1.1927</td>\n",
       "      <td>0</td>\n",
       "      <td>AL</td>\n",
       "      <td>1089</td>\n",
       "      <td>HUN</td>\n",
       "      <td>0</td>\n",
       "      <td>0</td>\n",
       "      <td>0</td>\n",
       "      <td>0</td>\n",
       "      <td>0</td>\n",
       "      <td>0</td>\n",
       "      <td>-86.4543</td>\n",
       "      <td>35.0071</td>\n",
       "      <td>-86.4403</td>\n",
       "      <td>35.0201</td>\n",
       "      <td>0</td>\n",
       "      <td>4</td>\n",
       "      <td>18</td>\n",
       "    </tr>\n",
       "    <tr>\n",
       "      <th>4</th>\n",
       "      <td>1</td>\n",
       "      <td>6464</td>\n",
       "      <td>0.1907</td>\n",
       "      <td>0</td>\n",
       "      <td>PA</td>\n",
       "      <td>42049</td>\n",
       "      <td>CLE</td>\n",
       "      <td>0</td>\n",
       "      <td>0</td>\n",
       "      <td>0</td>\n",
       "      <td>0</td>\n",
       "      <td>0</td>\n",
       "      <td>0</td>\n",
       "      <td>-79.9165</td>\n",
       "      <td>42.1845</td>\n",
       "      <td>-79.9137</td>\n",
       "      <td>42.1863</td>\n",
       "      <td>0</td>\n",
       "      <td>3</td>\n",
       "      <td>16</td>\n",
       "    </tr>\n",
       "  </tbody>\n",
       "</table>\n",
       "</div>"
      ],
      "text/plain": [
       "   sim  population  distance  rating states           counties     wfos  \\\n",
       "0    1        2544    4.4415       3     MS              28081      MEG   \n",
       "1    1         624    3.9692       2     KY        21051,21121      JKL   \n",
       "2    1        3280   27.0073       4  AL,GA   1019,13055,13115  BMX,FFC   \n",
       "3    1         928    1.1927       0     AL               1089      HUN   \n",
       "4    1        6464    0.1907       0     PA              42049      CLE   \n",
       "\n",
       "   hospitals  hospitalbeds  mobileparks  mobilehomes  psubstations  plines  \\\n",
       "0          0             0            0            0             0       0   \n",
       "1          0             0            0            0             0       0   \n",
       "2          0             0            0            0             3       3   \n",
       "3          0             0            0            0             0       0   \n",
       "4          0             0            0            0             0       0   \n",
       "\n",
       "      slon     slat     elon     elat  schools fema  time  \n",
       "0 -88.6066  34.3619 -88.5379  34.3921        0    4    20  \n",
       "1 -83.8111  37.0729 -83.7601  37.1134        2    4    13  \n",
       "2 -85.5258  34.2540 -85.1459  34.4873        1  4,4     2  \n",
       "3 -86.4543  35.0071 -86.4403  35.0201        0    4    18  \n",
       "4 -79.9165  42.1845 -79.9137  42.1863        0    3    16  "
      ]
     },
     "execution_count": 96,
     "metadata": {},
     "output_type": "execute_result"
    }
   ],
   "source": [
    "df.head()"
   ]
  },
  {
   "cell_type": "code",
   "execution_count": 97,
   "id": "welsh-bridges",
   "metadata": {
    "execution": {
     "iopub.execute_input": "2021-07-20T17:10:50.801857Z",
     "iopub.status.busy": "2021-07-20T17:10:50.801616Z",
     "iopub.status.idle": "2021-07-20T17:11:05.936998Z",
     "shell.execute_reply": "2021-07-20T17:11:05.936320Z",
     "shell.execute_reply.started": "2021-07-20T17:10:50.801832Z"
    },
    "tags": []
   },
   "outputs": [],
   "source": [
    "psv_str = df.to_csv(sep='|',index=False)\n",
    "\n",
    "with gzip.GzipFile('../data/output/examples/20110427/psvs/20110427162927_schools_fema_time.psv.gz','w') as OUT:\n",
    "    OUT.write(psv_str.encode())"
   ]
  },
  {
   "cell_type": "code",
   "execution_count": 62,
   "id": "comparable-commons",
   "metadata": {
    "execution": {
     "iopub.execute_input": "2021-07-20T15:15:40.700236Z",
     "iopub.status.busy": "2021-07-20T15:15:40.700021Z",
     "iopub.status.idle": "2021-07-20T15:15:40.704845Z",
     "shell.execute_reply": "2021-07-20T15:15:40.704127Z",
     "shell.execute_reply.started": "2021-07-20T15:15:40.700213Z"
    },
    "tags": []
   },
   "outputs": [
    {
     "data": {
      "text/plain": [
       "10"
      ]
     },
     "execution_count": 62,
     "metadata": {},
     "output_type": "execute_result"
    }
   ],
   "source": []
  },
  {
   "cell_type": "code",
   "execution_count": null,
   "id": "absent-technology",
   "metadata": {},
   "outputs": [],
   "source": []
  }
 ],
 "metadata": {
  "kernelspec": {
   "display_name": "Python 3",
   "language": "python",
   "name": "python3"
  },
  "language_info": {
   "codemirror_mode": {
    "name": "ipython",
    "version": 3
   },
   "file_extension": ".py",
   "mimetype": "text/x-python",
   "name": "python",
   "nbconvert_exporter": "python",
   "pygments_lexer": "ipython3",
   "version": "3.8.8"
  }
 },
 "nbformat": 4,
 "nbformat_minor": 5
}

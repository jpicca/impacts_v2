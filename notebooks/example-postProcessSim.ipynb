{
 "cells": [
  {
   "cell_type": "markdown",
   "id": "collect-juice",
   "metadata": {},
   "source": [
    "The purpose of this notebook is to post-process a .psv.gz simulation file to add schools and FEMA regions. This does not represent how an operational version would run... it's simply to add these new features to show off on the example page of the v2 dashboard. "
   ]
  },
  {
   "cell_type": "code",
   "execution_count": 67,
   "id": "designing-italic",
   "metadata": {},
   "outputs": [],
   "source": [
    "import json\n",
    "from io import StringIO\n",
    "import gzip\n",
    "\n",
    "from pygridder import pygridder as pgrid"
   ]
  },
  {
   "cell_type": "code",
   "execution_count": 9,
   "id": "sharp-knock",
   "metadata": {},
   "outputs": [],
   "source": [
    "import pathlib\n",
    "import glob\n",
    "import os\n",
    "\n",
    "import argparse\n",
    "import geojson\n",
    "import pandas as pd\n",
    "import json\n",
    "import random\n",
    "import numpy as np\n",
    "import pyproj\n",
    "\n",
    "from datetime import datetime, timedelta"
   ]
  },
  {
   "cell_type": "code",
   "execution_count": 3,
   "id": "ecological-poker",
   "metadata": {},
   "outputs": [],
   "source": [
    "# Read in example psv\n",
    "file = '../data/output/examples/20210428124600.psv.gz'\n",
    "df = pd.read_csv(file, sep=\"|\")"
   ]
  },
  {
   "cell_type": "code",
   "execution_count": 4,
   "id": "level-holmes",
   "metadata": {},
   "outputs": [
    {
     "data": {
      "text/html": [
       "<div>\n",
       "<style scoped>\n",
       "    .dataframe tbody tr th:only-of-type {\n",
       "        vertical-align: middle;\n",
       "    }\n",
       "\n",
       "    .dataframe tbody tr th {\n",
       "        vertical-align: top;\n",
       "    }\n",
       "\n",
       "    .dataframe thead th {\n",
       "        text-align: right;\n",
       "    }\n",
       "</style>\n",
       "<table border=\"1\" class=\"dataframe\">\n",
       "  <thead>\n",
       "    <tr style=\"text-align: right;\">\n",
       "      <th></th>\n",
       "      <th>sim</th>\n",
       "      <th>population</th>\n",
       "      <th>distance</th>\n",
       "      <th>rating</th>\n",
       "      <th>states</th>\n",
       "      <th>counties</th>\n",
       "      <th>wfos</th>\n",
       "      <th>hospitals</th>\n",
       "      <th>hospitalbeds</th>\n",
       "      <th>mobileparks</th>\n",
       "      <th>mobilehomes</th>\n",
       "      <th>psubstations</th>\n",
       "      <th>plines</th>\n",
       "      <th>time</th>\n",
       "      <th>slon</th>\n",
       "      <th>slat</th>\n",
       "      <th>elon</th>\n",
       "      <th>elat</th>\n",
       "    </tr>\n",
       "  </thead>\n",
       "  <tbody>\n",
       "    <tr>\n",
       "      <th>0</th>\n",
       "      <td>1</td>\n",
       "      <td>1056</td>\n",
       "      <td>2.0662</td>\n",
       "      <td>1</td>\n",
       "      <td>NY</td>\n",
       "      <td>36013</td>\n",
       "      <td>BUF</td>\n",
       "      <td>0</td>\n",
       "      <td>0</td>\n",
       "      <td>0</td>\n",
       "      <td>0</td>\n",
       "      <td>0</td>\n",
       "      <td>0</td>\n",
       "      <td>22</td>\n",
       "      <td>-79.1592</td>\n",
       "      <td>42.4951</td>\n",
       "      <td>-79.1388</td>\n",
       "      <td>42.5209</td>\n",
       "    </tr>\n",
       "    <tr>\n",
       "      <th>1</th>\n",
       "      <td>1</td>\n",
       "      <td>480</td>\n",
       "      <td>2.6825</td>\n",
       "      <td>1</td>\n",
       "      <td>NY</td>\n",
       "      <td>36097</td>\n",
       "      <td>BGM</td>\n",
       "      <td>0</td>\n",
       "      <td>0</td>\n",
       "      <td>0</td>\n",
       "      <td>0</td>\n",
       "      <td>0</td>\n",
       "      <td>0</td>\n",
       "      <td>21</td>\n",
       "      <td>-76.9440</td>\n",
       "      <td>42.4153</td>\n",
       "      <td>-76.9021</td>\n",
       "      <td>42.4388</td>\n",
       "    </tr>\n",
       "    <tr>\n",
       "      <th>2</th>\n",
       "      <td>1</td>\n",
       "      <td>0</td>\n",
       "      <td>4.5373</td>\n",
       "      <td>2</td>\n",
       "      <td>TX</td>\n",
       "      <td>48023</td>\n",
       "      <td>OUN</td>\n",
       "      <td>0</td>\n",
       "      <td>0</td>\n",
       "      <td>0</td>\n",
       "      <td>0</td>\n",
       "      <td>0</td>\n",
       "      <td>0</td>\n",
       "      <td>2</td>\n",
       "      <td>-99.0422</td>\n",
       "      <td>33.6459</td>\n",
       "      <td>-98.9941</td>\n",
       "      <td>33.6980</td>\n",
       "    </tr>\n",
       "    <tr>\n",
       "      <th>3</th>\n",
       "      <td>1</td>\n",
       "      <td>80</td>\n",
       "      <td>0.7748</td>\n",
       "      <td>0</td>\n",
       "      <td>TX</td>\n",
       "      <td>48143</td>\n",
       "      <td>FWD</td>\n",
       "      <td>0</td>\n",
       "      <td>0</td>\n",
       "      <td>0</td>\n",
       "      <td>0</td>\n",
       "      <td>0</td>\n",
       "      <td>0</td>\n",
       "      <td>22</td>\n",
       "      <td>-98.1495</td>\n",
       "      <td>32.0895</td>\n",
       "      <td>-98.1437</td>\n",
       "      <td>32.0995</td>\n",
       "    </tr>\n",
       "    <tr>\n",
       "      <th>4</th>\n",
       "      <td>1</td>\n",
       "      <td>368</td>\n",
       "      <td>3.8219</td>\n",
       "      <td>1</td>\n",
       "      <td>TX</td>\n",
       "      <td>48367,48497</td>\n",
       "      <td>FWD</td>\n",
       "      <td>0</td>\n",
       "      <td>0</td>\n",
       "      <td>0</td>\n",
       "      <td>0</td>\n",
       "      <td>0</td>\n",
       "      <td>0</td>\n",
       "      <td>23</td>\n",
       "      <td>-97.8818</td>\n",
       "      <td>33.0339</td>\n",
       "      <td>-97.8283</td>\n",
       "      <td>33.0662</td>\n",
       "    </tr>\n",
       "  </tbody>\n",
       "</table>\n",
       "</div>"
      ],
      "text/plain": [
       "   sim  population  distance  rating states     counties wfos  hospitals  \\\n",
       "0    1        1056    2.0662       1     NY        36013  BUF          0   \n",
       "1    1         480    2.6825       1     NY        36097  BGM          0   \n",
       "2    1           0    4.5373       2     TX        48023  OUN          0   \n",
       "3    1          80    0.7748       0     TX        48143  FWD          0   \n",
       "4    1         368    3.8219       1     TX  48367,48497  FWD          0   \n",
       "\n",
       "   hospitalbeds  mobileparks  mobilehomes  psubstations  plines  time  \\\n",
       "0             0            0            0             0       0    22   \n",
       "1             0            0            0             0       0    21   \n",
       "2             0            0            0             0       0     2   \n",
       "3             0            0            0             0       0    22   \n",
       "4             0            0            0             0       0    23   \n",
       "\n",
       "      slon     slat     elon     elat  \n",
       "0 -79.1592  42.4951 -79.1388  42.5209  \n",
       "1 -76.9440  42.4153 -76.9021  42.4388  \n",
       "2 -99.0422  33.6459 -98.9941  33.6980  \n",
       "3 -98.1495  32.0895 -98.1437  32.0995  \n",
       "4 -97.8818  33.0339 -97.8283  33.0662  "
      ]
     },
     "execution_count": 4,
     "metadata": {},
     "output_type": "execute_result"
    }
   ],
   "source": [
    "df.head()"
   ]
  },
  {
   "cell_type": "markdown",
   "id": "passive-punishment",
   "metadata": {},
   "source": [
    "### Get projection information to properly grid lat/lon lines and get school #'s"
   ]
  },
  {
   "cell_type": "code",
   "execution_count": 5,
   "id": "driven-bonus",
   "metadata": {},
   "outputs": [],
   "source": [
    "ndfd_file = '../../dev/impacts-app/scripts/impacts-data/orig-gis-data/ndfd.npz'"
   ]
  },
  {
   "cell_type": "code",
   "execution_count": 36,
   "id": "liked-maldives",
   "metadata": {},
   "outputs": [],
   "source": [
    "impacts_file = './example_files/impact-grids-new.npz'"
   ]
  },
  {
   "cell_type": "code",
   "execution_count": 10,
   "id": "environmental-sustainability",
   "metadata": {},
   "outputs": [],
   "source": [
    "with np.load(ndfd_file) as NPZ:\n",
    "    X = NPZ['X']\n",
    "    Y = NPZ['Y']\n",
    "    proj = pyproj.Proj(NPZ['srs'].item())"
   ]
  },
  {
   "cell_type": "code",
   "execution_count": 11,
   "id": "surgical-afghanistan",
   "metadata": {},
   "outputs": [],
   "source": [
    "G = pgrid.Gridder(X,Y)"
   ]
  },
  {
   "cell_type": "code",
   "execution_count": 54,
   "id": "permanent-prompt",
   "metadata": {},
   "outputs": [],
   "source": [
    "with np.load(impacts_file) as NPZ:\n",
    "    schools = NPZ['schools']"
   ]
  },
  {
   "cell_type": "markdown",
   "id": "historic-monthly",
   "metadata": {},
   "source": [
    "- iterate through df rows\n",
    "- for each row...\n",
    "    - project lons/lats into ndfd points\n",
    "    - grid lines using these ndfd start/end points\n",
    "    - use returned indices to grab and sum school counts for the tornado\n",
    "    - set that value to a new column 'schools'"
   ]
  },
  {
   "cell_type": "markdown",
   "id": "toxic-publication",
   "metadata": {},
   "source": [
    "Example run through"
   ]
  },
  {
   "cell_type": "code",
   "execution_count": 15,
   "id": "breeding-radical",
   "metadata": {},
   "outputs": [],
   "source": [
    "tor = df.iloc[0,:]"
   ]
  },
  {
   "cell_type": "code",
   "execution_count": 17,
   "id": "thermal-cache",
   "metadata": {},
   "outputs": [],
   "source": [
    "x1s, y1s = proj(tor['slon'],tor['slat'])\n",
    "x2s, y2s = proj(tor['elon'],tor['elat'])"
   ]
  },
  {
   "cell_type": "code",
   "execution_count": 18,
   "id": "swiss-string",
   "metadata": {},
   "outputs": [],
   "source": [
    "idxs = G.grid_lines(x1s,y1s,x2s,y2s)"
   ]
  },
  {
   "cell_type": "code",
   "execution_count": 43,
   "id": "monthly-activity",
   "metadata": {},
   "outputs": [
    {
     "data": {
      "text/plain": [
       "'Schools \"Exposed\": 4'"
      ]
     },
     "execution_count": 43,
     "metadata": {},
     "output_type": "execute_result"
    }
   ],
   "source": [
    "f'Schools \"Exposed\": {schools[idxs[0]].sum()}'"
   ]
  },
  {
   "cell_type": "markdown",
   "id": "accessible-diesel",
   "metadata": {},
   "source": [
    "### Processing all tors and getting school counts"
   ]
  },
  {
   "cell_type": "code",
   "execution_count": 61,
   "id": "contrary-hamburg",
   "metadata": {},
   "outputs": [],
   "source": [
    "school_total = []\n",
    "\n",
    "for row in np.arange(df.shape[0]):\n",
    "    \n",
    "    tor = df.iloc[row,:]\n",
    "    \n",
    "    x1s, y1s = proj(tor['slon'],tor['slat'])\n",
    "    x2s, y2s = proj(tor['elon'],tor['elat'])\n",
    "    \n",
    "    idxs = G.grid_lines(x1s,y1s,x2s,y2s)\n",
    "    \n",
    "    school_count = schools[idxs[0]].sum()\n",
    "    school_total.append(school_count)"
   ]
  },
  {
   "cell_type": "code",
   "execution_count": 62,
   "id": "bored-magnet",
   "metadata": {},
   "outputs": [],
   "source": [
    "df['schools'] = school_total"
   ]
  },
  {
   "cell_type": "code",
   "execution_count": 69,
   "id": "disabled-arlington",
   "metadata": {},
   "outputs": [],
   "source": [
    "psv_str = df.to_csv(sep='|',index=False)\n",
    "\n",
    "with gzip.GzipFile('../data/output/examples/20210428124600_schools.psv.gz','w') as OUT:\n",
    "    OUT.write(psv_str.encode())"
   ]
  },
  {
   "cell_type": "markdown",
   "id": "conservative-oklahoma",
   "metadata": {},
   "source": [
    "Making sure the file is OK"
   ]
  },
  {
   "cell_type": "code",
   "execution_count": 70,
   "id": "lyric-brunswick",
   "metadata": {},
   "outputs": [],
   "source": [
    "# Read in example psv\n",
    "file = '../data/output/examples/20210428124600_schools.psv.gz'\n",
    "df_new = pd.read_csv(file, sep=\"|\")"
   ]
  },
  {
   "cell_type": "markdown",
   "id": "focused-instruction",
   "metadata": {},
   "source": [
    "### Add FEMA Column"
   ]
  },
  {
   "cell_type": "code",
   "execution_count": 72,
   "id": "rising-bracelet",
   "metadata": {},
   "outputs": [],
   "source": [
    "fema_dict = {\n",
    "    'WA': '10',\n",
    "    'OR': '10',\n",
    "    'ID': '10',\n",
    "    'CA': '9', \n",
    "    'NV': '9',\n",
    "    'AZ': '9',\n",
    "    'MT': '8',\n",
    "    'WY': '8',\n",
    "    'UT': '8',\n",
    "    'CO': '8',\n",
    "    'ND': '8',\n",
    "    'SD': '8',\n",
    "    'NE': '7',\n",
    "    'KS': '7',\n",
    "    'IA': '7',\n",
    "    'MO': '7',\n",
    "    'NM': '6',\n",
    "    'TX': '6',\n",
    "    'OK': '6',\n",
    "    'AR': '6',\n",
    "    'LA': '6',\n",
    "    'MN': '5',\n",
    "    'WI': '5',\n",
    "    'MI': '5',\n",
    "    'IL': '5',\n",
    "    'IN': '5',\n",
    "    'OH': '5',\n",
    "    'KY': '4',\n",
    "    'TN': '4',\n",
    "    'MS': '4',\n",
    "    'AL': '4',\n",
    "    'GA': '4',\n",
    "    'FL': '4',\n",
    "    'SC': '4',\n",
    "    'NC': '4',\n",
    "    'VA': '3',\n",
    "    'WV': '3',\n",
    "    'PA': '3',\n",
    "    'DC': '3',\n",
    "    'MD': '3',\n",
    "    'DE': '3',\n",
    "    'NY': '2',\n",
    "    'NJ': '2',\n",
    "    'CT': '1',\n",
    "    'RI': '1',\n",
    "    'MA': '1',\n",
    "    'VT': '1',\n",
    "    'NH': '1',\n",
    "    'ME': '1'\n",
    "}"
   ]
  },
  {
   "cell_type": "code",
   "execution_count": 104,
   "id": "static-nigeria",
   "metadata": {},
   "outputs": [],
   "source": [
    "fema = []\n",
    "\n",
    "for row in np.arange(df.shape[0]):\n",
    "    \n",
    "    tor = df.iloc[row,:]\n",
    "    \n",
    "    # Offshore tornadoes have 'nan' for the state\n",
    "    try:\n",
    "        states = tor['states'].split(',')\n",
    "    except AttributeError:\n",
    "        fema.append(np.nan)\n",
    "        continue\n",
    "    \n",
    "    if len(states) > 1:\n",
    "        \n",
    "        fema_list = list(map(lambda state: fema_dict[state], states))\n",
    "        fema_str = ','.join(fema_list)\n",
    "        fema.append(fema_str)\n",
    "        \n",
    "    else:\n",
    "        fema.append(fema_dict[tor['states']])"
   ]
  },
  {
   "cell_type": "code",
   "execution_count": 105,
   "id": "harmful-psychiatry",
   "metadata": {},
   "outputs": [],
   "source": [
    "df['fema'] = fema"
   ]
  },
  {
   "cell_type": "code",
   "execution_count": 107,
   "id": "visible-pierre",
   "metadata": {},
   "outputs": [],
   "source": [
    "psv_str = df.to_csv(sep='|',index=False)\n",
    "\n",
    "with gzip.GzipFile('../data/output/examples/20210428124600_schools_fema.psv.gz','w') as OUT:\n",
    "    OUT.write(psv_str.encode())"
   ]
  },
  {
   "cell_type": "code",
   "execution_count": null,
   "id": "valued-southwest",
   "metadata": {},
   "outputs": [],
   "source": []
  }
 ],
 "metadata": {
  "kernelspec": {
   "display_name": "Python 3",
   "language": "python",
   "name": "python3"
  },
  "language_info": {
   "codemirror_mode": {
    "name": "ipython",
    "version": 3
   },
   "file_extension": ".py",
   "mimetype": "text/x-python",
   "name": "python",
   "nbconvert_exporter": "python",
   "pygments_lexer": "ipython3",
   "version": "3.8.8"
  }
 },
 "nbformat": 4,
 "nbformat_minor": 5
}

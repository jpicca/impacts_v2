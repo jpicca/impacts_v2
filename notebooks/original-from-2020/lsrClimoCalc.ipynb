{
 "cells": [
  {
   "cell_type": "markdown",
   "metadata": {},
   "source": [
    "# Calculating lsr climo\n",
    "### CWA"
   ]
  },
  {
   "cell_type": "code",
   "execution_count": 1,
   "metadata": {},
   "outputs": [],
   "source": [
    "import datetime\n",
    "import glob\n",
    "import json\n",
    "import numpy as np\n",
    "import pandas as pd\n",
    "import math"
   ]
  },
  {
   "cell_type": "code",
   "execution_count": 12,
   "metadata": {},
   "outputs": [],
   "source": [
    "wind_files = glob.glob('../lsrs/201*-wind*')\n",
    "hail_files = glob.glob('../lsrs/201*-hail*')"
   ]
  },
  {
   "cell_type": "code",
   "execution_count": 3,
   "metadata": {},
   "outputs": [],
   "source": [
    "# for the time being, a list of the CWAs we're investigating\n",
    "cwas = ['FWD','OUN','TSA','SHV','HGX','EWX','SJT']"
   ]
  },
  {
   "cell_type": "code",
   "execution_count": 78,
   "metadata": {},
   "outputs": [],
   "source": [
    "# Set up a dict to hold data for cwas\n",
    "def makeHolder():\n",
    "    statHolder = {}\n",
    "    for cwa in cwas:\n",
    "        statHolder[cwa] = {'hail': np.zeros(366), 'hailDays': np.zeros(366),'wind': np.zeros(366),'windDays': np.zeros(366)}\n",
    "    return statHolder"
   ]
  },
  {
   "cell_type": "markdown",
   "metadata": {},
   "source": [
    "Prep dataframe"
   ]
  },
  {
   "cell_type": "code",
   "execution_count": 73,
   "metadata": {},
   "outputs": [],
   "source": [
    "def dfPrep(df):\n",
    "\n",
    "    df['dayStr'] = df[['year','month','day']].astype(str).agg('-'.join,axis=1)\n",
    "    df['dayIdx'] = pd.to_datetime(df['dayStr']).dt.dayofyear\n",
    "    df['dayIdx'] = df['dayIdx'].apply(leapAdjust)\n",
    "\n",
    "    df['CWA'] = df['comments'].apply(lambda x: x[x.find(\"(\")+1:x.find(\")\")])\n",
    "    \n",
    "    return df"
   ]
  },
  {
   "cell_type": "code",
   "execution_count": 83,
   "metadata": {
    "collapsed": true,
    "jupyter": {
     "outputs_hidden": true
    }
   },
   "outputs": [
    {
     "name": "stdout",
     "output_type": "stream",
     "text": [
      "Working on file ../lsrs/2012-wind-prelim-reports-ytd.csv\n",
      "CWA: FWD\n",
      "CWA: OUN\n",
      "CWA: TSA\n",
      "CWA: SHV\n",
      "CWA: HGX\n",
      "CWA: EWX\n",
      "CWA: SJT\n",
      "Working on file ../lsrs/2017-wind-prelim-reports-ytd.csv\n",
      "CWA: FWD\n",
      "CWA: OUN\n",
      "CWA: TSA\n",
      "CWA: SHV\n",
      "CWA: HGX\n",
      "CWA: EWX\n",
      "CWA: SJT\n",
      "Working on file ../lsrs/2018-wind-prelim-reports-ytd.csv\n",
      "CWA: FWD\n",
      "CWA: OUN\n",
      "CWA: TSA\n",
      "CWA: SHV\n",
      "CWA: HGX\n",
      "CWA: EWX\n",
      "CWA: SJT\n",
      "Working on file ../lsrs/2016-wind-prelim-reports-ytd.csv\n",
      "CWA: FWD\n",
      "CWA: OUN\n",
      "CWA: TSA\n",
      "CWA: SHV\n",
      "CWA: HGX\n",
      "CWA: EWX\n",
      "CWA: SJT\n",
      "Working on file ../lsrs/2013-wind-prelim-reports-ytd.csv\n",
      "CWA: FWD\n",
      "CWA: OUN\n",
      "CWA: TSA\n",
      "CWA: SHV\n",
      "CWA: HGX\n",
      "CWA: EWX\n",
      "CWA: SJT\n",
      "Working on file ../lsrs/2019-wind-prelim-reports-ytd.csv\n",
      "CWA: FWD\n",
      "CWA: OUN\n",
      "CWA: TSA\n",
      "CWA: SHV\n",
      "CWA: HGX\n",
      "CWA: EWX\n",
      "CWA: SJT\n",
      "Working on file ../lsrs/2010-wind-prelim-reports-ytd.csv\n",
      "CWA: FWD\n",
      "CWA: OUN\n",
      "CWA: TSA\n",
      "CWA: SHV\n",
      "CWA: HGX\n",
      "CWA: EWX\n",
      "CWA: SJT\n",
      "Working on file ../lsrs/2015-wind-prelim-reports-ytd.csv\n",
      "CWA: FWD\n",
      "CWA: OUN\n",
      "CWA: TSA\n",
      "CWA: SHV\n",
      "CWA: HGX\n",
      "CWA: EWX\n",
      "CWA: SJT\n",
      "Working on file ../lsrs/2014-wind-prelim-reports-ytd.csv\n",
      "CWA: FWD\n",
      "CWA: OUN\n",
      "CWA: TSA\n",
      "CWA: SHV\n",
      "CWA: HGX\n",
      "CWA: EWX\n",
      "CWA: SJT\n",
      "Working on file ../lsrs/2011-wind-prelim-reports-ytd.csv\n",
      "CWA: FWD\n",
      "CWA: OUN\n",
      "CWA: TSA\n",
      "CWA: SHV\n",
      "CWA: HGX\n",
      "CWA: EWX\n",
      "CWA: SJT\n",
      "Now it is the time for the hail!\n",
      "Working on file ../lsrs/2015-hail-prelim-reports-ytd.csv\n",
      "CWA: FWD\n",
      "CWA: OUN\n",
      "CWA: TSA\n",
      "CWA: SHV\n",
      "CWA: HGX\n",
      "CWA: EWX\n",
      "CWA: SJT\n",
      "Working on file ../lsrs/2010-hail-prelim-reports-ytd.csv\n",
      "CWA: FWD\n",
      "CWA: OUN\n",
      "CWA: TSA\n",
      "CWA: SHV\n",
      "CWA: HGX\n",
      "CWA: EWX\n",
      "CWA: SJT\n",
      "Working on file ../lsrs/2011-hail-prelim-reports-ytd.csv\n",
      "CWA: FWD\n",
      "CWA: OUN\n",
      "CWA: TSA\n",
      "CWA: SHV\n",
      "CWA: HGX\n",
      "CWA: EWX\n",
      "CWA: SJT\n",
      "Working on file ../lsrs/2014-hail-prelim-reports-ytd.csv\n",
      "CWA: FWD\n",
      "CWA: OUN\n",
      "CWA: TSA\n",
      "CWA: SHV\n",
      "CWA: HGX\n",
      "CWA: EWX\n",
      "CWA: SJT\n",
      "Working on file ../lsrs/2017-hail-prelim-reports-ytd.csv\n",
      "CWA: FWD\n",
      "CWA: OUN\n",
      "CWA: TSA\n",
      "CWA: SHV\n",
      "CWA: HGX\n",
      "CWA: EWX\n",
      "CWA: SJT\n",
      "Working on file ../lsrs/2012-hail-prelim-reports-ytd.csv\n",
      "CWA: FWD\n",
      "CWA: OUN\n",
      "CWA: TSA\n",
      "CWA: SHV\n",
      "CWA: HGX\n",
      "CWA: EWX\n",
      "CWA: SJT\n",
      "Working on file ../lsrs/2018-hail-prelim-reports-ytd.csv\n",
      "CWA: FWD\n",
      "CWA: OUN\n",
      "CWA: TSA\n",
      "CWA: SHV\n",
      "CWA: HGX\n",
      "CWA: EWX\n",
      "CWA: SJT\n",
      "Working on file ../lsrs/2013-hail-prelim-reports-ytd.csv\n",
      "CWA: FWD\n",
      "CWA: OUN\n",
      "CWA: TSA\n",
      "CWA: SHV\n",
      "CWA: HGX\n",
      "CWA: EWX\n",
      "CWA: SJT\n",
      "Working on file ../lsrs/2016-hail-prelim-reports-ytd.csv\n",
      "CWA: FWD\n",
      "CWA: OUN\n",
      "CWA: TSA\n",
      "CWA: SHV\n",
      "CWA: HGX\n",
      "CWA: EWX\n",
      "CWA: SJT\n",
      "Working on file ../lsrs/2019-hail-prelim-reports-ytd.csv\n",
      "CWA: FWD\n",
      "CWA: OUN\n",
      "CWA: TSA\n",
      "CWA: SHV\n",
      "CWA: HGX\n",
      "CWA: EWX\n",
      "CWA: SJT\n"
     ]
    }
   ],
   "source": [
    "statHolder = makeHolder()\n",
    "\n",
    "for file in wind_files:\n",
    "    print(f'Working on file {file}')\n",
    "    df = pd.read_csv(file,sep='|')\n",
    "    \n",
    "    # Get correct dayIdx and CWA formatting\n",
    "    df = dfPrep(df)\n",
    "    \n",
    "    # Filter by CWA\n",
    "    for cwa in cwas:\n",
    "        print(f'CWA: {cwa}')\n",
    "        df_cwa = df[df['CWA'] == cwa]\n",
    "        \n",
    "        for i, row in df_cwa.iterrows():\n",
    "            \n",
    "            # Add report totals to dict\n",
    "            statHolder[cwa]['wind'][row['dayIdx']-1] += 1\n",
    "            \n",
    "        # Get count of report days in the dict\n",
    "        windDays = df_cwa.groupby('dayIdx').count().index\n",
    "        for day in windDays:\n",
    "            statHolder[cwa]['windDays'][day-1] += 1\n",
    "            \n",
    "print('Now it is the time for the hail!')            \n",
    "\n",
    "for file in hail_files:\n",
    "    print(f'Working on file {file}')\n",
    "    df = pd.read_csv(file,sep='|')\n",
    "    \n",
    "    # Get correct dayIdx and CWA formatting\n",
    "    df = dfPrep(df)\n",
    "    \n",
    "    # Filter by CWA\n",
    "    for cwa in cwas:\n",
    "        print(f'CWA: {cwa}')\n",
    "        df_cwa = df[df['CWA'] == cwa]\n",
    "        \n",
    "        for i, row in df_cwa.iterrows():\n",
    "            \n",
    "            # Add report totals to dict\n",
    "            statHolder[cwa]['hail'][row['dayIdx']-1] += 1\n",
    "            \n",
    "        # Get count of report days in the dict\n",
    "        hailDays = df_cwa.groupby('dayIdx').count().index\n",
    "        for day in hailDays:\n",
    "            statHolder[cwa]['hailDays'][day-1] += 1"
   ]
  },
  {
   "cell_type": "code",
   "execution_count": 84,
   "metadata": {},
   "outputs": [],
   "source": [
    "for cwa in statHolder.keys():\n",
    "    for type in statHolder[cwa].keys():\n",
    "        statHolder[cwa][type] = statHolder[cwa][type].tolist()\n",
    "\n",
    "with open('lsr_climo_raw.json','w') as outfile:\n",
    "    json.dump(statHolder,outfile)"
   ]
  },
  {
   "cell_type": "markdown",
   "metadata": {},
   "source": [
    "Function to adjust dayofyear for leap years"
   ]
  },
  {
   "cell_type": "code",
   "execution_count": 38,
   "metadata": {},
   "outputs": [],
   "source": [
    "def leapAdjust(x):\n",
    "    if x > 58:\n",
    "        return x + 1\n",
    "    \n",
    "    return x"
   ]
  },
  {
   "cell_type": "markdown",
   "metadata": {},
   "source": [
    "#### Smooth and average"
   ]
  },
  {
   "cell_type": "code",
   "execution_count": 85,
   "metadata": {},
   "outputs": [],
   "source": [
    "# This function adds values to the beginning and end of an array to make it ready for summing\n",
    "def arrExtender(array,window):\n",
    "    halfwin = math.floor(window/2)\n",
    "    \n",
    "    rando = array\n",
    "    rando = np.array(rando)\n",
    "    rando1 = np.insert(rando,0,rando[-halfwin:])\n",
    "    rando2 = np.append(rando1,rando[:halfwin])\n",
    "    \n",
    "    return rando2"
   ]
  },
  {
   "cell_type": "code",
   "execution_count": 86,
   "metadata": {},
   "outputs": [],
   "source": [
    "def summer(array,window):\n",
    "\n",
    "    total = np.array([])\n",
    "\n",
    "    start = 0\n",
    "    end = window\n",
    "    while end < (len(array)+1):\n",
    "        total = np.append(total,np.sum(array[start:end]))\n",
    "        start += 1\n",
    "        end += 1\n",
    "        \n",
    "    return total"
   ]
  },
  {
   "cell_type": "code",
   "execution_count": 97,
   "metadata": {},
   "outputs": [],
   "source": [
    "window = 91\n",
    "\n",
    "for cwa in cwas:\n",
    "    hailDays = summer(arrExtender(statHolder[cwa]['hailDays'],window),window)\n",
    "    hailReps = summer(arrExtender(statHolder[cwa]['hail'],window),window)\n",
    "    \n",
    "    statHolder[cwa]['movAvg_hail'] = (hailReps/hailDays).tolist()\n",
    "    \n",
    "    windDays = summer(arrExtender(statHolder[cwa]['windDays'],window),window)\n",
    "    windReps = summer(arrExtender(statHolder[cwa]['wind'],window),window)\n",
    "    \n",
    "    statHolder[cwa]['movAvg_wind'] = (windReps/windDays).tolist()"
   ]
  },
  {
   "cell_type": "code",
   "execution_count": 103,
   "metadata": {},
   "outputs": [],
   "source": [
    "with open('lsr_climo_smAvg.json','w') as outfile:\n",
    "    json.dump(statHolder,outfile)"
   ]
  },
  {
   "cell_type": "code",
   "execution_count": 110,
   "metadata": {},
   "outputs": [
    {
     "data": {
      "text/plain": [
       "(98.0, 20.0)"
      ]
     },
     "execution_count": 110,
     "metadata": {},
     "output_type": "execute_result"
    }
   ],
   "source": [
    "np.sum(statHolder['FWD']['hail'][270:300]),np.sum(statHolder['FWD']['hailDays'][270:300])"
   ]
  },
  {
   "cell_type": "code",
   "execution_count": 113,
   "metadata": {},
   "outputs": [
    {
     "data": {
      "text/plain": [
       "4.9743589743589745"
      ]
     },
     "execution_count": 113,
     "metadata": {},
     "output_type": "execute_result"
    }
   ],
   "source": [
    "statHolder['FWD']['movAvg_wind'][284]"
   ]
  },
  {
   "cell_type": "code",
   "execution_count": null,
   "metadata": {},
   "outputs": [],
   "source": []
  }
 ],
 "metadata": {
  "kernelspec": {
   "display_name": "Python 3",
   "language": "python",
   "name": "python3"
  },
  "language_info": {
   "codemirror_mode": {
    "name": "ipython",
    "version": 3
   },
   "file_extension": ".py",
   "mimetype": "text/x-python",
   "name": "python",
   "nbconvert_exporter": "python",
   "pygments_lexer": "ipython3",
   "version": "3.7.7"
  }
 },
 "nbformat": 4,
 "nbformat_minor": 4
}

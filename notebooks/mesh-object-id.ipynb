{
 "cells": [
  {
   "cell_type": "markdown",
   "id": "consecutive-scott",
   "metadata": {},
   "source": [
    "Use this notebook to begin analysis of MESH to create 'hailstorm' distributions for SPC outlook areas.\n",
    "\n",
    "Initial Ideas\n",
    "- Use object identification on 24-hour MESH objects\n",
    "- Use the number of identified hailstorms to develop probabilities of hailstorm unit area frequency in various SPC outlook categories\n",
    "- Then develop probability distributions for length of hailstorm swath, width of hailstorm swath, and ~75 percentile of hail size"
   ]
  },
  {
   "cell_type": "code",
   "execution_count": 37,
   "id": "separate-oasis",
   "metadata": {
    "execution": {
     "iopub.execute_input": "2021-08-02T15:15:15.841028Z",
     "iopub.status.busy": "2021-08-02T15:15:15.840811Z",
     "iopub.status.idle": "2021-08-02T15:15:15.844397Z",
     "shell.execute_reply": "2021-08-02T15:15:15.843197Z",
     "shell.execute_reply.started": "2021-08-02T15:15:15.841005Z"
    },
    "tags": []
   },
   "outputs": [],
   "source": [
    "import gzip\n",
    "import pygrib as pg\n",
    "import shutil"
   ]
  },
  {
   "cell_type": "code",
   "execution_count": 57,
   "id": "wireless-punishment",
   "metadata": {
    "execution": {
     "iopub.execute_input": "2021-08-02T16:08:41.826077Z",
     "iopub.status.busy": "2021-08-02T16:08:41.825862Z",
     "iopub.status.idle": "2021-08-02T16:08:42.094646Z",
     "shell.execute_reply": "2021-08-02T16:08:42.094044Z",
     "shell.execute_reply.started": "2021-08-02T16:08:41.826054Z"
    },
    "tags": []
   },
   "outputs": [],
   "source": [
    "import xarray as xr\n",
    "import matplotlib.pyplot as plt"
   ]
  },
  {
   "cell_type": "code",
   "execution_count": 150,
   "id": "macro-gospel",
   "metadata": {
    "execution": {
     "iopub.execute_input": "2021-08-02T19:53:51.575770Z",
     "iopub.status.busy": "2021-08-02T19:53:51.575570Z",
     "iopub.status.idle": "2021-08-02T19:53:51.578726Z",
     "shell.execute_reply": "2021-08-02T19:53:51.578085Z",
     "shell.execute_reply.started": "2021-08-02T19:53:51.575749Z"
    },
    "tags": []
   },
   "outputs": [],
   "source": [
    "import skimage\n",
    "import numpy as np\n",
    "import scipy.ndimage as ndi"
   ]
  },
  {
   "cell_type": "code",
   "execution_count": 28,
   "id": "proud-nowhere",
   "metadata": {
    "execution": {
     "iopub.execute_input": "2021-08-02T15:03:15.371337Z",
     "iopub.status.busy": "2021-08-02T15:03:15.371013Z",
     "iopub.status.idle": "2021-08-02T15:03:15.380015Z",
     "shell.execute_reply": "2021-08-02T15:03:15.378200Z",
     "shell.execute_reply.started": "2021-08-02T15:03:15.371280Z"
    }
   },
   "outputs": [],
   "source": [
    "gz_file = './assets/MRMS_MESH_Max_1440min_00.50_20210730-120000.grib2.gz'"
   ]
  },
  {
   "cell_type": "code",
   "execution_count": 39,
   "id": "personal-moscow",
   "metadata": {
    "execution": {
     "iopub.execute_input": "2021-08-02T15:15:45.810997Z",
     "iopub.status.busy": "2021-08-02T15:15:45.810782Z",
     "iopub.status.idle": "2021-08-02T15:15:45.823714Z",
     "shell.execute_reply": "2021-08-02T15:15:45.822859Z",
     "shell.execute_reply.started": "2021-08-02T15:15:45.810973Z"
    },
    "tags": []
   },
   "outputs": [],
   "source": [
    "f = gzip.open(gz_file, 'rb')\n",
    "\n",
    "with open('./assets/MRMS-gzip-test.grib2', 'wb') as f_out:\n",
    "    shutil.copyfileobj(f, f_out)"
   ]
  },
  {
   "cell_type": "code",
   "execution_count": 41,
   "id": "stuck-lebanon",
   "metadata": {
    "execution": {
     "iopub.execute_input": "2021-08-02T15:16:05.348464Z",
     "iopub.status.busy": "2021-08-02T15:16:05.348242Z",
     "iopub.status.idle": "2021-08-02T15:16:05.357208Z",
     "shell.execute_reply": "2021-08-02T15:16:05.356341Z",
     "shell.execute_reply.started": "2021-08-02T15:16:05.348440Z"
    },
    "tags": []
   },
   "outputs": [],
   "source": [
    "grbs = pg.open(fname)"
   ]
  },
  {
   "cell_type": "code",
   "execution_count": 42,
   "id": "official-earth",
   "metadata": {
    "execution": {
     "iopub.execute_input": "2021-08-02T15:16:06.047411Z",
     "iopub.status.busy": "2021-08-02T15:16:06.047194Z",
     "iopub.status.idle": "2021-08-02T15:16:06.059971Z",
     "shell.execute_reply": "2021-08-02T15:16:06.059338Z",
     "shell.execute_reply.started": "2021-08-02T15:16:06.047388Z"
    },
    "tags": []
   },
   "outputs": [
    {
     "data": {
      "text/plain": [
       "[1:34:34 (instant):regular_ll:heightAboveSea:level 500 m:fcst time 0 mins:from 202107301200]"
      ]
     },
     "execution_count": 42,
     "metadata": {},
     "output_type": "execute_result"
    }
   ],
   "source": [
    "grbs.read(1)"
   ]
  },
  {
   "cell_type": "code",
   "execution_count": 44,
   "id": "concrete-match",
   "metadata": {
    "execution": {
     "iopub.execute_input": "2021-08-02T15:17:21.142316Z",
     "iopub.status.busy": "2021-08-02T15:17:21.142097Z",
     "iopub.status.idle": "2021-08-02T15:17:21.145503Z",
     "shell.execute_reply": "2021-08-02T15:17:21.144682Z",
     "shell.execute_reply.started": "2021-08-02T15:17:21.142292Z"
    },
    "tags": []
   },
   "outputs": [],
   "source": [
    "f.close()"
   ]
  },
  {
   "cell_type": "markdown",
   "id": "raising-constraint",
   "metadata": {},
   "source": [
    "### Image Detection"
   ]
  },
  {
   "cell_type": "code",
   "execution_count": 58,
   "id": "biblical-acoustic",
   "metadata": {
    "execution": {
     "iopub.execute_input": "2021-08-02T16:08:57.861378Z",
     "iopub.status.busy": "2021-08-02T16:08:57.861168Z",
     "iopub.status.idle": "2021-08-02T16:09:04.800319Z",
     "shell.execute_reply": "2021-08-02T16:09:04.799562Z",
     "shell.execute_reply.started": "2021-08-02T16:08:57.861356Z"
    },
    "tags": []
   },
   "outputs": [],
   "source": [
    "ds = xr.open_dataset('./assets/MRMS-gzip-test.grib2', engine='cfgrib')"
   ]
  },
  {
   "cell_type": "code",
   "execution_count": 139,
   "id": "guilty-pricing",
   "metadata": {
    "execution": {
     "iopub.execute_input": "2021-08-02T18:11:00.395945Z",
     "iopub.status.busy": "2021-08-02T18:11:00.395734Z",
     "iopub.status.idle": "2021-08-02T18:11:00.399081Z",
     "shell.execute_reply": "2021-08-02T18:11:00.398326Z",
     "shell.execute_reply.started": "2021-08-02T18:11:00.395923Z"
    },
    "tags": []
   },
   "outputs": [],
   "source": [
    "x_min = 280\n",
    "x_max = 285\n",
    "y_min = 36\n",
    "y_max = 41"
   ]
  },
  {
   "cell_type": "code",
   "execution_count": 140,
   "id": "hollywood-hybrid",
   "metadata": {
    "execution": {
     "iopub.execute_input": "2021-08-02T18:11:01.015543Z",
     "iopub.status.busy": "2021-08-02T18:11:01.015319Z",
     "iopub.status.idle": "2021-08-02T18:11:01.025108Z",
     "shell.execute_reply": "2021-08-02T18:11:01.024519Z",
     "shell.execute_reply.started": "2021-08-02T18:11:01.015519Z"
    },
    "tags": []
   },
   "outputs": [],
   "source": [
    "mask_lon = (ds.longitude >= x_min) & (ds.longitude <= x_max)\n",
    "mask_lat = (ds.latitude >= y_min) & (ds.latitude <= y_max)"
   ]
  },
  {
   "cell_type": "code",
   "execution_count": 141,
   "id": "conventional-calvin",
   "metadata": {
    "execution": {
     "iopub.execute_input": "2021-08-02T18:11:01.347402Z",
     "iopub.status.busy": "2021-08-02T18:11:01.347181Z",
     "iopub.status.idle": "2021-08-02T18:11:01.549753Z",
     "shell.execute_reply": "2021-08-02T18:11:01.548922Z",
     "shell.execute_reply.started": "2021-08-02T18:11:01.347378Z"
    },
    "tags": []
   },
   "outputs": [],
   "source": [
    "cropped_ds = ds.where(mask_lon & mask_lat, drop=True)"
   ]
  },
  {
   "cell_type": "code",
   "execution_count": 142,
   "id": "protected-slope",
   "metadata": {
    "execution": {
     "iopub.execute_input": "2021-08-02T18:11:01.600374Z",
     "iopub.status.busy": "2021-08-02T18:11:01.600130Z",
     "iopub.status.idle": "2021-08-02T18:11:01.877383Z",
     "shell.execute_reply": "2021-08-02T18:11:01.876893Z",
     "shell.execute_reply.started": "2021-08-02T18:11:01.600349Z"
    },
    "tags": []
   },
   "outputs": [
    {
     "data": {
      "text/plain": [
       "<matplotlib.collections.QuadMesh at 0x7fddefd9a970>"
      ]
     },
     "execution_count": 142,
     "metadata": {},
     "output_type": "execute_result"
    },
    {
     "data": {
      "image/png": "[encoded data removed]",
      "text/plain": [
       "<Figure size 432x288 with 2 Axes>"
      ]
     },
     "metadata": {
      "needs_background": "light"
     },
     "output_type": "display_data"
    }
   ],
   "source": [
    "xr.plot.pcolormesh(cropped_ds.unknown,'longitude','latitude')"
   ]
  },
  {
   "cell_type": "code",
   "execution_count": 177,
   "id": "aquatic-acquisition",
   "metadata": {
    "execution": {
     "iopub.execute_input": "2021-08-02T20:15:53.503133Z",
     "iopub.status.busy": "2021-08-02T20:15:53.502812Z",
     "iopub.status.idle": "2021-08-02T20:15:53.506225Z",
     "shell.execute_reply": "2021-08-02T20:15:53.505513Z",
     "shell.execute_reply.started": "2021-08-02T20:15:53.503105Z"
    },
    "tags": []
   },
   "outputs": [],
   "source": [
    "cropped_mesh = cropped_ds.unknown.values"
   ]
  },
  {
   "cell_type": "code",
   "execution_count": 181,
   "id": "specified-authority",
   "metadata": {
    "execution": {
     "iopub.execute_input": "2021-08-02T20:16:13.314094Z",
     "iopub.status.busy": "2021-08-02T20:16:13.313864Z",
     "iopub.status.idle": "2021-08-02T20:16:13.318077Z",
     "shell.execute_reply": "2021-08-02T20:16:13.317365Z",
     "shell.execute_reply.started": "2021-08-02T20:16:13.314069Z"
    },
    "tags": []
   },
   "outputs": [],
   "source": [
    "image = np.zeros_like(cropped_mesh)\n",
    "\n",
    "# Convert to binary\n",
    "image[cropped_mesh > 29] = 1"
   ]
  },
  {
   "cell_type": "code",
   "execution_count": 182,
   "id": "integrated-jenny",
   "metadata": {
    "execution": {
     "iopub.execute_input": "2021-08-02T20:16:13.803855Z",
     "iopub.status.busy": "2021-08-02T20:16:13.803607Z",
     "iopub.status.idle": "2021-08-02T20:16:13.825239Z",
     "shell.execute_reply": "2021-08-02T20:16:13.824655Z",
     "shell.execute_reply.started": "2021-08-02T20:16:13.803828Z"
    },
    "tags": []
   },
   "outputs": [],
   "source": [
    "distance = ndi.distance_transform_edt(image)"
   ]
  },
  {
   "cell_type": "code",
   "execution_count": 183,
   "id": "orange-equality",
   "metadata": {
    "execution": {
     "iopub.execute_input": "2021-08-02T20:16:14.005444Z",
     "iopub.status.busy": "2021-08-02T20:16:14.005173Z",
     "iopub.status.idle": "2021-08-02T20:16:14.204970Z",
     "shell.execute_reply": "2021-08-02T20:16:14.204477Z",
     "shell.execute_reply.started": "2021-08-02T20:16:14.005416Z"
    },
    "tags": []
   },
   "outputs": [
    {
     "data": {
      "text/plain": [
       "Text(0.5, 1.0, 'Distances')"
      ]
     },
     "execution_count": 183,
     "metadata": {},
     "output_type": "execute_result"
    },
    {
     "data": {
      "image/png": "[encoded data removed]",
      "text/plain": [
       "<Figure size 648x216 with 3 Axes>"
      ]
     },
     "metadata": {
      "needs_background": "light"
     },
     "output_type": "display_data"
    }
   ],
   "source": [
    "fig, axes = plt.subplots(ncols=3, figsize=(9, 3), sharex=True, sharey=True)\n",
    "ax = axes.ravel()\n",
    "\n",
    "ax[1].imshow(-distance, cmap=plt.cm.gray)\n",
    "ax[1].set_title('Distances')"
   ]
  },
  {
   "cell_type": "markdown",
   "id": "loved-briefs",
   "metadata": {},
   "source": [
    "Generate markers"
   ]
  },
  {
   "cell_type": "code",
   "execution_count": 144,
   "id": "amino-saver",
   "metadata": {
    "execution": {
     "iopub.execute_input": "2021-08-02T18:11:13.786795Z",
     "iopub.status.busy": "2021-08-02T18:11:13.786526Z",
     "iopub.status.idle": "2021-08-02T18:11:13.790958Z",
     "shell.execute_reply": "2021-08-02T18:11:13.790335Z",
     "shell.execute_reply.started": "2021-08-02T18:11:13.786765Z"
    },
    "tags": []
   },
   "outputs": [],
   "source": [
    "markers = np.zeros_like(cropped_mesh)\n",
    "markers[cropped_mesh > 29] = 1"
   ]
  },
  {
   "cell_type": "markdown",
   "id": "hazardous-ballot",
   "metadata": {},
   "source": [
    "Generate elevation map"
   ]
  },
  {
   "cell_type": "code",
   "execution_count": 145,
   "id": "central-federation",
   "metadata": {
    "execution": {
     "iopub.execute_input": "2021-08-02T18:11:16.711767Z",
     "iopub.status.busy": "2021-08-02T18:11:16.711544Z",
     "iopub.status.idle": "2021-08-02T18:11:16.714710Z",
     "shell.execute_reply": "2021-08-02T18:11:16.713911Z",
     "shell.execute_reply.started": "2021-08-02T18:11:16.711744Z"
    },
    "tags": []
   },
   "outputs": [],
   "source": [
    "from skimage.filters import sobel\n",
    "from skimage.segmentation import watershed"
   ]
  },
  {
   "cell_type": "code",
   "execution_count": 146,
   "id": "brazilian-fleet",
   "metadata": {
    "execution": {
     "iopub.execute_input": "2021-08-02T18:11:17.164228Z",
     "iopub.status.busy": "2021-08-02T18:11:17.163987Z",
     "iopub.status.idle": "2021-08-02T18:11:17.186594Z",
     "shell.execute_reply": "2021-08-02T18:11:17.185973Z",
     "shell.execute_reply.started": "2021-08-02T18:11:17.164203Z"
    },
    "tags": []
   },
   "outputs": [],
   "source": [
    "elevation_map = sobel(cropped_mesh)"
   ]
  },
  {
   "cell_type": "code",
   "execution_count": 147,
   "id": "sophisticated-agent",
   "metadata": {
    "execution": {
     "iopub.execute_input": "2021-08-02T18:11:17.623382Z",
     "iopub.status.busy": "2021-08-02T18:11:17.623154Z",
     "iopub.status.idle": "2021-08-02T18:11:17.663542Z",
     "shell.execute_reply": "2021-08-02T18:11:17.662875Z",
     "shell.execute_reply.started": "2021-08-02T18:11:17.623358Z"
    },
    "tags": []
   },
   "outputs": [],
   "source": [
    "segmentation = watershed(elevation_map, markers)"
   ]
  },
  {
   "cell_type": "code",
   "execution_count": null,
   "id": "processed-arizona",
   "metadata": {},
   "outputs": [],
   "source": []
  },
  {
   "cell_type": "code",
   "execution_count": null,
   "id": "forty-american",
   "metadata": {},
   "outputs": [],
   "source": []
  },
  {
   "cell_type": "code",
   "execution_count": null,
   "id": "random-satisfaction",
   "metadata": {},
   "outputs": [],
   "source": []
  }
 ],
 "metadata": {
  "kernelspec": {
   "display_name": "Python 3",
   "language": "python",
   "name": "python3"
  },
  "language_info": {
   "codemirror_mode": {
    "name": "ipython",
    "version": 3
   },
   "file_extension": ".py",
   "mimetype": "text/x-python",
   "name": "python",
   "nbconvert_exporter": "python",
   "pygments_lexer": "ipython3",
   "version": "3.8.8"
  }
 },
 "nbformat": 4,
 "nbformat_minor": 5
}

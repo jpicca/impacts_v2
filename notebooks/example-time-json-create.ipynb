{
 "cells": [
  {
   "cell_type": "markdown",
   "id": "injured-organ",
   "metadata": {},
   "source": [
    "The purpose of this notebook is to create example json files (similar to however a backend API would be serving data) for the time matrix to be in the next version of the IMPACTS dashboard."
   ]
  },
  {
   "cell_type": "code",
   "execution_count": 1,
   "id": "linear-article",
   "metadata": {
    "execution": {
     "iopub.execute_input": "2021-07-20T15:44:00.799313Z",
     "iopub.status.busy": "2021-07-20T15:44:00.799035Z",
     "iopub.status.idle": "2021-07-20T15:44:01.439379Z",
     "shell.execute_reply": "2021-07-20T15:44:01.438856Z",
     "shell.execute_reply.started": "2021-07-20T15:44:00.799247Z"
    }
   },
   "outputs": [],
   "source": [
    "import pathlib\n",
    "import glob\n",
    "import os\n",
    "\n",
    "import argparse\n",
    "import geojson\n",
    "import pandas as pd\n",
    "import json\n",
    "import random\n",
    "\n",
    "from datetime import datetime, timedelta"
   ]
  },
  {
   "cell_type": "code",
   "execution_count": 2,
   "id": "extreme-cabinet",
   "metadata": {
    "execution": {
     "iopub.execute_input": "2021-07-20T15:44:02.233351Z",
     "iopub.status.busy": "2021-07-20T15:44:02.233125Z",
     "iopub.status.idle": "2021-07-20T15:44:02.236569Z",
     "shell.execute_reply": "2021-07-20T15:44:02.235864Z",
     "shell.execute_reply.started": "2021-07-20T15:44:02.233328Z"
    }
   },
   "outputs": [],
   "source": [
    "# Helper array for day indexing\n",
    "aggregateMonths = [0, 31, 60, 91, 121, 152, 182, 213, 244, 274, 305, 335]\n",
    "nsims = 10000"
   ]
  },
  {
   "cell_type": "code",
   "execution_count": 22,
   "id": "helpful-wealth",
   "metadata": {
    "execution": {
     "iopub.execute_input": "2021-07-20T17:11:21.631873Z",
     "iopub.status.busy": "2021-07-20T17:11:21.630279Z",
     "iopub.status.idle": "2021-07-20T17:11:21.642922Z",
     "shell.execute_reply": "2021-07-20T17:11:21.642135Z",
     "shell.execute_reply.started": "2021-07-20T17:11:21.631810Z"
    },
    "tags": []
   },
   "outputs": [],
   "source": [
    "jsonResponse = []"
   ]
  },
  {
   "cell_type": "code",
   "execution_count": 23,
   "id": "dirty-contractor",
   "metadata": {
    "execution": {
     "iopub.execute_input": "2021-07-20T17:11:24.881673Z",
     "iopub.status.busy": "2021-07-20T17:11:24.881436Z",
     "iopub.status.idle": "2021-07-20T17:11:26.520116Z",
     "shell.execute_reply": "2021-07-20T17:11:26.519207Z",
     "shell.execute_reply.started": "2021-07-20T17:11:24.881646Z"
    },
    "tags": []
   },
   "outputs": [],
   "source": [
    "# Read in example psv\n",
    "file = '../data/output/examples/20110427/psvs/20110427162927_schools_fema_time.psv.gz'\n",
    "df = pd.read_csv(file, sep=\"|\")"
   ]
  },
  {
   "cell_type": "code",
   "execution_count": 24,
   "id": "residential-railway",
   "metadata": {
    "execution": {
     "iopub.execute_input": "2021-07-20T17:11:31.710944Z",
     "iopub.status.busy": "2021-07-20T17:11:31.710703Z",
     "iopub.status.idle": "2021-07-20T17:11:31.920153Z",
     "shell.execute_reply": "2021-07-20T17:11:31.919696Z",
     "shell.execute_reply.started": "2021-07-20T17:11:31.710919Z"
    },
    "tags": []
   },
   "outputs": [
    {
     "data": {
      "text/plain": [
       "<AxesSubplot:>"
      ]
     },
     "execution_count": 24,
     "metadata": {},
     "output_type": "execute_result"
    },
    {
     "data": {
      "image/png": "[encoded data removed]",
      "text/plain": [
       "<Figure size 432x288 with 1 Axes>"
      ]
     },
     "metadata": {
      "needs_background": "light"
     },
     "output_type": "display_data"
    }
   ],
   "source": [
    "df['time'].hist(bins=24)"
   ]
  },
  {
   "cell_type": "markdown",
   "id": "black-rogers",
   "metadata": {},
   "source": [
    "### Binning"
   ]
  },
  {
   "cell_type": "code",
   "execution_count": 16,
   "id": "expired-discharge",
   "metadata": {},
   "outputs": [],
   "source": [
    "bin_labels = ['00-03','03-06','06-09','09-12','12-15','15-18','18-21','21-00']\n",
    "# lower bound is not inclusive, so we shift the thresholds one to the left\n",
    "cut_bins = [-1,2,5,8,11,14,17,20,23]\n",
    "\n",
    "# Add the hour bins to the original dataframe\n",
    "df['hourBins'] = pd.cut(df['time'], bins=cut_bins, labels=bin_labels)"
   ]
  },
  {
   "cell_type": "code",
   "execution_count": 51,
   "id": "useful-china",
   "metadata": {},
   "outputs": [],
   "source": [
    "# Group by simulation and hour bin and sum our population in each group\n",
    "grouped = df.groupby(['sim','hourBins']).agg({'population': ['sum'], 'hospitals': ['sum'],\n",
    "                                             'psubstations': ['sum'], 'mobilehomes': ['sum']})\n",
    "\n",
    "# Move the indices to columns and pivot the sim column back to the index, then ensure we have 10000 sims in the df by reindexing\n",
    "formatted = grouped.reset_index().pivot(index='sim',columns='hourBins').reindex(list(range(1,10001)),fill_value=0)\n",
    "\n",
    "# Get the stats\n",
    "hourBinStats_All = formatted.describe(percentiles=[0.1,0.5,0.9]).loc[['10%','50%','90%']]\n",
    "hourBinStats_All.rename(index={'10%':'0.1','50%':'0.5','90%':'0.9'},inplace=True)\n"
   ]
  },
  {
   "cell_type": "code",
   "execution_count": 52,
   "id": "invisible-danger",
   "metadata": {},
   "outputs": [
    {
     "data": {
      "text/html": [
       "<div>\n",
       "<style scoped>\n",
       "    .dataframe tbody tr th:only-of-type {\n",
       "        vertical-align: middle;\n",
       "    }\n",
       "\n",
       "    .dataframe tbody tr th {\n",
       "        vertical-align: top;\n",
       "    }\n",
       "\n",
       "    .dataframe thead tr th {\n",
       "        text-align: left;\n",
       "    }\n",
       "</style>\n",
       "<table border=\"1\" class=\"dataframe\">\n",
       "  <thead>\n",
       "    <tr>\n",
       "      <th></th>\n",
       "      <th colspan=\"8\" halign=\"left\">population</th>\n",
       "      <th colspan=\"2\" halign=\"left\">hospitals</th>\n",
       "      <th>...</th>\n",
       "      <th colspan=\"2\" halign=\"left\">psubstations</th>\n",
       "      <th colspan=\"8\" halign=\"left\">mobilehomes</th>\n",
       "    </tr>\n",
       "    <tr>\n",
       "      <th></th>\n",
       "      <th colspan=\"8\" halign=\"left\">sum</th>\n",
       "      <th colspan=\"2\" halign=\"left\">sum</th>\n",
       "      <th>...</th>\n",
       "      <th colspan=\"2\" halign=\"left\">sum</th>\n",
       "      <th colspan=\"8\" halign=\"left\">sum</th>\n",
       "    </tr>\n",
       "    <tr>\n",
       "      <th>hourBins</th>\n",
       "      <th>00-03</th>\n",
       "      <th>03-06</th>\n",
       "      <th>06-09</th>\n",
       "      <th>09-12</th>\n",
       "      <th>12-15</th>\n",
       "      <th>15-18</th>\n",
       "      <th>18-21</th>\n",
       "      <th>21-00</th>\n",
       "      <th>00-03</th>\n",
       "      <th>03-06</th>\n",
       "      <th>...</th>\n",
       "      <th>18-21</th>\n",
       "      <th>21-00</th>\n",
       "      <th>00-03</th>\n",
       "      <th>03-06</th>\n",
       "      <th>06-09</th>\n",
       "      <th>09-12</th>\n",
       "      <th>12-15</th>\n",
       "      <th>15-18</th>\n",
       "      <th>18-21</th>\n",
       "      <th>21-00</th>\n",
       "    </tr>\n",
       "  </thead>\n",
       "  <tbody>\n",
       "    <tr>\n",
       "      <th>0.1</th>\n",
       "      <td>0.0</td>\n",
       "      <td>0.0</td>\n",
       "      <td>0.0</td>\n",
       "      <td>0.0</td>\n",
       "      <td>0.0</td>\n",
       "      <td>0.0</td>\n",
       "      <td>0.0</td>\n",
       "      <td>0.0</td>\n",
       "      <td>0.0</td>\n",
       "      <td>0.0</td>\n",
       "      <td>...</td>\n",
       "      <td>0.0</td>\n",
       "      <td>0.0</td>\n",
       "      <td>0.0</td>\n",
       "      <td>0.0</td>\n",
       "      <td>0.0</td>\n",
       "      <td>0.0</td>\n",
       "      <td>0.0</td>\n",
       "      <td>0.0</td>\n",
       "      <td>0.0</td>\n",
       "      <td>0.0</td>\n",
       "    </tr>\n",
       "    <tr>\n",
       "      <th>0.5</th>\n",
       "      <td>608.0</td>\n",
       "      <td>16.0</td>\n",
       "      <td>0.0</td>\n",
       "      <td>0.0</td>\n",
       "      <td>0.0</td>\n",
       "      <td>0.0</td>\n",
       "      <td>0.0</td>\n",
       "      <td>608.0</td>\n",
       "      <td>0.0</td>\n",
       "      <td>0.0</td>\n",
       "      <td>...</td>\n",
       "      <td>0.0</td>\n",
       "      <td>0.0</td>\n",
       "      <td>0.0</td>\n",
       "      <td>0.0</td>\n",
       "      <td>0.0</td>\n",
       "      <td>0.0</td>\n",
       "      <td>0.0</td>\n",
       "      <td>0.0</td>\n",
       "      <td>0.0</td>\n",
       "      <td>0.0</td>\n",
       "    </tr>\n",
       "    <tr>\n",
       "      <th>0.9</th>\n",
       "      <td>13958.4</td>\n",
       "      <td>3284.8</td>\n",
       "      <td>433.6</td>\n",
       "      <td>0.0</td>\n",
       "      <td>0.0</td>\n",
       "      <td>320.0</td>\n",
       "      <td>2977.6</td>\n",
       "      <td>10720.0</td>\n",
       "      <td>0.0</td>\n",
       "      <td>0.0</td>\n",
       "      <td>...</td>\n",
       "      <td>1.0</td>\n",
       "      <td>3.0</td>\n",
       "      <td>100.0</td>\n",
       "      <td>0.0</td>\n",
       "      <td>0.0</td>\n",
       "      <td>0.0</td>\n",
       "      <td>0.0</td>\n",
       "      <td>0.0</td>\n",
       "      <td>0.0</td>\n",
       "      <td>75.0</td>\n",
       "    </tr>\n",
       "  </tbody>\n",
       "</table>\n",
       "<p>3 rows × 32 columns</p>\n",
       "</div>"
      ],
      "text/plain": [
       "         population                                                     \\\n",
       "                sum                                                      \n",
       "hourBins      00-03   03-06  06-09 09-12 12-15  15-18   18-21    21-00   \n",
       "0.1             0.0     0.0    0.0   0.0   0.0    0.0     0.0      0.0   \n",
       "0.5           608.0    16.0    0.0   0.0   0.0    0.0     0.0    608.0   \n",
       "0.9         13958.4  3284.8  433.6   0.0   0.0  320.0  2977.6  10720.0   \n",
       "\n",
       "         hospitals        ... psubstations       mobilehomes              \\\n",
       "               sum        ...          sum               sum               \n",
       "hourBins     00-03 03-06  ...        18-21 21-00       00-03 03-06 06-09   \n",
       "0.1            0.0   0.0  ...          0.0   0.0         0.0   0.0   0.0   \n",
       "0.5            0.0   0.0  ...          0.0   0.0         0.0   0.0   0.0   \n",
       "0.9            0.0   0.0  ...          1.0   3.0       100.0   0.0   0.0   \n",
       "\n",
       "                                        \n",
       "                                        \n",
       "hourBins 09-12 12-15 15-18 18-21 21-00  \n",
       "0.1        0.0   0.0   0.0   0.0   0.0  \n",
       "0.5        0.0   0.0   0.0   0.0   0.0  \n",
       "0.9        0.0   0.0   0.0   0.0  75.0  \n",
       "\n",
       "[3 rows x 32 columns]"
      ]
     },
     "execution_count": 52,
     "metadata": {},
     "output_type": "execute_result"
    }
   ],
   "source": [
    "hourBinStats_All"
   ]
  },
  {
   "cell_type": "code",
   "execution_count": 42,
   "id": "cardiac-progressive",
   "metadata": {},
   "outputs": [],
   "source": [
    "nationalResponse = {\n",
    "    'Location': 'National',\n",
    "    'Type': 'National',\n",
    "    'Timing': {}\n",
    "}"
   ]
  },
  {
   "cell_type": "code",
   "execution_count": 43,
   "id": "positive-jacket",
   "metadata": {},
   "outputs": [],
   "source": [
    "impacts = ['population','hospitals','mobilehomes','psubstations']"
   ]
  },
  {
   "cell_type": "markdown",
   "id": "religious-banana",
   "metadata": {},
   "source": [
    "Using the regular binned percentiles"
   ]
  },
  {
   "cell_type": "code",
   "execution_count": 44,
   "id": "marked-consequence",
   "metadata": {},
   "outputs": [],
   "source": [
    "for name in impacts:\n",
    "    nationalResponse['Timing'][name] = {}\n",
    "    \n",
    "    for hourBin in hourBinStats_All[name]['sum'].columns:\n",
    "        \n",
    "        nationalResponse['Timing'][name][hourBin] = {}\n",
    "        \n",
    "        for quant in hourBinStats_All[name]['sum'].index:\n",
    "            \n",
    "            nationalResponse['Timing'][name][hourBin][quant] = \\\n",
    "                int(hourBinStats_All[name]['sum'].loc[quant,hourBin])"
   ]
  },
  {
   "cell_type": "code",
   "execution_count": null,
   "id": "integral-costa",
   "metadata": {},
   "outputs": [],
   "source": [
    "for name in impacts:\n",
    "    nationalResponse['Timing'][name] = {}"
   ]
  },
  {
   "cell_type": "code",
   "execution_count": 46,
   "id": "subsequent-vaccine",
   "metadata": {},
   "outputs": [],
   "source": [
    "jsonResponse.append(nationalResponse)"
   ]
  },
  {
   "cell_type": "code",
   "execution_count": 48,
   "id": "sophisticated-ending",
   "metadata": {},
   "outputs": [],
   "source": [
    "with open ('../data/output/examples/jsonResponse_time.json','w') as fp:\n",
    "    json.dump(jsonResponse, fp)"
   ]
  },
  {
   "cell_type": "markdown",
   "id": "second-means",
   "metadata": {},
   "source": [
    "### No Binning"
   ]
  },
  {
   "cell_type": "code",
   "execution_count": 53,
   "id": "empty-lotus",
   "metadata": {},
   "outputs": [],
   "source": [
    "grouped_nb = df.groupby(['sim','time']).agg({'population': ['sum'], 'hospitals': ['sum'],\n",
    "                                             'psubstations': ['sum'], 'mobilehomes': ['sum']})"
   ]
  },
  {
   "cell_type": "code",
   "execution_count": 54,
   "id": "regular-transcript",
   "metadata": {},
   "outputs": [],
   "source": [
    "# Move the indices to columns and pivot the sim column back to the index, then ensure we have 10000 sims in the df by reindexing\n",
    "formatted_nb = grouped_nb.reset_index().pivot(index='sim',columns='time').reindex(list(range(1,10001)),fill_value=0)"
   ]
  },
  {
   "cell_type": "code",
   "execution_count": 57,
   "id": "democratic-robert",
   "metadata": {},
   "outputs": [],
   "source": [
    "formatted_nb.fillna(0,inplace=True)\n",
    "\n",
    "# Get the stats\n",
    "hourBinStats_nb = formatted_nb.describe(percentiles=[0.1,0.5,0.9]).loc[['10%','50%','90%']]\n",
    "hourBinStats_nb.rename(index={'10%':'0.1','50%':'0.5','90%':'0.9'},inplace=True)"
   ]
  },
  {
   "cell_type": "markdown",
   "id": "previous-mainstream",
   "metadata": {},
   "source": [
    "### Sum by Time"
   ]
  },
  {
   "cell_type": "code",
   "execution_count": 25,
   "id": "patient-grill",
   "metadata": {
    "execution": {
     "iopub.execute_input": "2021-07-20T17:12:23.971228Z",
     "iopub.status.busy": "2021-07-20T17:12:23.971006Z",
     "iopub.status.idle": "2021-07-20T17:12:24.056499Z",
     "shell.execute_reply": "2021-07-20T17:12:24.055849Z",
     "shell.execute_reply.started": "2021-07-20T17:12:23.971203Z"
    },
    "tags": []
   },
   "outputs": [
    {
     "data": {
      "text/html": [
       "<div>\n",
       "<style scoped>\n",
       "    .dataframe tbody tr th:only-of-type {\n",
       "        vertical-align: middle;\n",
       "    }\n",
       "\n",
       "    .dataframe tbody tr th {\n",
       "        vertical-align: top;\n",
       "    }\n",
       "\n",
       "    .dataframe thead tr th {\n",
       "        text-align: left;\n",
       "    }\n",
       "\n",
       "    .dataframe thead tr:last-of-type th {\n",
       "        text-align: right;\n",
       "    }\n",
       "</style>\n",
       "<table border=\"1\" class=\"dataframe\">\n",
       "  <thead>\n",
       "    <tr>\n",
       "      <th></th>\n",
       "      <th>population</th>\n",
       "      <th>hospitals</th>\n",
       "      <th>schools</th>\n",
       "      <th>psubstations</th>\n",
       "      <th>mobilehomes</th>\n",
       "    </tr>\n",
       "    <tr>\n",
       "      <th></th>\n",
       "      <th>sum</th>\n",
       "      <th>sum</th>\n",
       "      <th>sum</th>\n",
       "      <th>sum</th>\n",
       "      <th>sum</th>\n",
       "    </tr>\n",
       "    <tr>\n",
       "      <th>time</th>\n",
       "      <th></th>\n",
       "      <th></th>\n",
       "      <th></th>\n",
       "      <th></th>\n",
       "      <th></th>\n",
       "    </tr>\n",
       "  </thead>\n",
       "  <tbody>\n",
       "    <tr>\n",
       "      <th>0</th>\n",
       "      <td>100011072</td>\n",
       "      <td>2372</td>\n",
       "      <td>36799</td>\n",
       "      <td>26920</td>\n",
       "      <td>613834</td>\n",
       "    </tr>\n",
       "    <tr>\n",
       "      <th>1</th>\n",
       "      <td>97353344</td>\n",
       "      <td>2301</td>\n",
       "      <td>35791</td>\n",
       "      <td>27304</td>\n",
       "      <td>618872</td>\n",
       "    </tr>\n",
       "    <tr>\n",
       "      <th>2</th>\n",
       "      <td>97348352</td>\n",
       "      <td>2548</td>\n",
       "      <td>36778</td>\n",
       "      <td>27116</td>\n",
       "      <td>590761</td>\n",
       "    </tr>\n",
       "    <tr>\n",
       "      <th>3</th>\n",
       "      <td>81342640</td>\n",
       "      <td>1980</td>\n",
       "      <td>29582</td>\n",
       "      <td>22377</td>\n",
       "      <td>485014</td>\n",
       "    </tr>\n",
       "    <tr>\n",
       "      <th>4</th>\n",
       "      <td>47711392</td>\n",
       "      <td>1212</td>\n",
       "      <td>17681</td>\n",
       "      <td>13131</td>\n",
       "      <td>288517</td>\n",
       "    </tr>\n",
       "  </tbody>\n",
       "</table>\n",
       "</div>"
      ],
      "text/plain": [
       "     population hospitals schools psubstations mobilehomes\n",
       "            sum       sum     sum          sum         sum\n",
       "time                                                      \n",
       "0     100011072      2372   36799        26920      613834\n",
       "1      97353344      2301   35791        27304      618872\n",
       "2      97348352      2548   36778        27116      590761\n",
       "3      81342640      1980   29582        22377      485014\n",
       "4      47711392      1212   17681        13131      288517"
      ]
     },
     "execution_count": 25,
     "metadata": {},
     "output_type": "execute_result"
    }
   ],
   "source": [
    "grouped_time = df.groupby(['time']).agg({'population': ['sum'], 'hospitals': ['sum'],\n",
    "                                             'schools': ['sum'],\n",
    "                                             'psubstations': ['sum'], 'mobilehomes': ['sum']})\n",
    "formatted_time = grouped_time.reindex(list(range(0,24)),fill_value=0)\n",
    "formatted_time.head()"
   ]
  },
  {
   "cell_type": "markdown",
   "id": "increased-wallace",
   "metadata": {},
   "source": [
    "Using the summed individual hours"
   ]
  },
  {
   "cell_type": "code",
   "execution_count": 26,
   "id": "finished-presentation",
   "metadata": {
    "execution": {
     "iopub.execute_input": "2021-07-20T17:12:28.763969Z",
     "iopub.status.busy": "2021-07-20T17:12:28.763756Z",
     "iopub.status.idle": "2021-07-20T17:12:28.766838Z",
     "shell.execute_reply": "2021-07-20T17:12:28.765932Z",
     "shell.execute_reply.started": "2021-07-20T17:12:28.763946Z"
    },
    "tags": []
   },
   "outputs": [],
   "source": [
    "jsonResponse = []"
   ]
  },
  {
   "cell_type": "code",
   "execution_count": 27,
   "id": "refined-runner",
   "metadata": {
    "execution": {
     "iopub.execute_input": "2021-07-20T17:12:29.259793Z",
     "iopub.status.busy": "2021-07-20T17:12:29.259569Z",
     "iopub.status.idle": "2021-07-20T17:12:29.262990Z",
     "shell.execute_reply": "2021-07-20T17:12:29.262237Z",
     "shell.execute_reply.started": "2021-07-20T17:12:29.259768Z"
    },
    "tags": []
   },
   "outputs": [],
   "source": [
    "nationalResponse = {\n",
    "    'Location': 'National',\n",
    "    'Type': 'National',\n",
    "    'Timing': {}\n",
    "}"
   ]
  },
  {
   "cell_type": "code",
   "execution_count": 28,
   "id": "underlying-terrorism",
   "metadata": {
    "execution": {
     "iopub.execute_input": "2021-07-20T17:12:29.913743Z",
     "iopub.status.busy": "2021-07-20T17:12:29.913516Z",
     "iopub.status.idle": "2021-07-20T17:12:29.916741Z",
     "shell.execute_reply": "2021-07-20T17:12:29.916019Z",
     "shell.execute_reply.started": "2021-07-20T17:12:29.913719Z"
    },
    "tags": []
   },
   "outputs": [],
   "source": [
    "impacts = ['population','hospitals','schools','mobilehomes','psubstations']"
   ]
  },
  {
   "cell_type": "code",
   "execution_count": 29,
   "id": "acquired-rotation",
   "metadata": {
    "execution": {
     "iopub.execute_input": "2021-07-20T17:12:30.888685Z",
     "iopub.status.busy": "2021-07-20T17:12:30.888431Z",
     "iopub.status.idle": "2021-07-20T17:12:30.934632Z",
     "shell.execute_reply": "2021-07-20T17:12:30.933995Z",
     "shell.execute_reply.started": "2021-07-20T17:12:30.888659Z"
    },
    "tags": []
   },
   "outputs": [],
   "source": [
    "for name in impacts:\n",
    "    nationalResponse['Timing'][name] = {}\n",
    "    \n",
    "    for hour in formatted_time[name]['sum'].index:\n",
    "        \n",
    "        nationalResponse['Timing'][name][hour] = \\\n",
    "            int(formatted_time[name].loc[hour,'sum'])"
   ]
  },
  {
   "cell_type": "code",
   "execution_count": 30,
   "id": "tested-retrieval",
   "metadata": {
    "execution": {
     "iopub.execute_input": "2021-07-20T17:12:34.595621Z",
     "iopub.status.busy": "2021-07-20T17:12:34.595399Z",
     "iopub.status.idle": "2021-07-20T17:12:34.598797Z",
     "shell.execute_reply": "2021-07-20T17:12:34.598037Z",
     "shell.execute_reply.started": "2021-07-20T17:12:34.595597Z"
    },
    "tags": []
   },
   "outputs": [],
   "source": [
    "jsonResponse.append(nationalResponse)"
   ]
  },
  {
   "cell_type": "code",
   "execution_count": 31,
   "id": "grateful-switch",
   "metadata": {
    "collapsed": true,
    "execution": {
     "iopub.execute_input": "2021-07-20T17:12:35.273505Z",
     "iopub.status.busy": "2021-07-20T17:12:35.273281Z",
     "iopub.status.idle": "2021-07-20T17:12:35.280719Z",
     "shell.execute_reply": "2021-07-20T17:12:35.280098Z",
     "shell.execute_reply.started": "2021-07-20T17:12:35.273481Z"
    },
    "jupyter": {
     "outputs_hidden": true
    },
    "tags": []
   },
   "outputs": [
    {
     "data": {
      "text/plain": [
       "[{'Location': 'National',\n",
       "  'Type': 'National',\n",
       "  'Timing': {'population': {0: 100011072,\n",
       "    1: 97353344,\n",
       "    2: 97348352,\n",
       "    3: 81342640,\n",
       "    4: 47711392,\n",
       "    5: 64913760,\n",
       "    6: 83267888,\n",
       "    7: 81619984,\n",
       "    8: 65725744,\n",
       "    9: 67011744,\n",
       "    10: 97913472,\n",
       "    11: 114054272,\n",
       "    12: 96911264,\n",
       "    13: 65177024,\n",
       "    14: 50070896,\n",
       "    15: 50024160,\n",
       "    16: 47587696,\n",
       "    17: 64967728,\n",
       "    18: 94736176,\n",
       "    19: 147245440,\n",
       "    20: 165254624,\n",
       "    21: 163520896,\n",
       "    22: 146673392,\n",
       "    23: 116249632},\n",
       "   'hospitals': {0: 2372,\n",
       "    1: 2301,\n",
       "    2: 2548,\n",
       "    3: 1980,\n",
       "    4: 1212,\n",
       "    5: 1530,\n",
       "    6: 2017,\n",
       "    7: 1871,\n",
       "    8: 1544,\n",
       "    9: 1596,\n",
       "    10: 2396,\n",
       "    11: 2817,\n",
       "    12: 2333,\n",
       "    13: 1443,\n",
       "    14: 1275,\n",
       "    15: 1165,\n",
       "    16: 1099,\n",
       "    17: 1535,\n",
       "    18: 2227,\n",
       "    19: 3468,\n",
       "    20: 3974,\n",
       "    21: 4155,\n",
       "    22: 3538,\n",
       "    23: 2671},\n",
       "   'schools': {0: 36799,\n",
       "    1: 35791,\n",
       "    2: 36778,\n",
       "    3: 29582,\n",
       "    4: 17681,\n",
       "    5: 23484,\n",
       "    6: 30127,\n",
       "    7: 30260,\n",
       "    8: 24316,\n",
       "    9: 24666,\n",
       "    10: 36525,\n",
       "    11: 41201,\n",
       "    12: 36179,\n",
       "    13: 23953,\n",
       "    14: 18541,\n",
       "    15: 17735,\n",
       "    16: 17733,\n",
       "    17: 24035,\n",
       "    18: 34754,\n",
       "    19: 53075,\n",
       "    20: 61021,\n",
       "    21: 60501,\n",
       "    22: 53888,\n",
       "    23: 43268},\n",
       "   'mobilehomes': {0: 613834,\n",
       "    1: 618872,\n",
       "    2: 590761,\n",
       "    3: 485014,\n",
       "    4: 288517,\n",
       "    5: 423245,\n",
       "    6: 502446,\n",
       "    7: 504275,\n",
       "    8: 394048,\n",
       "    9: 397970,\n",
       "    10: 626524,\n",
       "    11: 673969,\n",
       "    12: 601835,\n",
       "    13: 412999,\n",
       "    14: 311603,\n",
       "    15: 309238,\n",
       "    16: 301337,\n",
       "    17: 407427,\n",
       "    18: 593583,\n",
       "    19: 899371,\n",
       "    20: 1002472,\n",
       "    21: 1008537,\n",
       "    22: 894980,\n",
       "    23: 697794},\n",
       "   'psubstations': {0: 26920,\n",
       "    1: 27304,\n",
       "    2: 27116,\n",
       "    3: 22377,\n",
       "    4: 13131,\n",
       "    5: 17970,\n",
       "    6: 22753,\n",
       "    7: 22530,\n",
       "    8: 17618,\n",
       "    9: 17864,\n",
       "    10: 27171,\n",
       "    11: 31067,\n",
       "    12: 26199,\n",
       "    13: 17643,\n",
       "    14: 13192,\n",
       "    15: 13168,\n",
       "    16: 13222,\n",
       "    17: 17659,\n",
       "    18: 26460,\n",
       "    19: 40545,\n",
       "    20: 45471,\n",
       "    21: 45117,\n",
       "    22: 41207,\n",
       "    23: 31429}}}]"
      ]
     },
     "execution_count": 31,
     "metadata": {},
     "output_type": "execute_result"
    }
   ],
   "source": [
    "jsonResponse"
   ]
  },
  {
   "cell_type": "markdown",
   "id": "worst-talent",
   "metadata": {},
   "source": [
    "### FEMA"
   ]
  },
  {
   "cell_type": "code",
   "execution_count": 32,
   "id": "adaptive-protest",
   "metadata": {
    "execution": {
     "iopub.execute_input": "2021-07-20T17:12:40.577592Z",
     "iopub.status.busy": "2021-07-20T17:12:40.577377Z",
     "iopub.status.idle": "2021-07-20T17:12:44.093916Z",
     "shell.execute_reply": "2021-07-20T17:12:44.093261Z",
     "shell.execute_reply.started": "2021-07-20T17:12:40.577569Z"
    },
    "tags": []
   },
   "outputs": [],
   "source": [
    "femaBrokenOut = df.assign(category=df['fema'].str.split(',')).explode('category').reset_index(drop=True)\n",
    "\n",
    "# Remove row if state is NaN\n",
    "femaBrokenOut = femaBrokenOut[femaBrokenOut['category'].notna()]\n",
    "\n",
    "# Grab a list of the unique states in the simulation\n",
    "femaImpacted = femaBrokenOut['category'].unique().tolist()"
   ]
  },
  {
   "cell_type": "code",
   "execution_count": 33,
   "id": "answering-honduras",
   "metadata": {
    "execution": {
     "iopub.execute_input": "2021-07-20T17:12:47.566757Z",
     "iopub.status.busy": "2021-07-20T17:12:47.566540Z",
     "iopub.status.idle": "2021-07-20T17:12:48.475749Z",
     "shell.execute_reply": "2021-07-20T17:12:48.475123Z",
     "shell.execute_reply.started": "2021-07-20T17:12:47.566734Z"
    },
    "tags": []
   },
   "outputs": [],
   "source": [
    "impacts = ['population','hospitals','schools','mobilehomes','psubstations']\n",
    "\n",
    "for fema in femaImpacted:\n",
    "    \n",
    "    femaResponse = {\n",
    "        'Location': fema,\n",
    "        'Type': 'FEMA',\n",
    "        'Timing': {}\n",
    "    }\n",
    "    \n",
    "    ind_fema = femaBrokenOut[femaBrokenOut['category'] == fema]\n",
    "\n",
    "    ind_fema_group = ind_fema.groupby(\"time\").agg({'population': ['sum'], 'hospitals': ['sum'],\n",
    "                                                    'schools': ['sum'],\n",
    "                                             'psubstations': ['sum'], 'mobilehomes': ['sum']})\n",
    "    \n",
    "    ind_fema_tot = ind_fema_group.reindex(list(range(0,24)),fill_value=0)\n",
    "    \n",
    "    for name in impacts:\n",
    "        femaResponse['Timing'][name] = {}\n",
    "\n",
    "        for hour in ind_fema_tot[name]['sum'].index:\n",
    "\n",
    "            femaResponse['Timing'][name][hour] = \\\n",
    "                int(ind_fema_tot[name].loc[hour,'sum'])\n",
    "    \n",
    "    jsonResponse.append(femaResponse)"
   ]
  },
  {
   "cell_type": "markdown",
   "id": "cosmetic-preserve",
   "metadata": {},
   "source": [
    "### States"
   ]
  },
  {
   "cell_type": "code",
   "execution_count": 34,
   "id": "rapid-corner",
   "metadata": {
    "execution": {
     "iopub.execute_input": "2021-07-20T17:12:50.599980Z",
     "iopub.status.busy": "2021-07-20T17:12:50.599752Z",
     "iopub.status.idle": "2021-07-20T17:12:53.570410Z",
     "shell.execute_reply": "2021-07-20T17:12:53.569769Z",
     "shell.execute_reply.started": "2021-07-20T17:12:50.599954Z"
    },
    "tags": []
   },
   "outputs": [],
   "source": [
    "stBrokenOut = df.assign(category=df['states'].str.split(',')).explode('category').reset_index(drop=True)\n",
    "\n",
    "# Remove row if state is NaN\n",
    "stBrokenOut = stBrokenOut[stBrokenOut['category'].notna()]\n",
    "\n",
    "# Grab a list of the unique states in the simulation\n",
    "statesImpacted = stBrokenOut['category'].unique().tolist()"
   ]
  },
  {
   "cell_type": "code",
   "execution_count": 35,
   "id": "blocked-capital",
   "metadata": {
    "execution": {
     "iopub.execute_input": "2021-07-20T17:12:53.571799Z",
     "iopub.status.busy": "2021-07-20T17:12:53.571604Z",
     "iopub.status.idle": "2021-07-20T17:12:56.392616Z",
     "shell.execute_reply": "2021-07-20T17:12:56.391921Z",
     "shell.execute_reply.started": "2021-07-20T17:12:53.571777Z"
    },
    "tags": []
   },
   "outputs": [],
   "source": [
    "impacts = ['population','hospitals','schools','mobilehomes','psubstations']\n",
    "\n",
    "for state in statesImpacted:\n",
    "    \n",
    "    stateResponse = {\n",
    "        'Location': state,\n",
    "        'Type': 'State',\n",
    "        'Timing': {}\n",
    "    }\n",
    "    \n",
    "    ind_state = stBrokenOut[stBrokenOut['category'] == state]\n",
    "\n",
    "    ind_state_group = ind_state.groupby(\"time\").agg({'population': ['sum'], 'hospitals': ['sum'],\n",
    "                                                     'schools':['sum'],\n",
    "                                             'psubstations': ['sum'], 'mobilehomes': ['sum']})\n",
    "    \n",
    "    ind_state_tot = ind_state_group.reindex(list(range(0,24)),fill_value=0)\n",
    "    \n",
    "    for name in impacts:\n",
    "        stateResponse['Timing'][name] = {}\n",
    "\n",
    "        for hour in ind_state_tot[name]['sum'].index:\n",
    "\n",
    "            stateResponse['Timing'][name][hour] = \\\n",
    "                int(ind_state_tot[name].loc[hour,'sum'])\n",
    "    \n",
    "    jsonResponse.append(stateResponse)"
   ]
  },
  {
   "cell_type": "markdown",
   "id": "conservative-association",
   "metadata": {},
   "source": [
    "### CWAs"
   ]
  },
  {
   "cell_type": "code",
   "execution_count": 36,
   "id": "understood-administrator",
   "metadata": {
    "execution": {
     "iopub.execute_input": "2021-07-20T17:12:58.689050Z",
     "iopub.status.busy": "2021-07-20T17:12:58.688847Z",
     "iopub.status.idle": "2021-07-20T17:13:01.778699Z",
     "shell.execute_reply": "2021-07-20T17:13:01.777984Z",
     "shell.execute_reply.started": "2021-07-20T17:12:58.689029Z"
    },
    "tags": []
   },
   "outputs": [],
   "source": [
    "cwaBrokenOut = df.assign(category=df['wfos'].str.split(',')).explode('category').reset_index(drop=True)\n",
    "\n",
    "# Remove row if state is NaN\n",
    "cwaBrokenOut = cwaBrokenOut[cwaBrokenOut['category'].notna()]\n",
    "\n",
    "# Grab a list of the unique states in the simulation\n",
    "cwasImpacted = cwaBrokenOut['category'].unique().tolist()"
   ]
  },
  {
   "cell_type": "code",
   "execution_count": 37,
   "id": "original-translation",
   "metadata": {
    "execution": {
     "iopub.execute_input": "2021-07-20T17:13:01.780298Z",
     "iopub.status.busy": "2021-07-20T17:13:01.779995Z",
     "iopub.status.idle": "2021-07-20T17:13:06.235167Z",
     "shell.execute_reply": "2021-07-20T17:13:06.234609Z",
     "shell.execute_reply.started": "2021-07-20T17:13:01.780268Z"
    },
    "tags": []
   },
   "outputs": [],
   "source": [
    "impacts = ['population','hospitals','schools','mobilehomes','psubstations']\n",
    "\n",
    "for cwa in cwasImpacted:\n",
    "    \n",
    "    cwaResponse = {\n",
    "        'Location': cwa,\n",
    "        'Type': 'CWA',\n",
    "        'Timing': {}\n",
    "    }\n",
    "    \n",
    "    ind_cwa = cwaBrokenOut[cwaBrokenOut['category'] == cwa]\n",
    "\n",
    "    ind_cwa_group = ind_cwa.groupby(\"time\").agg({'population': ['sum'], 'hospitals': ['sum'],\n",
    "                                                 'schools': ['sum'],\n",
    "                                             'psubstations': ['sum'], 'mobilehomes': ['sum']})\n",
    "    \n",
    "    ind_cwa_tot = ind_cwa_group.reindex(list(range(0,24)),fill_value=0)\n",
    "    \n",
    "    for name in impacts:\n",
    "        cwaResponse['Timing'][name] = {}\n",
    "\n",
    "        for hour in ind_cwa_tot[name]['sum'].index:\n",
    "\n",
    "            cwaResponse['Timing'][name][hour] = \\\n",
    "                int(ind_cwa_tot[name].loc[hour,'sum'])\n",
    "    \n",
    "    jsonResponse.append(cwaResponse)"
   ]
  },
  {
   "cell_type": "code",
   "execution_count": 38,
   "id": "toxic-spanking",
   "metadata": {
    "execution": {
     "iopub.execute_input": "2021-07-20T17:13:06.875117Z",
     "iopub.status.busy": "2021-07-20T17:13:06.874895Z",
     "iopub.status.idle": "2021-07-20T17:13:06.937269Z",
     "shell.execute_reply": "2021-07-20T17:13:06.936639Z",
     "shell.execute_reply.started": "2021-07-20T17:13:06.875094Z"
    },
    "tags": []
   },
   "outputs": [],
   "source": [
    "with open ('../data/output/examples/20110427/processed/jsonResponse_time_sum_schoolsfema.json','w') as fp:\n",
    "    json.dump(jsonResponse, fp)"
   ]
  },
  {
   "cell_type": "code",
   "execution_count": null,
   "id": "rental-andorra",
   "metadata": {},
   "outputs": [],
   "source": []
  }
 ],
 "metadata": {
  "kernelspec": {
   "display_name": "Python 3",
   "language": "python",
   "name": "python3"
  },
  "language_info": {
   "codemirror_mode": {
    "name": "ipython",
    "version": 3
   },
   "file_extension": ".py",
   "mimetype": "text/x-python",
   "name": "python",
   "nbconvert_exporter": "python",
   "pygments_lexer": "ipython3",
   "version": "3.8.8"
  }
 },
 "nbformat": 4,
 "nbformat_minor": 5
}

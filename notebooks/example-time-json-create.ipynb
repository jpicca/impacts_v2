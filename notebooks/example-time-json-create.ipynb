{
 "cells": [
  {
   "cell_type": "markdown",
   "id": "graduate-router",
   "metadata": {},
   "source": [
    "The purpose of this notebook is to create example json files (similar to however a backend API would be serving data) for the time matrix to be in the next version of the IMPACTS dashboard."
   ]
  },
  {
   "cell_type": "code",
   "execution_count": 2,
   "id": "important-healthcare",
   "metadata": {},
   "outputs": [],
   "source": [
    "import pathlib\n",
    "import glob\n",
    "import os\n",
    "\n",
    "import argparse\n",
    "import geojson\n",
    "import pandas as pd\n",
    "import json\n",
    "import random\n",
    "\n",
    "from datetime import datetime, timedelta"
   ]
  },
  {
   "cell_type": "code",
   "execution_count": 3,
   "id": "induced-coast",
   "metadata": {},
   "outputs": [],
   "source": [
    "# Helper array for day indexing\n",
    "aggregateMonths = [0, 31, 60, 91, 121, 152, 182, 213, 244, 274, 305, 335]\n",
    "nsims = 10000"
   ]
  },
  {
   "cell_type": "code",
   "execution_count": 4,
   "id": "distributed-database",
   "metadata": {},
   "outputs": [],
   "source": [
    "jsonResponse = []"
   ]
  },
  {
   "cell_type": "code",
   "execution_count": 5,
   "id": "bearing-brass",
   "metadata": {},
   "outputs": [],
   "source": [
    "# Read in example psv\n",
    "file = '../data/output/examples/20210428124600.psv.gz'\n",
    "df = pd.read_csv(file, sep=\"|\")"
   ]
  },
  {
   "cell_type": "code",
   "execution_count": 6,
   "id": "colonial-valuation",
   "metadata": {},
   "outputs": [
    {
     "data": {
      "text/plain": [
       "<AxesSubplot:>"
      ]
     },
     "execution_count": 6,
     "metadata": {},
     "output_type": "execute_result"
    },
    {
     "data": {
      "image/png": "[encoded data removed]",
      "text/plain": [
       "<Figure size 432x288 with 1 Axes>"
      ]
     },
     "metadata": {
      "needs_background": "light"
     },
     "output_type": "display_data"
    }
   ],
   "source": [
    "df['time'].hist(bins=8)"
   ]
  },
  {
   "cell_type": "markdown",
   "id": "tender-adrian",
   "metadata": {},
   "source": [
    "### Binning"
   ]
  },
  {
   "cell_type": "code",
   "execution_count": 16,
   "id": "herbal-assumption",
   "metadata": {},
   "outputs": [],
   "source": [
    "bin_labels = ['00-03','03-06','06-09','09-12','12-15','15-18','18-21','21-00']\n",
    "# lower bound is not inclusive, so we shift the thresholds one to the left\n",
    "cut_bins = [-1,2,5,8,11,14,17,20,23]\n",
    "\n",
    "# Add the hour bins to the original dataframe\n",
    "df['hourBins'] = pd.cut(df['time'], bins=cut_bins, labels=bin_labels)"
   ]
  },
  {
   "cell_type": "code",
   "execution_count": 51,
   "id": "forty-shipping",
   "metadata": {},
   "outputs": [],
   "source": [
    "# Group by simulation and hour bin and sum our population in each group\n",
    "grouped = df.groupby(['sim','hourBins']).agg({'population': ['sum'], 'hospitals': ['sum'],\n",
    "                                             'psubstations': ['sum'], 'mobilehomes': ['sum']})\n",
    "\n",
    "# Move the indices to columns and pivot the sim column back to the index, then ensure we have 10000 sims in the df by reindexing\n",
    "formatted = grouped.reset_index().pivot(index='sim',columns='hourBins').reindex(list(range(1,10001)),fill_value=0)\n",
    "\n",
    "# Get the stats\n",
    "hourBinStats_All = formatted.describe(percentiles=[0.1,0.5,0.9]).loc[['10%','50%','90%']]\n",
    "hourBinStats_All.rename(index={'10%':'0.1','50%':'0.5','90%':'0.9'},inplace=True)\n"
   ]
  },
  {
   "cell_type": "code",
   "execution_count": 52,
   "id": "affecting-episode",
   "metadata": {},
   "outputs": [
    {
     "data": {
      "text/html": [
       "<div>\n",
       "<style scoped>\n",
       "    .dataframe tbody tr th:only-of-type {\n",
       "        vertical-align: middle;\n",
       "    }\n",
       "\n",
       "    .dataframe tbody tr th {\n",
       "        vertical-align: top;\n",
       "    }\n",
       "\n",
       "    .dataframe thead tr th {\n",
       "        text-align: left;\n",
       "    }\n",
       "</style>\n",
       "<table border=\"1\" class=\"dataframe\">\n",
       "  <thead>\n",
       "    <tr>\n",
       "      <th></th>\n",
       "      <th colspan=\"8\" halign=\"left\">population</th>\n",
       "      <th colspan=\"2\" halign=\"left\">hospitals</th>\n",
       "      <th>...</th>\n",
       "      <th colspan=\"2\" halign=\"left\">psubstations</th>\n",
       "      <th colspan=\"8\" halign=\"left\">mobilehomes</th>\n",
       "    </tr>\n",
       "    <tr>\n",
       "      <th></th>\n",
       "      <th colspan=\"8\" halign=\"left\">sum</th>\n",
       "      <th colspan=\"2\" halign=\"left\">sum</th>\n",
       "      <th>...</th>\n",
       "      <th colspan=\"2\" halign=\"left\">sum</th>\n",
       "      <th colspan=\"8\" halign=\"left\">sum</th>\n",
       "    </tr>\n",
       "    <tr>\n",
       "      <th>hourBins</th>\n",
       "      <th>00-03</th>\n",
       "      <th>03-06</th>\n",
       "      <th>06-09</th>\n",
       "      <th>09-12</th>\n",
       "      <th>12-15</th>\n",
       "      <th>15-18</th>\n",
       "      <th>18-21</th>\n",
       "      <th>21-00</th>\n",
       "      <th>00-03</th>\n",
       "      <th>03-06</th>\n",
       "      <th>...</th>\n",
       "      <th>18-21</th>\n",
       "      <th>21-00</th>\n",
       "      <th>00-03</th>\n",
       "      <th>03-06</th>\n",
       "      <th>06-09</th>\n",
       "      <th>09-12</th>\n",
       "      <th>12-15</th>\n",
       "      <th>15-18</th>\n",
       "      <th>18-21</th>\n",
       "      <th>21-00</th>\n",
       "    </tr>\n",
       "  </thead>\n",
       "  <tbody>\n",
       "    <tr>\n",
       "      <th>0.1</th>\n",
       "      <td>0.0</td>\n",
       "      <td>0.0</td>\n",
       "      <td>0.0</td>\n",
       "      <td>0.0</td>\n",
       "      <td>0.0</td>\n",
       "      <td>0.0</td>\n",
       "      <td>0.0</td>\n",
       "      <td>0.0</td>\n",
       "      <td>0.0</td>\n",
       "      <td>0.0</td>\n",
       "      <td>...</td>\n",
       "      <td>0.0</td>\n",
       "      <td>0.0</td>\n",
       "      <td>0.0</td>\n",
       "      <td>0.0</td>\n",
       "      <td>0.0</td>\n",
       "      <td>0.0</td>\n",
       "      <td>0.0</td>\n",
       "      <td>0.0</td>\n",
       "      <td>0.0</td>\n",
       "      <td>0.0</td>\n",
       "    </tr>\n",
       "    <tr>\n",
       "      <th>0.5</th>\n",
       "      <td>608.0</td>\n",
       "      <td>16.0</td>\n",
       "      <td>0.0</td>\n",
       "      <td>0.0</td>\n",
       "      <td>0.0</td>\n",
       "      <td>0.0</td>\n",
       "      <td>0.0</td>\n",
       "      <td>608.0</td>\n",
       "      <td>0.0</td>\n",
       "      <td>0.0</td>\n",
       "      <td>...</td>\n",
       "      <td>0.0</td>\n",
       "      <td>0.0</td>\n",
       "      <td>0.0</td>\n",
       "      <td>0.0</td>\n",
       "      <td>0.0</td>\n",
       "      <td>0.0</td>\n",
       "      <td>0.0</td>\n",
       "      <td>0.0</td>\n",
       "      <td>0.0</td>\n",
       "      <td>0.0</td>\n",
       "    </tr>\n",
       "    <tr>\n",
       "      <th>0.9</th>\n",
       "      <td>13958.4</td>\n",
       "      <td>3284.8</td>\n",
       "      <td>433.6</td>\n",
       "      <td>0.0</td>\n",
       "      <td>0.0</td>\n",
       "      <td>320.0</td>\n",
       "      <td>2977.6</td>\n",
       "      <td>10720.0</td>\n",
       "      <td>0.0</td>\n",
       "      <td>0.0</td>\n",
       "      <td>...</td>\n",
       "      <td>1.0</td>\n",
       "      <td>3.0</td>\n",
       "      <td>100.0</td>\n",
       "      <td>0.0</td>\n",
       "      <td>0.0</td>\n",
       "      <td>0.0</td>\n",
       "      <td>0.0</td>\n",
       "      <td>0.0</td>\n",
       "      <td>0.0</td>\n",
       "      <td>75.0</td>\n",
       "    </tr>\n",
       "  </tbody>\n",
       "</table>\n",
       "<p>3 rows × 32 columns</p>\n",
       "</div>"
      ],
      "text/plain": [
       "         population                                                     \\\n",
       "                sum                                                      \n",
       "hourBins      00-03   03-06  06-09 09-12 12-15  15-18   18-21    21-00   \n",
       "0.1             0.0     0.0    0.0   0.0   0.0    0.0     0.0      0.0   \n",
       "0.5           608.0    16.0    0.0   0.0   0.0    0.0     0.0    608.0   \n",
       "0.9         13958.4  3284.8  433.6   0.0   0.0  320.0  2977.6  10720.0   \n",
       "\n",
       "         hospitals        ... psubstations       mobilehomes              \\\n",
       "               sum        ...          sum               sum               \n",
       "hourBins     00-03 03-06  ...        18-21 21-00       00-03 03-06 06-09   \n",
       "0.1            0.0   0.0  ...          0.0   0.0         0.0   0.0   0.0   \n",
       "0.5            0.0   0.0  ...          0.0   0.0         0.0   0.0   0.0   \n",
       "0.9            0.0   0.0  ...          1.0   3.0       100.0   0.0   0.0   \n",
       "\n",
       "                                        \n",
       "                                        \n",
       "hourBins 09-12 12-15 15-18 18-21 21-00  \n",
       "0.1        0.0   0.0   0.0   0.0   0.0  \n",
       "0.5        0.0   0.0   0.0   0.0   0.0  \n",
       "0.9        0.0   0.0   0.0   0.0  75.0  \n",
       "\n",
       "[3 rows x 32 columns]"
      ]
     },
     "execution_count": 52,
     "metadata": {},
     "output_type": "execute_result"
    }
   ],
   "source": [
    "hourBinStats_All"
   ]
  },
  {
   "cell_type": "markdown",
   "id": "atlantic-dakota",
   "metadata": {},
   "source": [
    "### No Binning"
   ]
  },
  {
   "cell_type": "code",
   "execution_count": 53,
   "id": "surprising-drink",
   "metadata": {},
   "outputs": [],
   "source": [
    "grouped_nb = df.groupby(['sim','time']).agg({'population': ['sum'], 'hospitals': ['sum'],\n",
    "                                             'psubstations': ['sum'], 'mobilehomes': ['sum']})"
   ]
  },
  {
   "cell_type": "code",
   "execution_count": 54,
   "id": "applied-force",
   "metadata": {},
   "outputs": [],
   "source": [
    "# Move the indices to columns and pivot the sim column back to the index, then ensure we have 10000 sims in the df by reindexing\n",
    "formatted_nb = grouped_nb.reset_index().pivot(index='sim',columns='time').reindex(list(range(1,10001)),fill_value=0)"
   ]
  },
  {
   "cell_type": "code",
   "execution_count": 57,
   "id": "operating-world",
   "metadata": {},
   "outputs": [],
   "source": [
    "formatted_nb.fillna(0,inplace=True)\n",
    "\n",
    "# Get the stats\n",
    "hourBinStats_nb = formatted_nb.describe(percentiles=[0.1,0.5,0.9]).loc[['10%','50%','90%']]\n",
    "hourBinStats_nb.rename(index={'10%':'0.1','50%':'0.5','90%':'0.9'},inplace=True)"
   ]
  },
  {
   "cell_type": "code",
   "execution_count": 58,
   "id": "sporting-popularity",
   "metadata": {},
   "outputs": [
    {
     "data": {
      "text/html": [
       "<div>\n",
       "<style scoped>\n",
       "    .dataframe tbody tr th:only-of-type {\n",
       "        vertical-align: middle;\n",
       "    }\n",
       "\n",
       "    .dataframe tbody tr th {\n",
       "        vertical-align: top;\n",
       "    }\n",
       "\n",
       "    .dataframe thead tr th {\n",
       "        text-align: left;\n",
       "    }\n",
       "</style>\n",
       "<table border=\"1\" class=\"dataframe\">\n",
       "  <thead>\n",
       "    <tr>\n",
       "      <th></th>\n",
       "      <th colspan=\"10\" halign=\"left\">population</th>\n",
       "      <th>...</th>\n",
       "      <th colspan=\"10\" halign=\"left\">mobilehomes</th>\n",
       "    </tr>\n",
       "    <tr>\n",
       "      <th></th>\n",
       "      <th colspan=\"10\" halign=\"left\">sum</th>\n",
       "      <th>...</th>\n",
       "      <th colspan=\"10\" halign=\"left\">sum</th>\n",
       "    </tr>\n",
       "    <tr>\n",
       "      <th>time</th>\n",
       "      <th>0</th>\n",
       "      <th>1</th>\n",
       "      <th>2</th>\n",
       "      <th>3</th>\n",
       "      <th>4</th>\n",
       "      <th>5</th>\n",
       "      <th>6</th>\n",
       "      <th>7</th>\n",
       "      <th>8</th>\n",
       "      <th>9</th>\n",
       "      <th>...</th>\n",
       "      <th>14</th>\n",
       "      <th>15</th>\n",
       "      <th>16</th>\n",
       "      <th>17</th>\n",
       "      <th>18</th>\n",
       "      <th>19</th>\n",
       "      <th>20</th>\n",
       "      <th>21</th>\n",
       "      <th>22</th>\n",
       "      <th>23</th>\n",
       "    </tr>\n",
       "  </thead>\n",
       "  <tbody>\n",
       "    <tr>\n",
       "      <th>0.1</th>\n",
       "      <td>0.0</td>\n",
       "      <td>0.0</td>\n",
       "      <td>0.0</td>\n",
       "      <td>0.0</td>\n",
       "      <td>0.0</td>\n",
       "      <td>0.0</td>\n",
       "      <td>0.0</td>\n",
       "      <td>0.0</td>\n",
       "      <td>0.0</td>\n",
       "      <td>0.0</td>\n",
       "      <td>...</td>\n",
       "      <td>0.0</td>\n",
       "      <td>0.0</td>\n",
       "      <td>0.0</td>\n",
       "      <td>0.0</td>\n",
       "      <td>0.0</td>\n",
       "      <td>0.0</td>\n",
       "      <td>0.0</td>\n",
       "      <td>0.0</td>\n",
       "      <td>0.0</td>\n",
       "      <td>0.0</td>\n",
       "    </tr>\n",
       "    <tr>\n",
       "      <th>0.5</th>\n",
       "      <td>16.0</td>\n",
       "      <td>0.0</td>\n",
       "      <td>0.0</td>\n",
       "      <td>0.0</td>\n",
       "      <td>0.0</td>\n",
       "      <td>0.0</td>\n",
       "      <td>0.0</td>\n",
       "      <td>0.0</td>\n",
       "      <td>0.0</td>\n",
       "      <td>0.0</td>\n",
       "      <td>...</td>\n",
       "      <td>0.0</td>\n",
       "      <td>0.0</td>\n",
       "      <td>0.0</td>\n",
       "      <td>0.0</td>\n",
       "      <td>0.0</td>\n",
       "      <td>0.0</td>\n",
       "      <td>0.0</td>\n",
       "      <td>0.0</td>\n",
       "      <td>0.0</td>\n",
       "      <td>0.0</td>\n",
       "    </tr>\n",
       "    <tr>\n",
       "      <th>0.9</th>\n",
       "      <td>3569.6</td>\n",
       "      <td>3569.6</td>\n",
       "      <td>1376.0</td>\n",
       "      <td>944.0</td>\n",
       "      <td>496.0</td>\n",
       "      <td>192.0</td>\n",
       "      <td>64.0</td>\n",
       "      <td>0.0</td>\n",
       "      <td>0.0</td>\n",
       "      <td>0.0</td>\n",
       "      <td>...</td>\n",
       "      <td>0.0</td>\n",
       "      <td>0.0</td>\n",
       "      <td>0.0</td>\n",
       "      <td>0.0</td>\n",
       "      <td>0.0</td>\n",
       "      <td>0.0</td>\n",
       "      <td>0.0</td>\n",
       "      <td>0.0</td>\n",
       "      <td>0.0</td>\n",
       "      <td>0.0</td>\n",
       "    </tr>\n",
       "  </tbody>\n",
       "</table>\n",
       "<p>3 rows × 96 columns</p>\n",
       "</div>"
      ],
      "text/plain": [
       "     population                                                            \\\n",
       "            sum                                                             \n",
       "time         0       1       2      3      4      5     6    7    8    9    \n",
       "0.1         0.0     0.0     0.0    0.0    0.0    0.0   0.0  0.0  0.0  0.0   \n",
       "0.5        16.0     0.0     0.0    0.0    0.0    0.0   0.0  0.0  0.0  0.0   \n",
       "0.9      3569.6  3569.6  1376.0  944.0  496.0  192.0  64.0  0.0  0.0  0.0   \n",
       "\n",
       "      ... mobilehomes                                               \n",
       "      ...         sum                                               \n",
       "time  ...          14   15   16   17   18   19   20   21   22   23  \n",
       "0.1   ...         0.0  0.0  0.0  0.0  0.0  0.0  0.0  0.0  0.0  0.0  \n",
       "0.5   ...         0.0  0.0  0.0  0.0  0.0  0.0  0.0  0.0  0.0  0.0  \n",
       "0.9   ...         0.0  0.0  0.0  0.0  0.0  0.0  0.0  0.0  0.0  0.0  \n",
       "\n",
       "[3 rows x 96 columns]"
      ]
     },
     "execution_count": 58,
     "metadata": {},
     "output_type": "execute_result"
    }
   ],
   "source": [
    "hourBinStats_nb"
   ]
  },
  {
   "cell_type": "code",
   "execution_count": null,
   "id": "blessed-panama",
   "metadata": {},
   "outputs": [],
   "source": []
  },
  {
   "cell_type": "code",
   "execution_count": 42,
   "id": "static-pioneer",
   "metadata": {},
   "outputs": [],
   "source": [
    "nationalResponse = {\n",
    "    'Location': 'National',\n",
    "    'Type': 'National',\n",
    "    'Timing': {}\n",
    "}"
   ]
  },
  {
   "cell_type": "code",
   "execution_count": 43,
   "id": "visible-adobe",
   "metadata": {},
   "outputs": [],
   "source": [
    "impacts = ['population','hospitals','mobilehomes','psubstations']"
   ]
  },
  {
   "cell_type": "code",
   "execution_count": 44,
   "id": "living-gothic",
   "metadata": {},
   "outputs": [],
   "source": [
    "for name in impacts:\n",
    "    nationalResponse['Timing'][name] = {}\n",
    "    \n",
    "    for hourBin in hourBinStats_All[name]['sum'].columns:\n",
    "        \n",
    "        nationalResponse['Timing'][name][hourBin] = {}\n",
    "        \n",
    "        for quant in hourBinStats_All[name]['sum'].index:\n",
    "            \n",
    "            nationalResponse['Timing'][name][hourBin][quant] = \\\n",
    "                int(hourBinStats_All[name]['sum'].loc[quant,hourBin])"
   ]
  },
  {
   "cell_type": "code",
   "execution_count": 46,
   "id": "administrative-gross",
   "metadata": {},
   "outputs": [],
   "source": [
    "jsonResponse.append(nationalResponse)"
   ]
  },
  {
   "cell_type": "markdown",
   "id": "equipped-article",
   "metadata": {},
   "source": [
    "### States"
   ]
  },
  {
   "cell_type": "markdown",
   "id": "forward-happiness",
   "metadata": {},
   "source": [
    "### CWAs"
   ]
  },
  {
   "cell_type": "code",
   "execution_count": 48,
   "id": "weekly-description",
   "metadata": {},
   "outputs": [],
   "source": [
    "with open ('../data/output/examples/jsonResponse_time.json','w') as fp:\n",
    "    json.dump(jsonResponse, fp)"
   ]
  },
  {
   "cell_type": "code",
   "execution_count": 49,
   "id": "competitive-conditions",
   "metadata": {},
   "outputs": [
    {
     "data": {
      "text/plain": [
       "[{'Location': 'National',\n",
       "  'Type': 'National',\n",
       "  'Timing': {'population': {'00-03': {'0.1': 0, '0.5': 608, '0.9': 13958},\n",
       "    '03-06': {'0.1': 0, '0.5': 16, '0.9': 3284},\n",
       "    '06-09': {'0.1': 0, '0.5': 0, '0.9': 433},\n",
       "    '09-12': {'0.1': 0, '0.5': 0, '0.9': 0},\n",
       "    '12-15': {'0.1': 0, '0.5': 0, '0.9': 0},\n",
       "    '15-18': {'0.1': 0, '0.5': 0, '0.9': 320},\n",
       "    '18-21': {'0.1': 0, '0.5': 0, '0.9': 2977},\n",
       "    '21-00': {'0.1': 0, '0.5': 608, '0.9': 10720}},\n",
       "   'hospitals': {'00-03': {'0.1': 0, '0.5': 0, '0.9': 0},\n",
       "    '03-06': {'0.1': 0, '0.5': 0, '0.9': 0},\n",
       "    '06-09': {'0.1': 0, '0.5': 0, '0.9': 0},\n",
       "    '09-12': {'0.1': 0, '0.5': 0, '0.9': 0},\n",
       "    '12-15': {'0.1': 0, '0.5': 0, '0.9': 0},\n",
       "    '15-18': {'0.1': 0, '0.5': 0, '0.9': 0},\n",
       "    '18-21': {'0.1': 0, '0.5': 0, '0.9': 0},\n",
       "    '21-00': {'0.1': 0, '0.5': 0, '0.9': 0}},\n",
       "   'mobilehomes': {'00-03': {'0.1': 0, '0.5': 0, '0.9': 100},\n",
       "    '03-06': {'0.1': 0, '0.5': 0, '0.9': 0},\n",
       "    '06-09': {'0.1': 0, '0.5': 0, '0.9': 0},\n",
       "    '09-12': {'0.1': 0, '0.5': 0, '0.9': 0},\n",
       "    '12-15': {'0.1': 0, '0.5': 0, '0.9': 0},\n",
       "    '15-18': {'0.1': 0, '0.5': 0, '0.9': 0},\n",
       "    '18-21': {'0.1': 0, '0.5': 0, '0.9': 0},\n",
       "    '21-00': {'0.1': 0, '0.5': 0, '0.9': 75}},\n",
       "   'psubstations': {'00-03': {'0.1': 0, '0.5': 0, '0.9': 3},\n",
       "    '03-06': {'0.1': 0, '0.5': 0, '0.9': 1},\n",
       "    '06-09': {'0.1': 0, '0.5': 0, '0.9': 0},\n",
       "    '09-12': {'0.1': 0, '0.5': 0, '0.9': 0},\n",
       "    '12-15': {'0.1': 0, '0.5': 0, '0.9': 0},\n",
       "    '15-18': {'0.1': 0, '0.5': 0, '0.9': 0},\n",
       "    '18-21': {'0.1': 0, '0.5': 0, '0.9': 1},\n",
       "    '21-00': {'0.1': 0, '0.5': 0, '0.9': 3}}}}]"
      ]
     },
     "execution_count": 49,
     "metadata": {},
     "output_type": "execute_result"
    }
   ],
   "source": [
    "jsonResponse"
   ]
  },
  {
   "cell_type": "code",
   "execution_count": null,
   "id": "compatible-reality",
   "metadata": {},
   "outputs": [],
   "source": []
  }
 ],
 "metadata": {
  "kernelspec": {
   "display_name": "Python 3",
   "language": "python",
   "name": "python3"
  },
  "language_info": {
   "codemirror_mode": {
    "name": "ipython",
    "version": 3
   },
   "file_extension": ".py",
   "mimetype": "text/x-python",
   "name": "python",
   "nbconvert_exporter": "python",
   "pygments_lexer": "ipython3",
   "version": "3.8.8"
  }
 },
 "nbformat": 4,
 "nbformat_minor": 5
}

{
 "cells": [
  {
   "cell_type": "markdown",
   "metadata": {},
   "source": [
    "#### Use this notebook to perform the re-analysis / generation of PP forecasts on tornadoes back to 1950"
   ]
  },
  {
   "cell_type": "code",
   "execution_count": 2,
   "metadata": {},
   "outputs": [],
   "source": [
    "import skimage.morphology as skmorph\n",
    "import os\n",
    "import datetime as dt\n",
    "import numpy as np\n",
    "import pandas as pd\n",
    "import scipy.ndimage as ndimage"
   ]
  },
  {
   "cell_type": "code",
   "execution_count": 4,
   "metadata": {},
   "outputs": [],
   "source": [
    "from pygridder import pygridder as pgrid\n",
    "import pathlib"
   ]
  },
  {
   "cell_type": "markdown",
   "metadata": {},
   "source": [
    "Variables"
   ]
  },
  {
   "cell_type": "code",
   "execution_count": 6,
   "metadata": {},
   "outputs": [],
   "source": [
    "dx = 5 # delta x\n",
    "selem = skmorph.disk(40 / dx) # morphology disk"
   ]
  },
  {
   "cell_type": "markdown",
   "metadata": {},
   "source": [
    "Load NDFD file"
   ]
  },
  {
   "cell_type": "code",
   "execution_count": 7,
   "metadata": {},
   "outputs": [],
   "source": [
    "#ndfd_path = pathlib.Path('..','..','impacts-data','pas-input-data','ndfd.npz').resolve()\n",
    "ndfd_path = pathlib.Path('../scripts/impacts-data/pas-input-data/ndfd.npz').resolve()"
   ]
  },
  {
   "cell_type": "code",
   "execution_count": 9,
   "metadata": {},
   "outputs": [],
   "source": [
    "with np.load(ndfd_path) as NPZ:\n",
    "    lons = NPZ['lons']\n",
    "    lats = NPZ['lats']"
   ]
  },
  {
   "cell_type": "markdown",
   "metadata": {},
   "source": [
    "Make dat Gridder"
   ]
  },
  {
   "cell_type": "code",
   "execution_count": 10,
   "metadata": {},
   "outputs": [],
   "source": [
    "G = pgrid.Gridder(tx=lons, ty=lats, dx=dx/100)"
   ]
  },
  {
   "cell_type": "markdown",
   "metadata": {},
   "source": [
    "Read data"
   ]
  },
  {
   "cell_type": "code",
   "execution_count": 11,
   "metadata": {},
   "outputs": [],
   "source": [
    "dateparser = lambda x: dt.datetime.strptime(x, '%Y-%m-%d %H:%M:%S') + dt.timedelta(hours=6)"
   ]
  },
  {
   "cell_type": "code",
   "execution_count": 12,
   "metadata": {},
   "outputs": [],
   "source": [
    "data_path = pathlib.Path('../../../gen-assets/1950-2019_tors_CONUS.csv')\n",
    "#data_path = pathlib.Path('..','raw-tor-data','1950-2018_actual_tornadoes.csv')"
   ]
  },
  {
   "cell_type": "code",
   "execution_count": 13,
   "metadata": {},
   "outputs": [],
   "source": [
    "df = pd.read_csv(data_path, parse_dates=[['date','time']], date_parser=dateparser, index_col=0, keep_date_col=True)"
   ]
  },
  {
   "cell_type": "code",
   "execution_count": 17,
   "metadata": {},
   "outputs": [],
   "source": [
    "df = df[df.sg == 1]\n",
    "df = df.reset_index()\n",
    "#df.iloc[5:50,:]"
   ]
  },
  {
   "cell_type": "code",
   "execution_count": 41,
   "metadata": {},
   "outputs": [],
   "source": [
    "all_di = {0: 0.0, 1: 1.0, 2: 1.0, 3: 1.0, 4: 1.0, 5: 1.0}\n",
    "sig_di = {0: 0.0, 1: 0.0, 2: 1.0, 3: 1.0, 4: 1.0, 5: 1.0}\n",
    "df['all_weight'] = df['mag'].map(all_di).fillna(df['mag'])\n",
    "df['sig_weight'] = df['mag'].map(sig_di).fillna(df['mag'])"
   ]
  },
  {
   "cell_type": "markdown",
   "metadata": {},
   "source": [
    "Outlook Times"
   ]
  },
  {
   "cell_type": "code",
   "execution_count": 42,
   "metadata": {},
   "outputs": [],
   "source": [
    "outlook_time = '1200'"
   ]
  },
  {
   "cell_type": "code",
   "execution_count": 43,
   "metadata": {},
   "outputs": [],
   "source": [
    "# Create date array\n",
    "my_hour = dt.datetime.strptime(outlook_time, '%H%M').hour\n",
    "my_minute = dt.datetime.strptime(outlook_time, '%H%M').minute\n",
    "\n",
    "bdt = dt.datetime(1950,1,1,my_hour,my_minute)\n",
    "edt = dt.datetime(2019,12,31,my_hour,my_minute)\n",
    "\n",
    "# Create list index of datetimes with a frequency of one per day\n",
    "dts = pd.date_range(bdt, edt, freq='D')\n",
    "bdts, edts = dts[:-1],dts[1:]"
   ]
  },
  {
   "cell_type": "code",
   "execution_count": 44,
   "metadata": {},
   "outputs": [],
   "source": [
    "edts = edts.map(lambda x: x.replace(hour=12,minute=0))"
   ]
  },
  {
   "cell_type": "markdown",
   "metadata": {},
   "source": [
    "### Testing single days"
   ]
  },
  {
   "cell_type": "code",
   "execution_count": 45,
   "metadata": {},
   "outputs": [],
   "source": [
    "bdt = dt.datetime(2011,4,27,12,0)\n",
    "edt = dt.datetime(2011,4,28,12,0)"
   ]
  },
  {
   "cell_type": "code",
   "execution_count": 46,
   "metadata": {},
   "outputs": [],
   "source": [
    "_df = df[(df['date_time'] >= bdt) & (df['date_time'] < edt) & (df['weight'] == 1.0)]\n",
    "# if _df.empty:\n",
    "#     continue\n",
    "# print(f'From {bdt:%Y-%m-%d %H%M}z to {edt:%Y-%m-%d %H%M}z')\n",
    "\n",
    "lon1 = _df.slon.values\n",
    "lat1 = _df.slat.values\n",
    "lon2 = _df.elon.values\n",
    "lat2 = _df.elat.values\n",
    "\n",
    "# Find/remove/replace missing data\n",
    "keep = ~np.logical_or(lon1 == 0, lat1 == 0)\n",
    "lon1 = lon1[keep]\n",
    "lat1 = lat1[keep]\n",
    "lon2 = lon2[keep]\n",
    "lat2 = lat2[keep]\n",
    "lon2[lon2 == 0] = lon1[lon2 == 0]\n",
    "lat2[lat2 == 0] = lat1[lat2 == 0]\n",
    "\n",
    "# Grid tornadoes\n",
    "tornlines = G.grid_lines(sxs=lon1, sys=lat1, exs=lon2, eys=lat2)\n",
    "all_mags = _df['all_weight']\n",
    "sig_mags = _df['sig_weight']\n",
    "all_fcst = G.make_empty_grid(dtype='float')\n",
    "sig_fcst = G.make_empty_grid(dtype='float')\n",
    "\n",
    "for tornline, all_mag, sig_mag in zip(tornlines, all_mags, sig_mags):\n",
    "    all_fcst[tornline] = all_mag\n",
    "    sig_fcst[tornline] = sig_mag\n",
    "    \n",
    "# Make practically perfect forecast\n",
    "all_fcst = skmorph.binary_dilation(all_fcst, selem).astype(float)\n",
    "sig_fcst = skmorph.binary_dilation(sig_fcst, selem).astype(float)\n",
    "\n",
    "#print(np.max(fcst))\n",
    "all_fcst = ndimage.gaussian_filter(all_fcst, 120/dx)\n",
    "sig_fcst = ndimage.gaussian_filter(sig_fcst, 120/dx)\n",
    "\n",
    "# Degrade continuous probs into SPC prob\n",
    "# Uncomment if regular probs\n",
    "all_fcst[all_fcst < 0.02] = 0\n",
    "all_fcst[np.logical_and(all_fcst < 0.05, all_fcst >= 0.02)] = 0.02\n",
    "all_fcst[np.logical_and(all_fcst < 0.10, all_fcst >= 0.05)] = 0.05\n",
    "all_fcst[np.logical_and(all_fcst < 0.15, all_fcst >= 0.10)] = 0.10\n",
    "all_fcst[np.logical_and(all_fcst < 0.30, all_fcst >= 0.15)] = 0.15\n",
    "all_fcst[np.logical_and(all_fcst < 0.45, all_fcst >= 0.30)] = 0.30\n",
    "all_fcst[all_fcst >= 0.45] = 0.45\n",
    "\n",
    "# Uncomment if sigtor probs\n",
    "sig_fcst[sig_fcst < 0.10] = 0\n",
    "sig_fcst[sig_fcst >= 0.10] = 0.10"
   ]
  },
  {
   "cell_type": "code",
   "execution_count": 55,
   "metadata": {},
   "outputs": [],
   "source": [
    "np.savez_compressed('test.npz', all_fcst=all_fcst, sig_fcst=sig_fcst)"
   ]
  },
  {
   "cell_type": "code",
   "execution_count": null,
   "metadata": {},
   "outputs": [],
   "source": []
  },
  {
   "cell_type": "code",
   "execution_count": null,
   "metadata": {},
   "outputs": [],
   "source": []
  },
  {
   "cell_type": "code",
   "execution_count": null,
   "metadata": {},
   "outputs": [],
   "source": []
  },
  {
   "cell_type": "code",
   "execution_count": null,
   "metadata": {},
   "outputs": [],
   "source": []
  },
  {
   "cell_type": "markdown",
   "metadata": {},
   "source": [
    "### Looping through tornado days"
   ]
  },
  {
   "cell_type": "code",
   "execution_count": 25,
   "metadata": {},
   "outputs": [],
   "source": [
    "for bdt, edt in zip(bdts[:],edts[:]):\n",
    "    _df = df[(df['date_time'] >= bdt) & (df['date_time'] < edt) & (df['weight'] == 1.0)]\n",
    "    if _df.empty:\n",
    "        continue\n",
    "    # print(f'From {bdt:%Y-%m-%d %H%M}z to {edt:%Y-%m-%d %H%M}z')\n",
    "    \n",
    "    lon1 = _df.slon.values\n",
    "    lat1 = _df.slat.values\n",
    "    lon2 = _df.elon.values\n",
    "    lat2 = _df.elat.values\n",
    "    \n",
    "    # Find/remove/replace missing data\n",
    "    keep = ~np.logical_or(lon1 == 0, lat1 == 0)\n",
    "    lon1 = lon1[keep]\n",
    "    lat1 = lat1[keep]\n",
    "    lon2 = lon2[keep]\n",
    "    lat2 = lat2[keep]\n",
    "    lon2[lon2 == 0] = lon1[lon2 == 0]\n",
    "    lat2[lat2 == 0] = lat1[lat2 == 0]\n",
    "    \n",
    "    # Grid tornadoes\n",
    "    tornlines = G.grid_lines(sxs=lon1, sys=lat1, exs=lon2, eys=lat2)\n",
    "    mags = _df['weight']\n",
    "    fcst = G.make_empty_grid(dtype='float')\n",
    "    for tornline, mag in zip(tornlines, mags):\n",
    "        fcst[tornline] = mag\n",
    "        \n",
    "    # Make practically perfect forecast\n",
    "    fcst = skmorph.binary_dilation(fcst, selem).astype(float)\n",
    "    #print(np.max(fcst))\n",
    "    fcst = ndimage.gaussian_filter(fcst, 120/dx)\n",
    "    \n",
    "    # Degrade continuous probs into SPC prob\n",
    "    # Uncomment if regular probs\n",
    "    #fcst[fcst < 0.02] = 0\n",
    "    #fcst[np.logical_and(fcst < 0.05, fcst >= 0.02)] = 0.02\n",
    "    #fcst[np.logical_and(fcst < 0.10, fcst >= 0.05)] = 0.05\n",
    "    #fcst[np.logical_and(fcst < 0.15, fcst >= 0.10)] = 0.10\n",
    "    #fcst[np.logical_and(fcst < 0.30, fcst >= 0.15)] = 0.15\n",
    "    #fcst[np.logical_and(fcst < 0.45, fcst >= 0.30)] = 0.30\n",
    "    #fcst[fcst >= 0.45] = 0.45\n",
    "    \n",
    "    # Uncomment if sigtor probs\n",
    "    fcst[fcst < 0.10] = 0\n",
    "    fcst[fcst >= 0.10] = 0.10\n",
    "    \n",
    "    # Save PP forecast\n",
    "    if outlook_time == '1200':\n",
    "        outfile = pathlib.Path('pp_forecasts','sigProbs',f'{bdt:%Y%m%d_0600}.npz')\n",
    "    else:    \n",
    "        outfile = pathlib.Path('pp_forecasts','sigProbs',f'{bdt:%Y%m%d_%H%M}.npz')\n",
    "    np.savez_compressed(outfile, fcst=fcst)"
   ]
  },
  {
   "cell_type": "code",
   "execution_count": null,
   "metadata": {},
   "outputs": [],
   "source": []
  },
  {
   "cell_type": "code",
   "execution_count": null,
   "metadata": {},
   "outputs": [],
   "source": []
  },
  {
   "cell_type": "code",
   "execution_count": null,
   "metadata": {},
   "outputs": [],
   "source": []
  },
  {
   "cell_type": "code",
   "execution_count": null,
   "metadata": {},
   "outputs": [],
   "source": []
  },
  {
   "cell_type": "markdown",
   "metadata": {},
   "source": [
    "### Playtime"
   ]
  },
  {
   "cell_type": "code",
   "execution_count": 38,
   "metadata": {},
   "outputs": [
    {
     "data": {
      "text/plain": [
       "True"
      ]
     },
     "execution_count": 38,
     "metadata": {},
     "output_type": "execute_result"
    }
   ],
   "source": [
    "~np.logical_or([True, False],[False, False])"
   ]
  },
  {
   "cell_type": "code",
   "execution_count": 39,
   "metadata": {},
   "outputs": [],
   "source": [
    "import matplotlib.pyplot as plt\n",
    "import cartopy.crs as ccrs"
   ]
  },
  {
   "cell_type": "code",
   "execution_count": 50,
   "metadata": {},
   "outputs": [
    {
     "data": {
      "text/plain": [
       "<cartopy.mpl.contour.GeoContourSet at 0x7fbc12cdea00>"
      ]
     },
     "execution_count": 50,
     "metadata": {},
     "output_type": "execute_result"
    },
    {
     "data": {
      "image/png": "[encoded data removed]",
      "text/plain": [
       "<Figure size 432x288 with 1 Axes>"
      ]
     },
     "metadata": {
      "needs_background": "light"
     },
     "output_type": "display_data"
    }
   ],
   "source": [
    "#pp = np.load('../pp_forecasts/regProbs/20110427_1630.npz')\n",
    " \n",
    "\n",
    "ax1 = plt.axes(projection=ccrs.LambertConformal())\n",
    "ax1.coastlines()\n",
    "ax1.contour(lons, lats, sig_fcst,transform=ccrs.PlateCarree())"
   ]
  },
  {
   "cell_type": "code",
   "execution_count": 80,
   "metadata": {},
   "outputs": [
    {
     "data": {
      "text/plain": [
       "<cartopy.mpl.contour.GeoContourSet at 0x13e652e90>"
      ]
     },
     "execution_count": 80,
     "metadata": {},
     "output_type": "execute_result"
    },
    {
     "data": {
      "image/png": "[encoded data removed]",
      "text/plain": [
       "<Figure size 432x288 with 1 Axes>"
      ]
     },
     "metadata": {
      "needs_background": "light"
     },
     "output_type": "display_data"
    }
   ],
   "source": [
    "pp = np.load('../pp_forecasts/sigProbs/19990503_1630.npz')\n",
    "\n",
    "ax1 = plt.axes(projection=ccrs.LambertConformal())\n",
    "ax1.coastlines()\n",
    "ax1.contour(lons, lats, pp['fcst'],transform=ccrs.PlateCarree())"
   ]
  },
  {
   "cell_type": "code",
   "execution_count": 64,
   "metadata": {},
   "outputs": [
    {
     "data": {
      "text/plain": [
       "array([0. , 0.1])"
      ]
     },
     "execution_count": 64,
     "metadata": {},
     "output_type": "execute_result"
    }
   ],
   "source": [
    "np.unique(pp['fcst'])"
   ]
  },
  {
   "cell_type": "code",
   "execution_count": 28,
   "metadata": {},
   "outputs": [],
   "source": [
    "import pygrib as pg"
   ]
  },
  {
   "cell_type": "code",
   "execution_count": 29,
   "metadata": {},
   "outputs": [],
   "source": [
    "ndfd_string = '/Users/josephpicca/Downloads/ds.ptornado.bin'\n",
    "ndfd_file = pathlib.Path(ndfd_string) "
   ]
  },
  {
   "cell_type": "code",
   "execution_count": 33,
   "metadata": {},
   "outputs": [],
   "source": [
    "with pg.open(ndfd_file.as_posix()) as GRB:\n",
    "    try:\n",
    "        vals = GRB[1].values.filled(-1)\n",
    "    except:\n",
    "        print('poop')"
   ]
  },
  {
   "cell_type": "code",
   "execution_count": 11,
   "metadata": {},
   "outputs": [
    {
     "data": {
      "text/plain": [
       "0.0"
      ]
     },
     "execution_count": 11,
     "metadata": {},
     "output_type": "execute_result"
    }
   ],
   "source": [
    "np.max(pp['fcst'])"
   ]
  },
  {
   "cell_type": "code",
   "execution_count": 23,
   "metadata": {},
   "outputs": [
    {
     "data": {
      "text/html": [
       "<div>\n",
       "<style scoped>\n",
       "    .dataframe tbody tr th:only-of-type {\n",
       "        vertical-align: middle;\n",
       "    }\n",
       "\n",
       "    .dataframe tbody tr th {\n",
       "        vertical-align: top;\n",
       "    }\n",
       "\n",
       "    .dataframe thead th {\n",
       "        text-align: right;\n",
       "    }\n",
       "</style>\n",
       "<table border=\"1\" class=\"dataframe\">\n",
       "  <thead>\n",
       "    <tr style=\"text-align: right;\">\n",
       "      <th></th>\n",
       "      <th>om</th>\n",
       "      <th>yr</th>\n",
       "      <th>mo</th>\n",
       "      <th>dy</th>\n",
       "      <th>date</th>\n",
       "      <th>time</th>\n",
       "      <th>tz</th>\n",
       "      <th>st</th>\n",
       "      <th>stf</th>\n",
       "      <th>stn</th>\n",
       "      <th>...</th>\n",
       "      <th>len</th>\n",
       "      <th>wid</th>\n",
       "      <th>ns</th>\n",
       "      <th>sn</th>\n",
       "      <th>sg</th>\n",
       "      <th>f1</th>\n",
       "      <th>f2</th>\n",
       "      <th>f3</th>\n",
       "      <th>f4</th>\n",
       "      <th>fc</th>\n",
       "    </tr>\n",
       "  </thead>\n",
       "  <tbody>\n",
       "    <tr>\n",
       "      <th>0</th>\n",
       "      <td>1</td>\n",
       "      <td>1950</td>\n",
       "      <td>1</td>\n",
       "      <td>3</td>\n",
       "      <td>1950-01-03</td>\n",
       "      <td>11:00:00</td>\n",
       "      <td>3</td>\n",
       "      <td>MO</td>\n",
       "      <td>29</td>\n",
       "      <td>1</td>\n",
       "      <td>...</td>\n",
       "      <td>9.50</td>\n",
       "      <td>150</td>\n",
       "      <td>2</td>\n",
       "      <td>0</td>\n",
       "      <td>1</td>\n",
       "      <td>0</td>\n",
       "      <td>0</td>\n",
       "      <td>0</td>\n",
       "      <td>0</td>\n",
       "      <td>0</td>\n",
       "    </tr>\n",
       "    <tr>\n",
       "      <th>1</th>\n",
       "      <td>2</td>\n",
       "      <td>1950</td>\n",
       "      <td>1</td>\n",
       "      <td>3</td>\n",
       "      <td>1950-01-03</td>\n",
       "      <td>11:55:00</td>\n",
       "      <td>3</td>\n",
       "      <td>IL</td>\n",
       "      <td>17</td>\n",
       "      <td>2</td>\n",
       "      <td>...</td>\n",
       "      <td>3.60</td>\n",
       "      <td>130</td>\n",
       "      <td>1</td>\n",
       "      <td>1</td>\n",
       "      <td>1</td>\n",
       "      <td>135</td>\n",
       "      <td>0</td>\n",
       "      <td>0</td>\n",
       "      <td>0</td>\n",
       "      <td>0</td>\n",
       "    </tr>\n",
       "    <tr>\n",
       "      <th>2</th>\n",
       "      <td>3</td>\n",
       "      <td>1950</td>\n",
       "      <td>1</td>\n",
       "      <td>3</td>\n",
       "      <td>1950-01-03</td>\n",
       "      <td>16:00:00</td>\n",
       "      <td>3</td>\n",
       "      <td>OH</td>\n",
       "      <td>39</td>\n",
       "      <td>1</td>\n",
       "      <td>...</td>\n",
       "      <td>0.10</td>\n",
       "      <td>10</td>\n",
       "      <td>1</td>\n",
       "      <td>1</td>\n",
       "      <td>1</td>\n",
       "      <td>161</td>\n",
       "      <td>0</td>\n",
       "      <td>0</td>\n",
       "      <td>0</td>\n",
       "      <td>0</td>\n",
       "    </tr>\n",
       "    <tr>\n",
       "      <th>3</th>\n",
       "      <td>4</td>\n",
       "      <td>1950</td>\n",
       "      <td>1</td>\n",
       "      <td>13</td>\n",
       "      <td>1950-01-13</td>\n",
       "      <td>05:25:00</td>\n",
       "      <td>3</td>\n",
       "      <td>AR</td>\n",
       "      <td>5</td>\n",
       "      <td>1</td>\n",
       "      <td>...</td>\n",
       "      <td>0.60</td>\n",
       "      <td>17</td>\n",
       "      <td>1</td>\n",
       "      <td>1</td>\n",
       "      <td>1</td>\n",
       "      <td>113</td>\n",
       "      <td>0</td>\n",
       "      <td>0</td>\n",
       "      <td>0</td>\n",
       "      <td>0</td>\n",
       "    </tr>\n",
       "    <tr>\n",
       "      <th>4</th>\n",
       "      <td>5</td>\n",
       "      <td>1950</td>\n",
       "      <td>1</td>\n",
       "      <td>25</td>\n",
       "      <td>1950-01-25</td>\n",
       "      <td>19:30:00</td>\n",
       "      <td>3</td>\n",
       "      <td>MO</td>\n",
       "      <td>29</td>\n",
       "      <td>2</td>\n",
       "      <td>...</td>\n",
       "      <td>2.30</td>\n",
       "      <td>300</td>\n",
       "      <td>1</td>\n",
       "      <td>1</td>\n",
       "      <td>1</td>\n",
       "      <td>93</td>\n",
       "      <td>0</td>\n",
       "      <td>0</td>\n",
       "      <td>0</td>\n",
       "      <td>0</td>\n",
       "    </tr>\n",
       "    <tr>\n",
       "      <th>...</th>\n",
       "      <td>...</td>\n",
       "      <td>...</td>\n",
       "      <td>...</td>\n",
       "      <td>...</td>\n",
       "      <td>...</td>\n",
       "      <td>...</td>\n",
       "      <td>...</td>\n",
       "      <td>...</td>\n",
       "      <td>...</td>\n",
       "      <td>...</td>\n",
       "      <td>...</td>\n",
       "      <td>...</td>\n",
       "      <td>...</td>\n",
       "      <td>...</td>\n",
       "      <td>...</td>\n",
       "      <td>...</td>\n",
       "      <td>...</td>\n",
       "      <td>...</td>\n",
       "      <td>...</td>\n",
       "      <td>...</td>\n",
       "      <td>...</td>\n",
       "    </tr>\n",
       "    <tr>\n",
       "      <th>63640</th>\n",
       "      <td>617020</td>\n",
       "      <td>2018</td>\n",
       "      <td>12</td>\n",
       "      <td>27</td>\n",
       "      <td>2018-12-27</td>\n",
       "      <td>10:15:00</td>\n",
       "      <td>3</td>\n",
       "      <td>LA</td>\n",
       "      <td>22</td>\n",
       "      <td>0</td>\n",
       "      <td>...</td>\n",
       "      <td>0.60</td>\n",
       "      <td>25</td>\n",
       "      <td>1</td>\n",
       "      <td>1</td>\n",
       "      <td>1</td>\n",
       "      <td>1</td>\n",
       "      <td>0</td>\n",
       "      <td>0</td>\n",
       "      <td>0</td>\n",
       "      <td>0</td>\n",
       "    </tr>\n",
       "    <tr>\n",
       "      <th>63641</th>\n",
       "      <td>617021</td>\n",
       "      <td>2018</td>\n",
       "      <td>12</td>\n",
       "      <td>27</td>\n",
       "      <td>2018-12-27</td>\n",
       "      <td>10:29:00</td>\n",
       "      <td>3</td>\n",
       "      <td>MS</td>\n",
       "      <td>28</td>\n",
       "      <td>0</td>\n",
       "      <td>...</td>\n",
       "      <td>1.29</td>\n",
       "      <td>100</td>\n",
       "      <td>1</td>\n",
       "      <td>1</td>\n",
       "      <td>1</td>\n",
       "      <td>163</td>\n",
       "      <td>0</td>\n",
       "      <td>0</td>\n",
       "      <td>0</td>\n",
       "      <td>0</td>\n",
       "    </tr>\n",
       "    <tr>\n",
       "      <th>63642</th>\n",
       "      <td>617022</td>\n",
       "      <td>2018</td>\n",
       "      <td>12</td>\n",
       "      <td>31</td>\n",
       "      <td>2018-12-31</td>\n",
       "      <td>12:35:00</td>\n",
       "      <td>3</td>\n",
       "      <td>KY</td>\n",
       "      <td>21</td>\n",
       "      <td>0</td>\n",
       "      <td>...</td>\n",
       "      <td>0.76</td>\n",
       "      <td>125</td>\n",
       "      <td>1</td>\n",
       "      <td>1</td>\n",
       "      <td>1</td>\n",
       "      <td>221</td>\n",
       "      <td>0</td>\n",
       "      <td>0</td>\n",
       "      <td>0</td>\n",
       "      <td>0</td>\n",
       "    </tr>\n",
       "    <tr>\n",
       "      <th>63643</th>\n",
       "      <td>617023</td>\n",
       "      <td>2018</td>\n",
       "      <td>12</td>\n",
       "      <td>31</td>\n",
       "      <td>2018-12-31</td>\n",
       "      <td>13:43:00</td>\n",
       "      <td>3</td>\n",
       "      <td>IN</td>\n",
       "      <td>18</td>\n",
       "      <td>0</td>\n",
       "      <td>...</td>\n",
       "      <td>2.01</td>\n",
       "      <td>50</td>\n",
       "      <td>1</td>\n",
       "      <td>1</td>\n",
       "      <td>1</td>\n",
       "      <td>147</td>\n",
       "      <td>0</td>\n",
       "      <td>0</td>\n",
       "      <td>0</td>\n",
       "      <td>0</td>\n",
       "    </tr>\n",
       "    <tr>\n",
       "      <th>63644</th>\n",
       "      <td>617024</td>\n",
       "      <td>2018</td>\n",
       "      <td>12</td>\n",
       "      <td>31</td>\n",
       "      <td>2018-12-31</td>\n",
       "      <td>14:38:00</td>\n",
       "      <td>3</td>\n",
       "      <td>IN</td>\n",
       "      <td>18</td>\n",
       "      <td>0</td>\n",
       "      <td>...</td>\n",
       "      <td>2.20</td>\n",
       "      <td>140</td>\n",
       "      <td>1</td>\n",
       "      <td>1</td>\n",
       "      <td>1</td>\n",
       "      <td>61</td>\n",
       "      <td>0</td>\n",
       "      <td>0</td>\n",
       "      <td>0</td>\n",
       "      <td>0</td>\n",
       "    </tr>\n",
       "  </tbody>\n",
       "</table>\n",
       "<p>63645 rows × 29 columns</p>\n",
       "</div>"
      ],
      "text/plain": [
       "           om    yr  mo  dy        date      time  tz  st  stf  stn  ...  \\\n",
       "0           1  1950   1   3  1950-01-03  11:00:00   3  MO   29    1  ...   \n",
       "1           2  1950   1   3  1950-01-03  11:55:00   3  IL   17    2  ...   \n",
       "2           3  1950   1   3  1950-01-03  16:00:00   3  OH   39    1  ...   \n",
       "3           4  1950   1  13  1950-01-13  05:25:00   3  AR    5    1  ...   \n",
       "4           5  1950   1  25  1950-01-25  19:30:00   3  MO   29    2  ...   \n",
       "...       ...   ...  ..  ..         ...       ...  ..  ..  ...  ...  ...   \n",
       "63640  617020  2018  12  27  2018-12-27  10:15:00   3  LA   22    0  ...   \n",
       "63641  617021  2018  12  27  2018-12-27  10:29:00   3  MS   28    0  ...   \n",
       "63642  617022  2018  12  31  2018-12-31  12:35:00   3  KY   21    0  ...   \n",
       "63643  617023  2018  12  31  2018-12-31  13:43:00   3  IN   18    0  ...   \n",
       "63644  617024  2018  12  31  2018-12-31  14:38:00   3  IN   18    0  ...   \n",
       "\n",
       "        len  wid  ns  sn  sg   f1  f2  f3  f4  fc  \n",
       "0      9.50  150   2   0   1    0   0   0   0   0  \n",
       "1      3.60  130   1   1   1  135   0   0   0   0  \n",
       "2      0.10   10   1   1   1  161   0   0   0   0  \n",
       "3      0.60   17   1   1   1  113   0   0   0   0  \n",
       "4      2.30  300   1   1   1   93   0   0   0   0  \n",
       "...     ...  ...  ..  ..  ..  ...  ..  ..  ..  ..  \n",
       "63640  0.60   25   1   1   1    1   0   0   0   0  \n",
       "63641  1.29  100   1   1   1  163   0   0   0   0  \n",
       "63642  0.76  125   1   1   1  221   0   0   0   0  \n",
       "63643  2.01   50   1   1   1  147   0   0   0   0  \n",
       "63644  2.20  140   1   1   1   61   0   0   0   0  \n",
       "\n",
       "[63645 rows x 29 columns]"
      ]
     },
     "execution_count": 23,
     "metadata": {},
     "output_type": "execute_result"
    }
   ],
   "source": [
    "df = pd.read_csv(data_path)\n",
    "df"
   ]
  },
  {
   "cell_type": "markdown",
   "metadata": {},
   "source": [
    "### Collecting Tors in Double Sig Area"
   ]
  },
  {
   "cell_type": "code",
   "execution_count": 52,
   "metadata": {},
   "outputs": [],
   "source": [
    "G = Gridder(tx=lons, ty=lats, dx=dx/100)"
   ]
  },
  {
   "cell_type": "code",
   "execution_count": 53,
   "metadata": {},
   "outputs": [],
   "source": [
    "fcst = G.make_empty_grid(dtype='float')"
   ]
  },
  {
   "cell_type": "markdown",
   "metadata": {},
   "source": [
    "For each tornado, make a grid, then mask the grid with the sig tor PP forecast.\n",
    "If the tornado remains, then append its magnitude to a list"
   ]
  },
  {
   "cell_type": "code",
   "execution_count": 54,
   "metadata": {},
   "outputs": [],
   "source": [
    "di = {0: 1.0, 1: 1.0, 2: 1.0, 3: 1.0, 4: 1.0, 5: 1.0}\n",
    "df['weight'] = df['mag'].map(di).fillna(df['mag'])"
   ]
  },
  {
   "cell_type": "code",
   "execution_count": 55,
   "metadata": {},
   "outputs": [],
   "source": [
    "outlook_time = '1200'"
   ]
  },
  {
   "cell_type": "code",
   "execution_count": 81,
   "metadata": {},
   "outputs": [],
   "source": [
    "# Create date array\n",
    "my_hour = dt.datetime.strptime(outlook_time, '%H%M').hour\n",
    "my_minute = dt.datetime.strptime(outlook_time, '%H%M').minute\n",
    "\n",
    "bdt = dt.datetime(1999,5,3,my_hour,my_minute)\n",
    "edt = dt.datetime(1999,5,4,my_hour,my_minute)\n",
    "\n",
    "# Create list index of datetimes with a frequency of one per day\n",
    "dts = pd.date_range(bdt, edt, freq='D')\n",
    "bdts, edts = dts[:-1],dts[1:]"
   ]
  },
  {
   "cell_type": "code",
   "execution_count": 82,
   "metadata": {},
   "outputs": [],
   "source": [
    "edts = edts.map(lambda x: x.replace(hour=12,minute=0))"
   ]
  },
  {
   "cell_type": "code",
   "execution_count": 84,
   "metadata": {},
   "outputs": [],
   "source": [
    "double_sig_tors = []\n",
    "\n",
    "for bdt, edt in zip(bdts[:],edts[:]):\n",
    "    _df = df[(df['date_time'] >= bdt) & (df['date_time'] < edt) & (df['weight'] == 1.0)]\n",
    "    if _df.empty:\n",
    "        continue\n",
    "    # print(f'From {bdt:%Y-%m-%d %H%M}z to {edt:%Y-%m-%d %H%M}z')\n",
    "    \n",
    "    lon1 = _df.slon.values\n",
    "    lat1 = _df.slat.values\n",
    "    lon2 = _df.elon.values\n",
    "    lat2 = _df.elat.values\n",
    "    \n",
    "    # Find/remove/replace missing data\n",
    "    keep = ~np.logical_or(lon1 == 0, lat1 == 0)\n",
    "    lon1 = lon1[keep]\n",
    "    lat1 = lat1[keep]\n",
    "    lon2 = lon2[keep]\n",
    "    lat2 = lat2[keep]\n",
    "    lon2[lon2 == 0] = lon1[lon2 == 0]\n",
    "    lat2[lat2 == 0] = lat1[lat2 == 0]\n",
    "    \n",
    "    for i in range(len(lat1)):\n",
    "        # Grid tornadoes\n",
    "        tornlines = G.grid_lines(sxs=lon1[i], sys=lat1[i], exs=lon2[i], eys=lat2[i])\n",
    "        mags = _df['weight']\n",
    "        fcst = G.make_empty_grid(dtype='float')\n",
    "        for tornline, mag in zip(tornlines, mags):\n",
    "            fcst[tornline] = mag\n",
    "        \n",
    "        if (np.max(np.ma.masked_where(pp['fcst']<0.05,fcst)) > 0):\n",
    "        #if (np.max(np.ma.masked_where(vals<0.05,fcst)) > 0):\n",
    "            double_sig_tors.append(i)\n",
    "    \n",
    "    \n",
    "    '''\n",
    "    # Make practically perfect forecast\n",
    "    fcst = skmorph.binary_dilation(fcst, selem).astype(float)\n",
    "    #print(np.max(fcst))\n",
    "    fcst = ndimage.gaussian_filter(fcst, 120/dx)\n",
    "    \n",
    "    # Degrade continuous probs into SPC prob\n",
    "    # Uncomment if regular probs\n",
    "    #fcst[fcst < 0.02] = 0\n",
    "    #fcst[np.logical_and(fcst < 0.05, fcst >= 0.02)] = 0.02\n",
    "    #fcst[np.logical_and(fcst < 0.10, fcst >= 0.05)] = 0.05\n",
    "    #fcst[np.logical_and(fcst < 0.15, fcst >= 0.10)] = 0.10\n",
    "    #fcst[np.logical_and(fcst < 0.30, fcst >= 0.15)] = 0.15\n",
    "    #fcst[np.logical_and(fcst < 0.45, fcst >= 0.30)] = 0.30\n",
    "    #fcst[fcst >= 0.45] = 0.45\n",
    "    \n",
    "    # Uncomment if sigtor probs\n",
    "    fcst[fcst < 0.10] = 0\n",
    "    fcst[fcst >= 0.10] = 0.10\n",
    "    \n",
    "    # Save PP forecast\n",
    "    if outlook_time == '1200':\n",
    "        outfile = pathlib.Path('pp_forecasts','sigProbs',f'{bdt:%Y%m%d_0600}.npz')\n",
    "    else:    \n",
    "        outfile = pathlib.Path('pp_forecasts','sigProbs',f'{bdt:%Y%m%d_%H%M}.npz')\n",
    "    np.savez_compressed(outfile, fcst=fcst)'''"
   ]
  },
  {
   "cell_type": "code",
   "execution_count": 94,
   "metadata": {},
   "outputs": [],
   "source": [
    "may31999 = _df.iloc[double_sig_tors,:].groupby('mag').count()['weight']/len(double_sig_tors)"
   ]
  },
  {
   "cell_type": "markdown",
   "metadata": {},
   "source": [
    "*Aggregating the tornado ratings*"
   ]
  },
  {
   "cell_type": "markdown",
   "metadata": {},
   "source": [
    "- 27 April 2011: apr272011\n",
    "- 11 April 1965: apr111965\n",
    "- 3 April 1974: apr31974\n",
    "- 31 May 1985: may311985\n",
    "- 3 May 1999: may31999"
   ]
  },
  {
   "cell_type": "markdown",
   "metadata": {},
   "source": [
    "Get the average rating distribution of these five events"
   ]
  },
  {
   "cell_type": "code",
   "execution_count": 96,
   "metadata": {},
   "outputs": [
    {
     "data": {
      "text/plain": [
       "mag\n",
       "0    0.194284\n",
       "1    0.245682\n",
       "2    0.170749\n",
       "3    0.171552\n",
       "4    0.189548\n",
       "5    0.028185\n",
       "Name: weight, dtype: float64"
      ]
     },
     "execution_count": 96,
     "metadata": {},
     "output_type": "execute_result"
    }
   ],
   "source": [
    "apr272011.add(apr111965.add(apr31974.add(may311985.add(may31999,fill_value=0),fill_value=0),fill_value=0),fill_value = 0)/5"
   ]
  },
  {
   "cell_type": "code",
   "execution_count": 4,
   "metadata": {},
   "outputs": [],
   "source": [
    "import pygrib as pg"
   ]
  },
  {
   "cell_type": "code",
   "execution_count": 5,
   "metadata": {},
   "outputs": [],
   "source": [
    "ndfd_string = '../../sampleinputs/sigtorn_day1_grib2_1200_20110427061047'\n",
    "tor_file = pathlib.Path(ndfd_string) "
   ]
  },
  {
   "cell_type": "code",
   "execution_count": 6,
   "metadata": {},
   "outputs": [],
   "source": [
    "with pg.open(tor_file.as_posix()) as GRB:\n",
    "    try:\n",
    "        vals = GRB[1].values.filled(-1)\n",
    "    except AttributeError:\n",
    "        vals = GRB[1].values\n",
    "        \n",
    "    lats,lons = GRB[1].latlons()"
   ]
  },
  {
   "cell_type": "code",
   "execution_count": 7,
   "metadata": {},
   "outputs": [
    {
     "data": {
      "text/plain": [
       "<cartopy.mpl.contour.GeoContourSet at 0x13c90f050>"
      ]
     },
     "execution_count": 7,
     "metadata": {},
     "output_type": "execute_result"
    },
    {
     "data": {
      "image/png": "[encoded data removed]",
      "text/plain": [
       "<Figure size 432x288 with 1 Axes>"
      ]
     },
     "metadata": {
      "needs_background": "light"
     },
     "output_type": "display_data"
    }
   ],
   "source": [
    "ax1 = plt.axes(projection=ccrs.LambertConformal())\n",
    "ax1.coastlines()\n",
    "ax1.contour(lons, lats, vals,transform=ccrs.PlateCarree())"
   ]
  },
  {
   "cell_type": "code",
   "execution_count": 21,
   "metadata": {},
   "outputs": [
    {
     "data": {
      "text/plain": [
       "10.0"
      ]
     },
     "execution_count": 21,
     "metadata": {},
     "output_type": "execute_result"
    }
   ],
   "source": [
    "np.max(vals)"
   ]
  },
  {
   "cell_type": "code",
   "execution_count": 101,
   "metadata": {},
   "outputs": [
    {
     "data": {
      "text/plain": [
       "array([0.48, 0.22, 0.3 ])"
      ]
     },
     "execution_count": 101,
     "metadata": {},
     "output_type": "execute_result"
    }
   ],
   "source": [
    "(np.array([.5,.2,.3])*14 + np.array([.2,.5,.3]))/15"
   ]
  },
  {
   "cell_type": "code",
   "execution_count": null,
   "metadata": {},
   "outputs": [],
   "source": []
  }
 ],
 "metadata": {
  "kernelspec": {
   "display_name": "Python 3",
   "language": "python",
   "name": "python3"
  },
  "language_info": {
   "codemirror_mode": {
    "name": "ipython",
    "version": 3
   },
   "file_extension": ".py",
   "mimetype": "text/x-python",
   "name": "python",
   "nbconvert_exporter": "python",
   "pygments_lexer": "ipython3",
   "version": "3.8.8"
  }
 },
 "nbformat": 4,
 "nbformat_minor": 4
}
